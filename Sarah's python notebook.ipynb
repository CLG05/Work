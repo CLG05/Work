{
 "cells": [
  {
   "cell_type": "code",
   "execution_count": 2,
   "id": "953de553",
   "metadata": {},
   "outputs": [
    {
     "data": {
      "text/plain": [
       "4"
      ]
     },
     "execution_count": 2,
     "metadata": {},
     "output_type": "execute_result"
    }
   ],
   "source": [
    "# comment\n",
    "2 + 2"
   ]
  },
  {
   "cell_type": "markdown",
   "id": "fd02c788",
   "metadata": {},
   "source": [
    "# This is a markdown language\n",
    "## This is a markdown language\n",
    "### This is a markdown language"
   ]
  },
  {
   "cell_type": "code",
   "execution_count": 5,
   "id": "4e03cdb8",
   "metadata": {},
   "outputs": [
    {
     "ename": "SyntaxError",
     "evalue": "invalid syntax (291775448.py, line 1)",
     "output_type": "error",
     "traceback": [
      "\u001b[1;36m  Cell \u001b[1;32mIn[5], line 1\u001b[1;36m\u001b[0m\n\u001b[1;33m    my python\u001b[0m\n\u001b[1;37m       ^\u001b[0m\n\u001b[1;31mSyntaxError\u001b[0m\u001b[1;31m:\u001b[0m invalid syntax\n"
     ]
    }
   ],
   "source": [
    "my python"
   ]
  },
  {
   "cell_type": "code",
   "execution_count": 11,
   "id": "23d023be",
   "metadata": {},
   "outputs": [
    {
     "ename": "NameError",
     "evalue": "name 'helloworld' is not defined",
     "output_type": "error",
     "traceback": [
      "\u001b[1;31m---------------------------------------------------------------------------\u001b[0m",
      "\u001b[1;31mNameError\u001b[0m                                 Traceback (most recent call last)",
      "Cell \u001b[1;32mIn[11], line 1\u001b[0m\n\u001b[1;32m----> 1\u001b[0m \u001b[38;5;28mprint\u001b[39m(helloworld)\n",
      "\u001b[1;31mNameError\u001b[0m: name 'helloworld' is not defined"
     ]
    }
   ],
   "source": [
    "print(helloworld)"
   ]
  },
  {
   "cell_type": "code",
   "execution_count": 7,
   "id": "50a2f551",
   "metadata": {},
   "outputs": [
    {
     "name": "stdout",
     "output_type": "stream",
     "text": [
      "234\n"
     ]
    }
   ],
   "source": [
    "print(234)"
   ]
  },
  {
   "cell_type": "code",
   "execution_count": 8,
   "id": "6c3d2e09",
   "metadata": {},
   "outputs": [
    {
     "data": {
      "text/plain": [
       "'Frank'"
      ]
     },
     "execution_count": 8,
     "metadata": {},
     "output_type": "execute_result"
    }
   ],
   "source": [
    "'Frank'"
   ]
  },
  {
   "cell_type": "code",
   "execution_count": 12,
   "id": "895b1b73",
   "metadata": {},
   "outputs": [
    {
     "ename": "NameError",
     "evalue": "name 'frank' is not defined",
     "output_type": "error",
     "traceback": [
      "\u001b[1;31m---------------------------------------------------------------------------\u001b[0m",
      "\u001b[1;31mNameError\u001b[0m                                 Traceback (most recent call last)",
      "Cell \u001b[1;32mIn[12], line 1\u001b[0m\n\u001b[1;32m----> 1\u001b[0m frank\n",
      "\u001b[1;31mNameError\u001b[0m: name 'frank' is not defined"
     ]
    }
   ],
   "source": [
    "'frank'"
   ]
  },
  {
   "cell_type": "markdown",
   "id": "80272f15",
   "metadata": {},
   "source": [
    "## Variables"
   ]
  },
  {
   "cell_type": "code",
   "execution_count": 40,
   "id": "b5707043",
   "metadata": {},
   "outputs": [
    {
     "name": "stdout",
     "output_type": "stream",
     "text": [
      "ugwu frank\n"
     ]
    }
   ],
   "source": [
    "# variable are containers used to hold values\n",
    "\n",
    "name = \"ugwu frank\"\n",
    "print(name)"
   ]
  },
  {
   "cell_type": "code",
   "execution_count": 39,
   "id": "6183b31b",
   "metadata": {},
   "outputs": [
    {
     "data": {
      "text/plain": [
       "'ugwu frank'"
      ]
     },
     "execution_count": 39,
     "metadata": {},
     "output_type": "execute_result"
    }
   ],
   "source": [
    "name"
   ]
  },
  {
   "cell_type": "code",
   "execution_count": 20,
   "id": "c4199b10",
   "metadata": {},
   "outputs": [
    {
     "name": "stdout",
     "output_type": "stream",
     "text": [
      "ugwu frank\n",
      "4\n",
      "ugwu frank is my name\n"
     ]
    }
   ],
   "source": [
    "print(name)\n",
    "print(2 + 2)\n",
    "print(name , \"is my name\")"
   ]
  },
  {
   "cell_type": "code",
   "execution_count": 19,
   "id": "15004e06",
   "metadata": {},
   "outputs": [
    {
     "data": {
      "text/plain": [
       "'ugwu frank'"
      ]
     },
     "execution_count": 19,
     "metadata": {},
     "output_type": "execute_result"
    }
   ],
   "source": [
    "name\n",
    "name\n",
    "name"
   ]
  },
  {
   "cell_type": "code",
   "execution_count": 24,
   "id": "42238f4e",
   "metadata": {},
   "outputs": [],
   "source": [
    "cohort = \"june\""
   ]
  },
  {
   "cell_type": "code",
   "execution_count": 25,
   "id": "3c384780",
   "metadata": {},
   "outputs": [
    {
     "data": {
      "text/plain": [
       "'june'"
      ]
     },
     "execution_count": 25,
     "metadata": {},
     "output_type": "execute_result"
    }
   ],
   "source": [
    "cohort"
   ]
  },
  {
   "cell_type": "code",
   "execution_count": 27,
   "id": "20f69a97",
   "metadata": {},
   "outputs": [
    {
     "ename": "NameError",
     "evalue": "name 'Name' is not defined",
     "output_type": "error",
     "traceback": [
      "\u001b[1;31m---------------------------------------------------------------------------\u001b[0m",
      "\u001b[1;31mNameError\u001b[0m                                 Traceback (most recent call last)",
      "Cell \u001b[1;32mIn[27], line 1\u001b[0m\n\u001b[1;32m----> 1\u001b[0m Name\n",
      "\u001b[1;31mNameError\u001b[0m: name 'Name' is not defined"
     ]
    }
   ],
   "source": [
    "Name"
   ]
  },
  {
   "cell_type": "code",
   "execution_count": 28,
   "id": "745f45ce",
   "metadata": {},
   "outputs": [
    {
     "ename": "NameError",
     "evalue": "name 'coHort' is not defined",
     "output_type": "error",
     "traceback": [
      "\u001b[1;31m---------------------------------------------------------------------------\u001b[0m",
      "\u001b[1;31mNameError\u001b[0m                                 Traceback (most recent call last)",
      "Cell \u001b[1;32mIn[28], line 1\u001b[0m\n\u001b[1;32m----> 1\u001b[0m coHort\n",
      "\u001b[1;31mNameError\u001b[0m: name 'coHort' is not defined"
     ]
    }
   ],
   "source": [
    "coHort"
   ]
  },
  {
   "cell_type": "code",
   "execution_count": 29,
   "id": "aeee2794",
   "metadata": {},
   "outputs": [],
   "source": [
    "Name = 'UGWU FRANK'"
   ]
  },
  {
   "cell_type": "code",
   "execution_count": 30,
   "id": "a754b509",
   "metadata": {},
   "outputs": [],
   "source": [
    "coHort = 'JUNE'"
   ]
  },
  {
   "cell_type": "code",
   "execution_count": 31,
   "id": "8165ccdd",
   "metadata": {},
   "outputs": [
    {
     "name": "stdout",
     "output_type": "stream",
     "text": [
      "ugwu frank\n",
      "UGWU FRANK\n"
     ]
    }
   ],
   "source": [
    "print(name)\n",
    "print(Name)"
   ]
  },
  {
   "cell_type": "code",
   "execution_count": 33,
   "id": "88653920",
   "metadata": {},
   "outputs": [
    {
     "name": "stdout",
     "output_type": "stream",
     "text": [
      "JUNE\n"
     ]
    }
   ],
   "source": [
    "print(coHort)"
   ]
  },
  {
   "cell_type": "code",
   "execution_count": 41,
   "id": "2fdd825c",
   "metadata": {},
   "outputs": [],
   "source": [
    "value1 = 234\n",
    "value2 = 234.5\n",
    "value3 = True\n",
    "value4 = \"Hello world!\""
   ]
  },
  {
   "cell_type": "code",
   "execution_count": 42,
   "id": "ad0ddfa9",
   "metadata": {},
   "outputs": [
    {
     "data": {
      "text/plain": [
       "234"
      ]
     },
     "execution_count": 42,
     "metadata": {},
     "output_type": "execute_result"
    }
   ],
   "source": [
    "value1"
   ]
  },
  {
   "cell_type": "code",
   "execution_count": 43,
   "id": "22748793",
   "metadata": {},
   "outputs": [
    {
     "data": {
      "text/plain": [
       "234.5"
      ]
     },
     "execution_count": 43,
     "metadata": {},
     "output_type": "execute_result"
    }
   ],
   "source": [
    "value2"
   ]
  },
  {
   "cell_type": "code",
   "execution_count": 44,
   "id": "8b9577d9",
   "metadata": {},
   "outputs": [
    {
     "data": {
      "text/plain": [
       "True"
      ]
     },
     "execution_count": 44,
     "metadata": {},
     "output_type": "execute_result"
    }
   ],
   "source": [
    "value3"
   ]
  },
  {
   "cell_type": "code",
   "execution_count": 45,
   "id": "9b005b2a",
   "metadata": {},
   "outputs": [
    {
     "data": {
      "text/plain": [
       "'Hello world!'"
      ]
     },
     "execution_count": 45,
     "metadata": {},
     "output_type": "execute_result"
    }
   ],
   "source": [
    "value4"
   ]
  },
  {
   "cell_type": "code",
   "execution_count": 46,
   "id": "c1a8d398",
   "metadata": {},
   "outputs": [
    {
     "data": {
      "text/plain": [
       "int"
      ]
     },
     "execution_count": 46,
     "metadata": {},
     "output_type": "execute_result"
    }
   ],
   "source": [
    "type(value1)"
   ]
  },
  {
   "cell_type": "code",
   "execution_count": 47,
   "id": "3147e2f7",
   "metadata": {},
   "outputs": [
    {
     "data": {
      "text/plain": [
       "float"
      ]
     },
     "execution_count": 47,
     "metadata": {},
     "output_type": "execute_result"
    }
   ],
   "source": [
    "type(value2)"
   ]
  },
  {
   "cell_type": "code",
   "execution_count": 48,
   "id": "9592db09",
   "metadata": {},
   "outputs": [
    {
     "data": {
      "text/plain": [
       "bool"
      ]
     },
     "execution_count": 48,
     "metadata": {},
     "output_type": "execute_result"
    }
   ],
   "source": [
    "type(value3)"
   ]
  },
  {
   "cell_type": "code",
   "execution_count": 49,
   "id": "8e0b7624",
   "metadata": {},
   "outputs": [
    {
     "data": {
      "text/plain": [
       "str"
      ]
     },
     "execution_count": 49,
     "metadata": {},
     "output_type": "execute_result"
    }
   ],
   "source": [
    "type(value4)"
   ]
  },
  {
   "cell_type": "code",
   "execution_count": 51,
   "id": "0707777e",
   "metadata": {},
   "outputs": [],
   "source": [
    "dapp = str(value1)"
   ]
  },
  {
   "cell_type": "code",
   "execution_count": 54,
   "id": "b29fffcc",
   "metadata": {},
   "outputs": [
    {
     "data": {
      "text/plain": [
       "str"
      ]
     },
     "execution_count": 54,
     "metadata": {},
     "output_type": "execute_result"
    }
   ],
   "source": [
    "type(dapp)"
   ]
  },
  {
   "cell_type": "markdown",
   "id": "7678dea1",
   "metadata": {},
   "source": [
    "## operators in python\n",
    "\n",
    "### Arithmetic operator"
   ]
  },
  {
   "cell_type": "code",
   "execution_count": 55,
   "id": "a4f35783",
   "metadata": {},
   "outputs": [
    {
     "data": {
      "text/plain": [
       "237"
      ]
     },
     "execution_count": 55,
     "metadata": {},
     "output_type": "execute_result"
    }
   ],
   "source": [
    "3 + value1"
   ]
  },
  {
   "cell_type": "code",
   "execution_count": 56,
   "id": "599149e8",
   "metadata": {},
   "outputs": [
    {
     "data": {
      "text/plain": [
       "468.5"
      ]
     },
     "execution_count": 56,
     "metadata": {},
     "output_type": "execute_result"
    }
   ],
   "source": [
    "value1 + value2"
   ]
  },
  {
   "cell_type": "code",
   "execution_count": 57,
   "id": "426a1e93",
   "metadata": {},
   "outputs": [
    {
     "data": {
      "text/plain": [
       "-0.5"
      ]
     },
     "execution_count": 57,
     "metadata": {},
     "output_type": "execute_result"
    }
   ],
   "source": [
    "value1 - value2"
   ]
  },
  {
   "cell_type": "code",
   "execution_count": 58,
   "id": "fa7109dc",
   "metadata": {},
   "outputs": [
    {
     "data": {
      "text/plain": [
       "14"
      ]
     },
     "execution_count": 58,
     "metadata": {},
     "output_type": "execute_result"
    }
   ],
   "source": [
    "34 - 20"
   ]
  },
  {
   "cell_type": "code",
   "execution_count": 59,
   "id": "517040a8",
   "metadata": {},
   "outputs": [
    {
     "data": {
      "text/plain": [
       "150"
      ]
     },
     "execution_count": 59,
     "metadata": {},
     "output_type": "execute_result"
    }
   ],
   "source": [
    "30 * 5"
   ]
  },
  {
   "cell_type": "code",
   "execution_count": 60,
   "id": "b35c230a",
   "metadata": {},
   "outputs": [
    {
     "data": {
      "text/plain": [
       "30.0"
      ]
     },
     "execution_count": 60,
     "metadata": {},
     "output_type": "execute_result"
    }
   ],
   "source": [
    "150 / 5"
   ]
  },
  {
   "cell_type": "code",
   "execution_count": 61,
   "id": "eecfa6ae",
   "metadata": {},
   "outputs": [
    {
     "data": {
      "text/plain": [
       "1"
      ]
     },
     "execution_count": 61,
     "metadata": {},
     "output_type": "execute_result"
    }
   ],
   "source": [
    "5 % 2"
   ]
  },
  {
   "cell_type": "code",
   "execution_count": 62,
   "id": "f6e130e8",
   "metadata": {},
   "outputs": [
    {
     "data": {
      "text/plain": [
       "4"
      ]
     },
     "execution_count": 62,
     "metadata": {},
     "output_type": "execute_result"
    }
   ],
   "source": [
    "100 % 8"
   ]
  },
  {
   "cell_type": "code",
   "execution_count": 63,
   "id": "0bf019c2",
   "metadata": {},
   "outputs": [
    {
     "data": {
      "text/plain": [
       "12"
      ]
     },
     "execution_count": 63,
     "metadata": {},
     "output_type": "execute_result"
    }
   ],
   "source": [
    "100 // 8"
   ]
  },
  {
   "cell_type": "code",
   "execution_count": 65,
   "id": "9c1c7eea",
   "metadata": {},
   "outputs": [
    {
     "data": {
      "text/plain": [
       "64"
      ]
     },
     "execution_count": 65,
     "metadata": {},
     "output_type": "execute_result"
    }
   ],
   "source": [
    "4 ** 3"
   ]
  },
  {
   "cell_type": "markdown",
   "id": "e71db507",
   "metadata": {},
   "source": [
    "### Comparison operator"
   ]
  },
  {
   "cell_type": "code",
   "execution_count": 66,
   "id": "1c81d286",
   "metadata": {},
   "outputs": [
    {
     "data": {
      "text/plain": [
       "False"
      ]
     },
     "execution_count": 66,
     "metadata": {},
     "output_type": "execute_result"
    }
   ],
   "source": [
    "2 > 4"
   ]
  },
  {
   "cell_type": "code",
   "execution_count": 67,
   "id": "fc4258eb",
   "metadata": {},
   "outputs": [
    {
     "data": {
      "text/plain": [
       "True"
      ]
     },
     "execution_count": 67,
     "metadata": {},
     "output_type": "execute_result"
    }
   ],
   "source": [
    "4 > 2"
   ]
  },
  {
   "cell_type": "code",
   "execution_count": 71,
   "id": "669b333e",
   "metadata": {},
   "outputs": [
    {
     "data": {
      "text/plain": [
       "True"
      ]
     },
     "execution_count": 71,
     "metadata": {},
     "output_type": "execute_result"
    }
   ],
   "source": [
    "2 == 2"
   ]
  },
  {
   "cell_type": "code",
   "execution_count": 74,
   "id": "3c8948dd",
   "metadata": {},
   "outputs": [
    {
     "data": {
      "text/plain": [
       "True"
      ]
     },
     "execution_count": 74,
     "metadata": {},
     "output_type": "execute_result"
    }
   ],
   "source": [
    "2 != 2.00001"
   ]
  },
  {
   "cell_type": "code",
   "execution_count": 77,
   "id": "309524d5",
   "metadata": {},
   "outputs": [
    {
     "data": {
      "text/plain": [
       "False"
      ]
     },
     "execution_count": 77,
     "metadata": {},
     "output_type": "execute_result"
    }
   ],
   "source": [
    "6 <= 4"
   ]
  },
  {
   "cell_type": "markdown",
   "id": "54628ffe",
   "metadata": {},
   "source": [
    "### Assignment operator "
   ]
  },
  {
   "cell_type": "code",
   "execution_count": 88,
   "id": "d6ed3b73",
   "metadata": {},
   "outputs": [],
   "source": [
    "y = 3"
   ]
  },
  {
   "cell_type": "code",
   "execution_count": 82,
   "id": "f8ccbf6b",
   "metadata": {},
   "outputs": [],
   "source": [
    "y = y + 3"
   ]
  },
  {
   "cell_type": "code",
   "execution_count": 83,
   "id": "4344050f",
   "metadata": {},
   "outputs": [
    {
     "name": "stdout",
     "output_type": "stream",
     "text": [
      "6\n"
     ]
    }
   ],
   "source": [
    "print(y)"
   ]
  },
  {
   "cell_type": "code",
   "execution_count": 89,
   "id": "938b48c9",
   "metadata": {},
   "outputs": [
    {
     "data": {
      "text/plain": [
       "3"
      ]
     },
     "execution_count": 89,
     "metadata": {},
     "output_type": "execute_result"
    }
   ],
   "source": [
    "y"
   ]
  },
  {
   "cell_type": "code",
   "execution_count": 84,
   "id": "7f7d43b3",
   "metadata": {},
   "outputs": [],
   "source": [
    "name = \"frank\""
   ]
  },
  {
   "cell_type": "code",
   "execution_count": 87,
   "id": "1ac7f44d",
   "metadata": {},
   "outputs": [
    {
     "data": {
      "text/plain": [
       "'nupat'"
      ]
     },
     "execution_count": 87,
     "metadata": {},
     "output_type": "execute_result"
    }
   ],
   "source": [
    "name"
   ]
  },
  {
   "cell_type": "code",
   "execution_count": 3,
   "id": "1f7f484f",
   "metadata": {},
   "outputs": [],
   "source": [
    "name = 'nupat'"
   ]
  },
  {
   "cell_type": "code",
   "execution_count": 101,
   "id": "795a22a5",
   "metadata": {},
   "outputs": [],
   "source": [
    "y += 3"
   ]
  },
  {
   "cell_type": "code",
   "execution_count": null,
   "id": "574ee062",
   "metadata": {},
   "outputs": [],
   "source": [
    "y = y + 3"
   ]
  },
  {
   "cell_type": "code",
   "execution_count": 102,
   "id": "fa11bce9",
   "metadata": {},
   "outputs": [
    {
     "data": {
      "text/plain": [
       "27"
      ]
     },
     "execution_count": 102,
     "metadata": {},
     "output_type": "execute_result"
    }
   ],
   "source": [
    "y"
   ]
  },
  {
   "cell_type": "markdown",
   "id": "2ffa5f3c",
   "metadata": {},
   "source": [
    "### logical operators "
   ]
  },
  {
   "cell_type": "code",
   "execution_count": 104,
   "id": "a184c321",
   "metadata": {},
   "outputs": [
    {
     "data": {
      "text/plain": [
       "False"
      ]
     },
     "execution_count": 104,
     "metadata": {},
     "output_type": "execute_result"
    }
   ],
   "source": [
    "(2 > 1) and (5 > 7)"
   ]
  },
  {
   "cell_type": "code",
   "execution_count": 106,
   "id": "c8b9d3e9",
   "metadata": {},
   "outputs": [
    {
     "data": {
      "text/plain": [
       "False"
      ]
     },
     "execution_count": 106,
     "metadata": {},
     "output_type": "execute_result"
    }
   ],
   "source": [
    "(2 < 1) or (5 > 7)"
   ]
  },
  {
   "cell_type": "code",
   "execution_count": 109,
   "id": "b358ef22",
   "metadata": {},
   "outputs": [
    {
     "data": {
      "text/plain": [
       "True"
      ]
     },
     "execution_count": 109,
     "metadata": {},
     "output_type": "execute_result"
    }
   ],
   "source": [
    "not((2 > 1) and (5 > 7))"
   ]
  },
  {
   "cell_type": "markdown",
   "id": "c97b3736",
   "metadata": {},
   "source": [
    "### Membership operator"
   ]
  },
  {
   "cell_type": "code",
   "execution_count": 111,
   "id": "4487408b",
   "metadata": {},
   "outputs": [
    {
     "data": {
      "text/plain": [
       "True"
      ]
     },
     "execution_count": 111,
     "metadata": {},
     "output_type": "execute_result"
    }
   ],
   "source": [
    "'o' in 'collect'"
   ]
  },
  {
   "cell_type": "code",
   "execution_count": null,
   "id": "f48a4efd",
   "metadata": {},
   "outputs": [],
   "source": [
    "dee = 45327"
   ]
  },
  {
   "cell_type": "code",
   "execution_count": 116,
   "id": "124e9d08",
   "metadata": {},
   "outputs": [],
   "source": [
    "dee = [2,3,4,5,6]"
   ]
  },
  {
   "cell_type": "code",
   "execution_count": 117,
   "id": "4f207b48",
   "metadata": {},
   "outputs": [
    {
     "data": {
      "text/plain": [
       "[2, 3, 4, 5, 6]"
      ]
     },
     "execution_count": 117,
     "metadata": {},
     "output_type": "execute_result"
    }
   ],
   "source": [
    "dee"
   ]
  },
  {
   "cell_type": "code",
   "execution_count": 119,
   "id": "860c8513",
   "metadata": {},
   "outputs": [
    {
     "data": {
      "text/plain": [
       "False"
      ]
     },
     "execution_count": 119,
     "metadata": {},
     "output_type": "execute_result"
    }
   ],
   "source": [
    "1 in dee"
   ]
  },
  {
   "cell_type": "code",
   "execution_count": 120,
   "id": "e6383981",
   "metadata": {},
   "outputs": [
    {
     "data": {
      "text/plain": [
       "False"
      ]
     },
     "execution_count": 120,
     "metadata": {},
     "output_type": "execute_result"
    }
   ],
   "source": [
    "'y' in 'fish'"
   ]
  },
  {
   "cell_type": "markdown",
   "id": "ffedb097",
   "metadata": {},
   "source": [
    "### Identity operator"
   ]
  },
  {
   "cell_type": "code",
   "execution_count": 129,
   "id": "b0d070ff",
   "metadata": {},
   "outputs": [],
   "source": [
    "x = 4"
   ]
  },
  {
   "cell_type": "code",
   "execution_count": 127,
   "id": "15cf6cdf",
   "metadata": {},
   "outputs": [],
   "source": [
    "y = 4"
   ]
  },
  {
   "cell_type": "code",
   "execution_count": 140,
   "id": "67df4d09",
   "metadata": {},
   "outputs": [
    {
     "data": {
      "text/plain": [
       "False"
      ]
     },
     "execution_count": 140,
     "metadata": {},
     "output_type": "execute_result"
    }
   ],
   "source": [
    "x is not y"
   ]
  },
  {
   "cell_type": "code",
   "execution_count": 131,
   "id": "5f082644",
   "metadata": {},
   "outputs": [
    {
     "data": {
      "text/plain": [
       "'nupat'"
      ]
     },
     "execution_count": 131,
     "metadata": {},
     "output_type": "execute_result"
    }
   ],
   "source": [
    "name"
   ]
  },
  {
   "cell_type": "code",
   "execution_count": 132,
   "id": "16c97e3b",
   "metadata": {},
   "outputs": [
    {
     "data": {
      "text/plain": [
       "'UGWU FRANK'"
      ]
     },
     "execution_count": 132,
     "metadata": {},
     "output_type": "execute_result"
    }
   ],
   "source": [
    "Name"
   ]
  },
  {
   "cell_type": "code",
   "execution_count": 139,
   "id": "7e548e01",
   "metadata": {},
   "outputs": [
    {
     "data": {
      "text/plain": [
       "True"
      ]
     },
     "execution_count": 139,
     "metadata": {},
     "output_type": "execute_result"
    }
   ],
   "source": [
    "name is not p"
   ]
  },
  {
   "cell_type": "code",
   "execution_count": 137,
   "id": "70be7bfb",
   "metadata": {},
   "outputs": [],
   "source": [
    "p = 'nuPat'"
   ]
  },
  {
   "cell_type": "code",
   "execution_count": 1,
   "id": "a052e961",
   "metadata": {},
   "outputs": [
    {
     "data": {
      "text/plain": [
       "4"
      ]
     },
     "execution_count": 1,
     "metadata": {},
     "output_type": "execute_result"
    }
   ],
   "source": [
    "2+2"
   ]
  },
  {
   "cell_type": "code",
   "execution_count": 4,
   "id": "ac69cb38",
   "metadata": {},
   "outputs": [
    {
     "name": "stdout",
     "output_type": "stream",
     "text": [
      "nupat\n"
     ]
    }
   ],
   "source": [
    "print(name)"
   ]
  },
  {
   "cell_type": "markdown",
   "id": "22e18451",
   "metadata": {},
   "source": [
    "## Variables in Python"
   ]
  },
  {
   "cell_type": "code",
   "execution_count": 5,
   "id": "6878b8c5",
   "metadata": {},
   "outputs": [],
   "source": [
    "dog = 'Data science and Analytics'"
   ]
  },
  {
   "cell_type": "code",
   "execution_count": 6,
   "id": "f65ebf07",
   "metadata": {},
   "outputs": [
    {
     "data": {
      "text/plain": [
       "'Data science and Analytics'"
      ]
     },
     "execution_count": 6,
     "metadata": {},
     "output_type": "execute_result"
    }
   ],
   "source": [
    "dog"
   ]
  },
  {
   "cell_type": "code",
   "execution_count": 13,
   "id": "a45c1830",
   "metadata": {},
   "outputs": [
    {
     "ename": "SyntaxError",
     "evalue": "invalid syntax (314275796.py, line 3)",
     "output_type": "error",
     "traceback": [
      "\u001b[1;36m  Cell \u001b[1;32mIn[13], line 3\u001b[1;36m\u001b[0m\n\u001b[1;33m    pet name = 'Bruno'\u001b[0m\n\u001b[1;37m        ^\u001b[0m\n\u001b[1;31mSyntaxError\u001b[0m\u001b[1;31m:\u001b[0m invalid syntax\n"
     ]
    }
   ],
   "source": [
    "name = 'Frank'\n",
    "job = 'Data Analyst'\n",
    "pet_name = 'Bruno'"
   ]
  },
  {
   "cell_type": "code",
   "execution_count": 11,
   "id": "7dfbdf42",
   "metadata": {},
   "outputs": [
    {
     "name": "stdout",
     "output_type": "stream",
     "text": [
      "My name is Frank I am a Data Analyst\n",
      " The name of my dog is Bruno\n"
     ]
    }
   ],
   "source": [
    "print('My name is', name, 'I am a', job)\n",
    "print(\" The name of my dog is\", pet_name)"
   ]
  },
  {
   "cell_type": "code",
   "execution_count": 14,
   "id": "43acf7c9",
   "metadata": {},
   "outputs": [],
   "source": [
    "print = 56"
   ]
  },
  {
   "cell_type": "code",
   "execution_count": 15,
   "id": "035c77b8",
   "metadata": {},
   "outputs": [
    {
     "data": {
      "text/plain": [
       "56"
      ]
     },
     "execution_count": 15,
     "metadata": {},
     "output_type": "execute_result"
    }
   ],
   "source": [
    "print"
   ]
  },
  {
   "cell_type": "code",
   "execution_count": 16,
   "id": "80c5f595",
   "metadata": {},
   "outputs": [
    {
     "ename": "TypeError",
     "evalue": "'int' object is not callable",
     "output_type": "error",
     "traceback": [
      "\u001b[1;31m---------------------------------------------------------------------------\u001b[0m",
      "\u001b[1;31mTypeError\u001b[0m                                 Traceback (most recent call last)",
      "Cell \u001b[1;32mIn[16], line 1\u001b[0m\n\u001b[1;32m----> 1\u001b[0m \u001b[38;5;28mprint\u001b[39m(pet_name)\n",
      "\u001b[1;31mTypeError\u001b[0m: 'int' object is not callable"
     ]
    }
   ],
   "source": [
    "print(pet_name)"
   ]
  },
  {
   "cell_type": "code",
   "execution_count": 17,
   "id": "3793057c",
   "metadata": {},
   "outputs": [
    {
     "ename": "TypeError",
     "evalue": "'int' object is not callable",
     "output_type": "error",
     "traceback": [
      "\u001b[1;31m---------------------------------------------------------------------------\u001b[0m",
      "\u001b[1;31mTypeError\u001b[0m                                 Traceback (most recent call last)",
      "Cell \u001b[1;32mIn[17], line 1\u001b[0m\n\u001b[1;32m----> 1\u001b[0m \u001b[38;5;28mprint\u001b[39m(\u001b[38;5;124m\"\u001b[39m\u001b[38;5;124m The name of my dog is\u001b[39m\u001b[38;5;124m\"\u001b[39m, pet_name)\n",
      "\u001b[1;31mTypeError\u001b[0m: 'int' object is not callable"
     ]
    }
   ],
   "source": [
    "print(\" The name of my dog is\", pet_name)"
   ]
  },
  {
   "cell_type": "code",
   "execution_count": 18,
   "id": "87a89e2a",
   "metadata": {},
   "outputs": [],
   "source": [
    "del print"
   ]
  },
  {
   "cell_type": "code",
   "execution_count": 19,
   "id": "92ac611b",
   "metadata": {},
   "outputs": [
    {
     "data": {
      "text/plain": [
       "<function print(*args, sep=' ', end='\\n', file=None, flush=False)>"
      ]
     },
     "execution_count": 19,
     "metadata": {},
     "output_type": "execute_result"
    }
   ],
   "source": [
    "print"
   ]
  },
  {
   "cell_type": "code",
   "execution_count": 20,
   "id": "853f8b04",
   "metadata": {},
   "outputs": [
    {
     "name": "stdout",
     "output_type": "stream",
     "text": [
      " The name of my dog is Bruno\n"
     ]
    }
   ],
   "source": [
    "print(\" The name of my dog is\", pet_name)"
   ]
  },
  {
   "cell_type": "markdown",
   "id": "232444f0",
   "metadata": {},
   "source": [
    "## Strings"
   ]
  },
  {
   "cell_type": "code",
   "execution_count": 21,
   "id": "c88111bf",
   "metadata": {},
   "outputs": [
    {
     "data": {
      "text/plain": [
       "'Bruno'"
      ]
     },
     "execution_count": 21,
     "metadata": {},
     "output_type": "execute_result"
    }
   ],
   "source": [
    "pet_name"
   ]
  },
  {
   "cell_type": "code",
   "execution_count": 22,
   "id": "7d9ee3fa",
   "metadata": {},
   "outputs": [
    {
     "data": {
      "text/plain": [
       "str"
      ]
     },
     "execution_count": 22,
     "metadata": {},
     "output_type": "execute_result"
    }
   ],
   "source": [
    "type(pet_name)"
   ]
  },
  {
   "cell_type": "code",
   "execution_count": 23,
   "id": "95bef0b0",
   "metadata": {},
   "outputs": [
    {
     "data": {
      "text/plain": [
       "'Bruno'"
      ]
     },
     "execution_count": 23,
     "metadata": {},
     "output_type": "execute_result"
    }
   ],
   "source": [
    "pet_name"
   ]
  },
  {
   "cell_type": "code",
   "execution_count": 24,
   "id": "b5ac2846",
   "metadata": {},
   "outputs": [
    {
     "data": {
      "text/plain": [
       "'bruno'"
      ]
     },
     "execution_count": 24,
     "metadata": {},
     "output_type": "execute_result"
    }
   ],
   "source": [
    "pet_name.lower()"
   ]
  },
  {
   "cell_type": "code",
   "execution_count": 25,
   "id": "11643571",
   "metadata": {},
   "outputs": [
    {
     "data": {
      "text/plain": [
       "'BRUNO'"
      ]
     },
     "execution_count": 25,
     "metadata": {},
     "output_type": "execute_result"
    }
   ],
   "source": [
    "pet_name.upper()"
   ]
  },
  {
   "cell_type": "code",
   "execution_count": 27,
   "id": "87e00793",
   "metadata": {},
   "outputs": [],
   "source": [
    "student = \"sarah ogbodo\""
   ]
  },
  {
   "cell_type": "code",
   "execution_count": 28,
   "id": "76801adb",
   "metadata": {},
   "outputs": [
    {
     "data": {
      "text/plain": [
       "'sarah ogbodo'"
      ]
     },
     "execution_count": 28,
     "metadata": {},
     "output_type": "execute_result"
    }
   ],
   "source": [
    "student"
   ]
  },
  {
   "cell_type": "code",
   "execution_count": 29,
   "id": "1c426512",
   "metadata": {},
   "outputs": [
    {
     "data": {
      "text/plain": [
       "'SARAH OGBODO'"
      ]
     },
     "execution_count": 29,
     "metadata": {},
     "output_type": "execute_result"
    }
   ],
   "source": [
    "student.upper()"
   ]
  },
  {
   "cell_type": "code",
   "execution_count": 30,
   "id": "eba82222",
   "metadata": {},
   "outputs": [
    {
     "data": {
      "text/plain": [
       "'sarah ogbodo'"
      ]
     },
     "execution_count": 30,
     "metadata": {},
     "output_type": "execute_result"
    }
   ],
   "source": [
    "student.lower()"
   ]
  },
  {
   "cell_type": "code",
   "execution_count": 31,
   "id": "2b4db112",
   "metadata": {},
   "outputs": [
    {
     "data": {
      "text/plain": [
       "'Sarah Ogbodo'"
      ]
     },
     "execution_count": 31,
     "metadata": {},
     "output_type": "execute_result"
    }
   ],
   "source": [
    "student.title()"
   ]
  },
  {
   "cell_type": "markdown",
   "id": "ffda0d80",
   "metadata": {},
   "source": [
    "## Len function"
   ]
  },
  {
   "cell_type": "code",
   "execution_count": 32,
   "id": "82708a1d",
   "metadata": {},
   "outputs": [
    {
     "data": {
      "text/plain": [
       "12"
      ]
     },
     "execution_count": 32,
     "metadata": {},
     "output_type": "execute_result"
    }
   ],
   "source": [
    "len(student)"
   ]
  },
  {
   "cell_type": "code",
   "execution_count": 33,
   "id": "19e0ca60",
   "metadata": {},
   "outputs": [
    {
     "data": {
      "text/plain": [
       "2.4"
      ]
     },
     "execution_count": 33,
     "metadata": {},
     "output_type": "execute_result"
    }
   ],
   "source": [
    "len(student) / len(pet_name)"
   ]
  },
  {
   "cell_type": "code",
   "execution_count": 34,
   "id": "fad052af",
   "metadata": {},
   "outputs": [
    {
     "data": {
      "text/plain": [
       "2.4"
      ]
     },
     "execution_count": 34,
     "metadata": {},
     "output_type": "execute_result"
    }
   ],
   "source": [
    "12/5"
   ]
  },
  {
   "cell_type": "code",
   "execution_count": 35,
   "id": "5877326f",
   "metadata": {},
   "outputs": [
    {
     "data": {
      "text/plain": [
       "60"
      ]
     },
     "execution_count": 35,
     "metadata": {},
     "output_type": "execute_result"
    }
   ],
   "source": [
    "len(student) * len(pet_name)"
   ]
  },
  {
   "cell_type": "code",
   "execution_count": 37,
   "id": "9bbae96c",
   "metadata": {},
   "outputs": [
    {
     "data": {
      "text/plain": [
       "float"
      ]
     },
     "execution_count": 37,
     "metadata": {},
     "output_type": "execute_result"
    }
   ],
   "source": [
    "type(6/3)"
   ]
  },
  {
   "cell_type": "code",
   "execution_count": 39,
   "id": "581ceea6",
   "metadata": {},
   "outputs": [
    {
     "data": {
      "text/plain": [
       "1.0"
      ]
     },
     "execution_count": 39,
     "metadata": {},
     "output_type": "execute_result"
    }
   ],
   "source": [
    "2 /2"
   ]
  },
  {
   "cell_type": "markdown",
   "id": "87693833",
   "metadata": {},
   "source": [
    "### Underscores in number"
   ]
  },
  {
   "cell_type": "code",
   "execution_count": 41,
   "id": "463c39ed",
   "metadata": {},
   "outputs": [
    {
     "data": {
      "text/plain": [
       "30000000000"
      ]
     },
     "execution_count": 41,
     "metadata": {},
     "output_type": "execute_result"
    }
   ],
   "source": [
    "30_000_000_000"
   ]
  },
  {
   "cell_type": "code",
   "execution_count": null,
   "id": "b32db638",
   "metadata": {},
   "outputs": [],
   "source": []
  },
  {
   "cell_type": "markdown",
   "id": "6e467c00",
   "metadata": {},
   "source": [
    "# Data Structures in python\n",
    "## List"
   ]
  },
  {
   "cell_type": "code",
   "execution_count": 43,
   "id": "35cc9a50",
   "metadata": {},
   "outputs": [],
   "source": [
    "# A list is a collection of items in a particular order "
   ]
  },
  {
   "cell_type": "code",
   "execution_count": 46,
   "id": "7b9a2a99",
   "metadata": {},
   "outputs": [],
   "source": [
    "friends = ['Joey', 'Ross', 'Rachael', 'Monica', 'Chandler', 'Phoebe']"
   ]
  },
  {
   "cell_type": "code",
   "execution_count": 47,
   "id": "41926744",
   "metadata": {},
   "outputs": [
    {
     "data": {
      "text/plain": [
       "['Joey', 'Ross', 'Rachael', 'Monica', 'Chandler', 'Phoebe']"
      ]
     },
     "execution_count": 47,
     "metadata": {},
     "output_type": "execute_result"
    }
   ],
   "source": [
    "friends"
   ]
  },
  {
   "cell_type": "code",
   "execution_count": 48,
   "id": "6f1beede",
   "metadata": {},
   "outputs": [],
   "source": [
    "numbers = [1,2,3,4,5,6,7]"
   ]
  },
  {
   "cell_type": "code",
   "execution_count": 49,
   "id": "9a6efd8e",
   "metadata": {},
   "outputs": [
    {
     "data": {
      "text/plain": [
       "[1, 2, 3, 4, 5, 6, 7]"
      ]
     },
     "execution_count": 49,
     "metadata": {},
     "output_type": "execute_result"
    }
   ],
   "source": [
    "numbers"
   ]
  },
  {
   "cell_type": "code",
   "execution_count": 50,
   "id": "a398be41",
   "metadata": {},
   "outputs": [
    {
     "data": {
      "text/plain": [
       "6"
      ]
     },
     "execution_count": 50,
     "metadata": {},
     "output_type": "execute_result"
    }
   ],
   "source": [
    "len(friends)"
   ]
  },
  {
   "cell_type": "code",
   "execution_count": 51,
   "id": "5feb6813",
   "metadata": {},
   "outputs": [
    {
     "data": {
      "text/plain": [
       "7"
      ]
     },
     "execution_count": 51,
     "metadata": {},
     "output_type": "execute_result"
    }
   ],
   "source": [
    "len(numbers)"
   ]
  },
  {
   "cell_type": "markdown",
   "id": "e0bbc994",
   "metadata": {},
   "source": [
    "## Accessing elements "
   ]
  },
  {
   "cell_type": "code",
   "execution_count": 52,
   "id": "bb667408",
   "metadata": {},
   "outputs": [
    {
     "data": {
      "text/plain": [
       "'Joey'"
      ]
     },
     "execution_count": 52,
     "metadata": {},
     "output_type": "execute_result"
    }
   ],
   "source": [
    "friends[0]"
   ]
  },
  {
   "cell_type": "code",
   "execution_count": 53,
   "id": "3c2c7530",
   "metadata": {},
   "outputs": [
    {
     "data": {
      "text/plain": [
       "'Rachael'"
      ]
     },
     "execution_count": 53,
     "metadata": {},
     "output_type": "execute_result"
    }
   ],
   "source": [
    "friends[2]"
   ]
  },
  {
   "cell_type": "code",
   "execution_count": 54,
   "id": "64c58789",
   "metadata": {},
   "outputs": [
    {
     "data": {
      "text/plain": [
       "'Chandler'"
      ]
     },
     "execution_count": 54,
     "metadata": {},
     "output_type": "execute_result"
    }
   ],
   "source": [
    "friends[4]"
   ]
  },
  {
   "cell_type": "code",
   "execution_count": 55,
   "id": "65427e15",
   "metadata": {},
   "outputs": [
    {
     "data": {
      "text/plain": [
       "'Phoebe'"
      ]
     },
     "execution_count": 55,
     "metadata": {},
     "output_type": "execute_result"
    }
   ],
   "source": [
    "friends[-1]"
   ]
  },
  {
   "cell_type": "code",
   "execution_count": 56,
   "id": "79668aa0",
   "metadata": {},
   "outputs": [
    {
     "data": {
      "text/plain": [
       "['Joey', 'Ross', 'Rachael', 'Monica', 'Chandler', 'Phoebe']"
      ]
     },
     "execution_count": 56,
     "metadata": {},
     "output_type": "execute_result"
    }
   ],
   "source": [
    "friends"
   ]
  },
  {
   "cell_type": "code",
   "execution_count": 57,
   "id": "7e651b5f",
   "metadata": {},
   "outputs": [
    {
     "data": {
      "text/plain": [
       "'Chandler'"
      ]
     },
     "execution_count": 57,
     "metadata": {},
     "output_type": "execute_result"
    }
   ],
   "source": [
    "friends[-2]"
   ]
  },
  {
   "cell_type": "code",
   "execution_count": 60,
   "id": "a0e2042c",
   "metadata": {},
   "outputs": [
    {
     "data": {
      "text/plain": [
       "'Phoebe'"
      ]
     },
     "execution_count": 60,
     "metadata": {},
     "output_type": "execute_result"
    }
   ],
   "source": [
    "friends[5]"
   ]
  },
  {
   "cell_type": "code",
   "execution_count": 61,
   "id": "484e5354",
   "metadata": {},
   "outputs": [
    {
     "ename": "IndexError",
     "evalue": "list index out of range",
     "output_type": "error",
     "traceback": [
      "\u001b[1;31m---------------------------------------------------------------------------\u001b[0m",
      "\u001b[1;31mIndexError\u001b[0m                                Traceback (most recent call last)",
      "Cell \u001b[1;32mIn[61], line 1\u001b[0m\n\u001b[1;32m----> 1\u001b[0m friends[\u001b[38;5;241m-\u001b[39m\u001b[38;5;241m7\u001b[39m]\n",
      "\u001b[1;31mIndexError\u001b[0m: list index out of range"
     ]
    }
   ],
   "source": [
    "friends[-7]"
   ]
  },
  {
   "cell_type": "code",
   "execution_count": 63,
   "id": "1276d909",
   "metadata": {},
   "outputs": [
    {
     "data": {
      "text/plain": [
       "'RACHAEL'"
      ]
     },
     "execution_count": 63,
     "metadata": {},
     "output_type": "execute_result"
    }
   ],
   "source": [
    "friends[2].upper()"
   ]
  },
  {
   "cell_type": "code",
   "execution_count": 64,
   "id": "c736417b",
   "metadata": {},
   "outputs": [],
   "source": [
    "upper_rach = friends[2].upper()"
   ]
  },
  {
   "cell_type": "code",
   "execution_count": 65,
   "id": "a7c3660c",
   "metadata": {},
   "outputs": [
    {
     "data": {
      "text/plain": [
       "'RACHAEL'"
      ]
     },
     "execution_count": 65,
     "metadata": {},
     "output_type": "execute_result"
    }
   ],
   "source": [
    "upper_rach"
   ]
  },
  {
   "cell_type": "code",
   "execution_count": null,
   "id": "41d8ceb4",
   "metadata": {},
   "outputs": [],
   "source": []
  }
 ],
 "metadata": {
  "kernelspec": {
   "display_name": "Python 3 (ipykernel)",
   "language": "python",
   "name": "python3"
  },
  "language_info": {
   "codemirror_mode": {
    "name": "ipython",
    "version": 3
   },
   "file_extension": ".py",
   "mimetype": "text/x-python",
   "name": "python",
   "nbconvert_exporter": "python",
   "pygments_lexer": "ipython3",
   "version": "3.11.3"
  }
 },
 "nbformat": 4,
 "nbformat_minor": 5
}
