{
 "cells": [
  {
   "cell_type": "code",
   "execution_count": 1,
   "id": "569f1f38-4e0b-4510-8222-fff91bc90ac7",
   "metadata": {},
   "outputs": [
    {
     "data": {
      "text/plain": [
       "<function print(*args, sep=' ', end='\\n', file=None, flush=False)>"
      ]
     },
     "execution_count": 1,
     "metadata": {},
     "output_type": "execute_result"
    }
   ],
   "source": [
    "print"
   ]
  },
  {
   "cell_type": "code",
   "execution_count": 2,
   "id": "bc2e126a-2f67-42eb-b0a1-8ffe04f8f37f",
   "metadata": {},
   "outputs": [
    {
     "name": "stdout",
     "output_type": "stream",
     "text": [
      "hello world\n"
     ]
    }
   ],
   "source": [
    "print('hello world')"
   ]
  },
  {
   "cell_type": "code",
   "execution_count": 4,
   "id": "db9da58b-f8e1-4111-97ec-8eb98f535125",
   "metadata": {},
   "outputs": [
    {
     "name": "stdout",
     "output_type": "stream",
     "text": [
      "HELLO WORLD\n"
     ]
    }
   ],
   "source": [
    "print('HELLO WORLD')"
   ]
  },
  {
   "cell_type": "markdown",
   "id": "b285a366-83aa-407e-bf68-a5c65625c624",
   "metadata": {},
   "source": [
    "#Task"
   ]
  },
  {
   "cell_type": "code",
   "execution_count": 14,
   "id": "054e95a4-0674-4212-92a4-ddbb944e094a",
   "metadata": {},
   "outputs": [],
   "source": [
    "name ='Damon'"
   ]
  },
  {
   "cell_type": "code",
   "execution_count": 13,
   "id": "18d667c2-88cd-41dc-a39d-b3dc661943a1",
   "metadata": {},
   "outputs": [
    {
     "data": {
      "text/plain": [
       "'Damon'"
      ]
     },
     "execution_count": 13,
     "metadata": {},
     "output_type": "execute_result"
    }
   ],
   "source": [
    "name"
   ]
  },
  {
   "cell_type": "code",
   "execution_count": 17,
   "id": "c53e2be8-8004-4824-801a-2ddec69043fc",
   "metadata": {},
   "outputs": [],
   "source": [
    "hobby =\"dancing\""
   ]
  },
  {
   "cell_type": "code",
   "execution_count": 23,
   "id": "83fed5cb-1f2f-45a8-aa49-aea91838e75d",
   "metadata": {},
   "outputs": [
    {
     "data": {
      "text/plain": [
       "'dancing'"
      ]
     },
     "execution_count": 23,
     "metadata": {},
     "output_type": "execute_result"
    }
   ],
   "source": [
    "hobby"
   ]
  },
  {
   "cell_type": "code",
   "execution_count": 24,
   "id": "cb2f5ca4-d9c8-4a60-8cb4-a8d97f3065a8",
   "metadata": {},
   "outputs": [
    {
     "name": "stdout",
     "output_type": "stream",
     "text": [
      "i love dancing\n"
     ]
    }
   ],
   "source": [
    "print('i love dancing')"
   ]
  },
  {
   "cell_type": "code",
   "execution_count": 17,
   "id": "1a39ff49-93c7-40a3-b3a5-c4c2443d7ae5",
   "metadata": {},
   "outputs": [],
   "source": [
    "hobby =\"dancing\""
   ]
  },
  {
   "cell_type": "code",
   "execution_count": 27,
   "id": "5a063ce6-54af-43e2-bf20-475c14e1c3d2",
   "metadata": {},
   "outputs": [
    {
     "name": "stdout",
     "output_type": "stream",
     "text": [
      "dancing\n"
     ]
    }
   ],
   "source": [
    "print(hobby)"
   ]
  },
  {
   "cell_type": "code",
   "execution_count": 28,
   "id": "4a1fe9b6-92f6-463b-bcd9-534316274471",
   "metadata": {},
   "outputs": [
    {
     "data": {
      "text/plain": [
       "8"
      ]
     },
     "execution_count": 28,
     "metadata": {},
     "output_type": "execute_result"
    }
   ],
   "source": [
    "2+6"
   ]
  },
  {
   "cell_type": "code",
   "execution_count": 32,
   "id": "67147e8e-9b99-4671-be00-2afcd1b96d7e",
   "metadata": {},
   "outputs": [],
   "source": [
    "name ='raine'\n",
    "age ='25'\n",
    "pet ='cat'"
   ]
  },
  {
   "cell_type": "code",
   "execution_count": 34,
   "id": "0ef3fc49-75e2-4559-b513-d6a1f0c225c0",
   "metadata": {},
   "outputs": [
    {
     "name": "stdout",
     "output_type": "stream",
     "text": [
      "raine\n",
      "25\n",
      "cat\n"
     ]
    }
   ],
   "source": [
    "print(name)\n",
    "print(age)\n",
    "print(pet)"
   ]
  },
  {
   "cell_type": "code",
   "execution_count": 35,
   "id": "49d6cf62-391b-475e-b01c-8fd01324cf12",
   "metadata": {},
   "outputs": [],
   "source": [
    "note =\"I love rainy days.\""
   ]
  },
  {
   "cell_type": "code",
   "execution_count": 36,
   "id": "eb727b4f-24e8-4678-af7e-f38dd67807e7",
   "metadata": {},
   "outputs": [
    {
     "name": "stdout",
     "output_type": "stream",
     "text": [
      "I love rainy days.\n"
     ]
    }
   ],
   "source": [
    "print(note)"
   ]
  },
  {
   "cell_type": "code",
   "execution_count": 39,
   "id": "d5018d0a-16e5-4abf-a925-65583972c0c0",
   "metadata": {},
   "outputs": [],
   "source": [
    "note ='I LOVE RAINY DAYS.'"
   ]
  },
  {
   "cell_type": "code",
   "execution_count": 41,
   "id": "7a944e4a-e937-42d7-a8d4-92bed1cbcfd3",
   "metadata": {},
   "outputs": [
    {
     "name": "stdout",
     "output_type": "stream",
     "text": [
      "I LOVE RAINY DAYS.\n"
     ]
    }
   ],
   "source": [
    "print(note)"
   ]
  },
  {
   "cell_type": "code",
   "execution_count": 3,
   "id": "ec5a680f-1835-49c9-bbff-770a71d832b9",
   "metadata": {},
   "outputs": [],
   "source": [
    "name ='Damon'\n",
    "state =\"Florida\"\n",
    "food ='burger burger'"
   ]
  },
  {
   "cell_type": "code",
   "execution_count": 6,
   "id": "bf9d9c1a-6684-4a92-b4b1-f569c573a048",
   "metadata": {},
   "outputs": [
    {
     "name": "stdout",
     "output_type": "stream",
     "text": [
      "I am Damon I am from Florida and I love burger burger .\n"
     ]
    }
   ],
   "source": [
    "print('I am', name, 'I am from', state, \"and I love\", food,'.')"
   ]
  },
  {
   "cell_type": "code",
   "execution_count": 12,
   "id": "d1ed9fd2-9957-4a63-976d-414b835a8edc",
   "metadata": {},
   "outputs": [],
   "source": [
    "name ='Damon'\n",
    "state =\"Florida\"\n",
    "food ='burger burger'"
   ]
  },
  {
   "cell_type": "code",
   "execution_count": 4,
   "id": "5d2f71fb-66f3-480c-9208-ef4360985615",
   "metadata": {},
   "outputs": [
    {
     "data": {
      "text/plain": [
       "'florida'"
      ]
     },
     "execution_count": 4,
     "metadata": {},
     "output_type": "execute_result"
    }
   ],
   "source": [
    "state. lower()"
   ]
  },
  {
   "cell_type": "code",
   "execution_count": 5,
   "id": "aa0c9ea0-9cf2-48cd-b074-a00b62eb43fc",
   "metadata": {},
   "outputs": [
    {
     "data": {
      "text/plain": [
       "'FLORIDA'"
      ]
     },
     "execution_count": 5,
     "metadata": {},
     "output_type": "execute_result"
    }
   ],
   "source": [
    "state. upper()"
   ]
  },
  {
   "cell_type": "code",
   "execution_count": 4,
   "id": "67fb4242-f832-4004-a36c-2f1e4111bd96",
   "metadata": {},
   "outputs": [
    {
     "data": {
      "text/plain": [
       "'Burger Burger'"
      ]
     },
     "execution_count": 4,
     "metadata": {},
     "output_type": "execute_result"
    }
   ],
   "source": [
    "food. title()"
   ]
  },
  {
   "cell_type": "code",
   "execution_count": 6,
   "id": "aa4e9503-ade7-42b7-a574-fe52b4d115fd",
   "metadata": {},
   "outputs": [
    {
     "data": {
      "text/plain": [
       "5"
      ]
     },
     "execution_count": 6,
     "metadata": {},
     "output_type": "execute_result"
    }
   ],
   "source": [
    "len(name)"
   ]
  },
  {
   "cell_type": "code",
   "execution_count": 7,
   "id": "c0808c79-4c77-4b95-a0dd-a429d60ec518",
   "metadata": {},
   "outputs": [
    {
     "data": {
      "text/plain": [
       "7"
      ]
     },
     "execution_count": 7,
     "metadata": {},
     "output_type": "execute_result"
    }
   ],
   "source": [
    "len(state)"
   ]
  },
  {
   "cell_type": "code",
   "execution_count": 8,
   "id": "fc844457-0acf-4a5b-8ab3-f422a4068637",
   "metadata": {},
   "outputs": [
    {
     "data": {
      "text/plain": [
       "0.7142857142857143"
      ]
     },
     "execution_count": 8,
     "metadata": {},
     "output_type": "execute_result"
    }
   ],
   "source": [
    "len(name) / len(state)"
   ]
  },
  {
   "cell_type": "code",
   "execution_count": 9,
   "id": "fe4d3679-fbef-4336-aa3e-69a99937d532",
   "metadata": {},
   "outputs": [
    {
     "data": {
      "text/plain": [
       "0.7142857142857143"
      ]
     },
     "execution_count": 9,
     "metadata": {},
     "output_type": "execute_result"
    }
   ],
   "source": [
    "5/7"
   ]
  },
  {
   "cell_type": "code",
   "execution_count": 10,
   "id": "8f6624a0-f365-4422-827c-8afe216cecff",
   "metadata": {},
   "outputs": [
    {
     "data": {
      "text/plain": [
       "9.285714285714286"
      ]
     },
     "execution_count": 10,
     "metadata": {},
     "output_type": "execute_result"
    }
   ],
   "source": [
    "len(name) / len(state) * len(food)"
   ]
  },
  {
   "cell_type": "code",
   "execution_count": 11,
   "id": "c676a8fd-690d-4477-a3b7-7b1f8d098a66",
   "metadata": {},
   "outputs": [
    {
     "data": {
      "text/plain": [
       "13"
      ]
     },
     "execution_count": 11,
     "metadata": {},
     "output_type": "execute_result"
    }
   ],
   "source": [
    "len(food)"
   ]
  },
  {
   "cell_type": "code",
   "execution_count": 12,
   "id": "b1b95322-a8f6-4b04-92b0-fcbbad61a3e0",
   "metadata": {},
   "outputs": [
    {
     "data": {
      "text/plain": [
       "9.285714285714286"
      ]
     },
     "execution_count": 12,
     "metadata": {},
     "output_type": "execute_result"
    }
   ],
   "source": [
    "5/7*13"
   ]
  },
  {
   "cell_type": "code",
   "execution_count": 5,
   "id": "1e98be48-6bb1-4ce2-aa52-2ee9e6d20e24",
   "metadata": {},
   "outputs": [
    {
     "data": {
      "text/plain": [
       "True"
      ]
     },
     "execution_count": 5,
     "metadata": {},
     "output_type": "execute_result"
    }
   ],
   "source": [
    "'3' in '2345'"
   ]
  },
  {
   "cell_type": "code",
   "execution_count": 3,
   "id": "b9144db1-84c2-4a05-bedf-525a2ee879bd",
   "metadata": {},
   "outputs": [
    {
     "data": {
      "text/plain": [
       "True"
      ]
     },
     "execution_count": 3,
     "metadata": {},
     "output_type": "execute_result"
    }
   ],
   "source": [
    "\"o\" in 'boat'"
   ]
  },
  {
   "cell_type": "code",
   "execution_count": 7,
   "id": "3656264c-959c-4902-9099-6bc7f0ff4e5a",
   "metadata": {},
   "outputs": [
    {
     "data": {
      "text/plain": [
       "False"
      ]
     },
     "execution_count": 7,
     "metadata": {},
     "output_type": "execute_result"
    }
   ],
   "source": [
    "'1'in 'duc2k'"
   ]
  },
  {
   "cell_type": "code",
   "execution_count": 9,
   "id": "cff10697-8cf1-4bd7-bf94-bf8400a528bf",
   "metadata": {},
   "outputs": [
    {
     "name": "stderr",
     "output_type": "stream",
     "text": [
      "<>:1: SyntaxWarning: \"is\" with a literal. Did you mean \"==\"?\n",
      "<>:1: SyntaxWarning: \"is\" with a literal. Did you mean \"==\"?\n",
      "/var/folders/y4/thhzthzj30j5vg3xchd0chh40000gn/T/ipykernel_2488/30664588.py:1: SyntaxWarning: \"is\" with a literal. Did you mean \"==\"?\n",
      "  3 is 3\n"
     ]
    },
    {
     "data": {
      "text/plain": [
       "True"
      ]
     },
     "execution_count": 9,
     "metadata": {},
     "output_type": "execute_result"
    }
   ],
   "source": [
    "3 is 3"
   ]
  },
  {
   "cell_type": "code",
   "execution_count": 10,
   "id": "ede49c63-5ade-4063-a143-f7454219effb",
   "metadata": {},
   "outputs": [
    {
     "name": "stderr",
     "output_type": "stream",
     "text": [
      "<>:1: SyntaxWarning: \"is not\" with a literal. Did you mean \"!=\"?\n",
      "<>:1: SyntaxWarning: \"is not\" with a literal. Did you mean \"!=\"?\n",
      "/var/folders/y4/thhzthzj30j5vg3xchd0chh40000gn/T/ipykernel_2488/2883227028.py:1: SyntaxWarning: \"is not\" with a literal. Did you mean \"!=\"?\n",
      "  7 is not 7\n"
     ]
    },
    {
     "data": {
      "text/plain": [
       "False"
      ]
     },
     "execution_count": 10,
     "metadata": {},
     "output_type": "execute_result"
    }
   ],
   "source": [
    "7 is not 7"
   ]
  },
  {
   "cell_type": "code",
   "execution_count": 11,
   "id": "1c1030e7-8463-4693-b0e3-d0cb6d2588ca",
   "metadata": {},
   "outputs": [
    {
     "name": "stderr",
     "output_type": "stream",
     "text": [
      "<>:1: SyntaxWarning: \"is\" with a literal. Did you mean \"==\"?\n",
      "<>:1: SyntaxWarning: \"is\" with a literal. Did you mean \"==\"?\n",
      "/var/folders/y4/thhzthzj30j5vg3xchd0chh40000gn/T/ipykernel_2488/3255664600.py:1: SyntaxWarning: \"is\" with a literal. Did you mean \"==\"?\n",
      "  7 is 7\n"
     ]
    },
    {
     "data": {
      "text/plain": [
       "True"
      ]
     },
     "execution_count": 11,
     "metadata": {},
     "output_type": "execute_result"
    }
   ],
   "source": [
    "7 is 7"
   ]
  },
  {
   "cell_type": "code",
   "execution_count": 13,
   "id": "6ee861dd-3405-4095-b9bb-3def9a0cc627",
   "metadata": {},
   "outputs": [
    {
     "name": "stdout",
     "output_type": "stream",
     "text": [
      "Burger Burger\n"
     ]
    }
   ],
   "source": [
    "print(food.title())"
   ]
  },
  {
   "cell_type": "code",
   "execution_count": 14,
   "id": "9203a253-25ea-4119-8ed4-5a9defb701d9",
   "metadata": {},
   "outputs": [
    {
     "name": "stdout",
     "output_type": "stream",
     "text": [
      "BURGER BURGER\n"
     ]
    }
   ],
   "source": [
    "print(food.upper())"
   ]
  },
  {
   "cell_type": "code",
   "execution_count": 15,
   "id": "a8d70880-abd9-4cb8-b52c-a2abae84780c",
   "metadata": {},
   "outputs": [
    {
     "name": "stdout",
     "output_type": "stream",
     "text": [
      "burger burger\n"
     ]
    }
   ],
   "source": [
    "print(food.lower())"
   ]
  },
  {
   "cell_type": "code",
   "execution_count": 1,
   "id": "82f9baa3-8161-43e4-98c1-ee3909f3722d",
   "metadata": {},
   "outputs": [
    {
     "data": {
      "text/plain": [
       "0.2"
      ]
     },
     "execution_count": 1,
     "metadata": {},
     "output_type": "execute_result"
    }
   ],
   "source": [
    "2*0.1"
   ]
  },
  {
   "cell_type": "code",
   "execution_count": 2,
   "id": "216448fc-408c-467b-87fe-9ae8247cf092",
   "metadata": {},
   "outputs": [
    {
     "data": {
      "text/plain": [
       "0.30000000000000004"
      ]
     },
     "execution_count": 2,
     "metadata": {},
     "output_type": "execute_result"
    }
   ],
   "source": [
    "0.2+0.1"
   ]
  },
  {
   "cell_type": "code",
   "execution_count": 10,
   "id": "3bd2fae3-1815-4243-ad0a-8d7e3c85899e",
   "metadata": {},
   "outputs": [],
   "source": [
    "name ='Felicity.'\n",
    "age= \"19\""
   ]
  },
  {
   "cell_type": "code",
   "execution_count": 12,
   "id": "9e031c16-e531-42a5-8cdb-9266e46cd7bf",
   "metadata": {},
   "outputs": [
    {
     "name": "stdout",
     "output_type": "stream",
     "text": [
      "I am Felicity. I am 19\n"
     ]
    }
   ],
   "source": [
    "print('I am',name,'I am',age)"
   ]
  },
  {
   "cell_type": "code",
   "execution_count": 13,
   "id": "a3ccd710-91ff-488d-bc87-178e9d1b614c",
   "metadata": {},
   "outputs": [],
   "source": [
    "name ='Felicity'\n",
    "age= \"19\""
   ]
  },
  {
   "cell_type": "code",
   "execution_count": 15,
   "id": "00f67373-4394-4936-b0ac-c94006cc8b83",
   "metadata": {},
   "outputs": [
    {
     "name": "stdout",
     "output_type": "stream",
     "text": [
      "I am Felicity . I am 19 .\n"
     ]
    }
   ],
   "source": [
    "print('I am',name,'.','I am',age,'.')"
   ]
  },
  {
   "cell_type": "code",
   "execution_count": 16,
   "id": "535c16f4-f00d-43be-9316-763259f9b135",
   "metadata": {},
   "outputs": [
    {
     "data": {
      "text/plain": [
       "1000000"
      ]
     },
     "execution_count": 16,
     "metadata": {},
     "output_type": "execute_result"
    }
   ],
   "source": [
    "1_000_000"
   ]
  },
  {
   "cell_type": "code",
   "execution_count": 19,
   "id": "b12414e9-ccf3-4a3e-9f7a-63a8ab7e1c26",
   "metadata": {},
   "outputs": [],
   "source": [
    "lightyear=300_000_000"
   ]
  },
  {
   "cell_type": "code",
   "execution_count": 20,
   "id": "932f3b09-3d3e-4c94-8610-ed48da40efcc",
   "metadata": {},
   "outputs": [
    {
     "name": "stdout",
     "output_type": "stream",
     "text": [
      "300000000\n"
     ]
    }
   ],
   "source": [
    "print(lightyear)"
   ]
  },
  {
   "cell_type": "code",
   "execution_count": 2,
   "id": "7305cad1-7aad-4022-a7c5-9e56e370cbbb",
   "metadata": {},
   "outputs": [],
   "source": [
    "cars=['TESLA','LEXUS','BMW','AUDI']"
   ]
  },
  {
   "cell_type": "code",
   "execution_count": 3,
   "id": "0d90a3ca-c78b-4fd5-97b2-0c3223b7acce",
   "metadata": {},
   "outputs": [
    {
     "data": {
      "text/plain": [
       "['TESLA', 'LEXUS', 'BMW', 'AUDI']"
      ]
     },
     "execution_count": 3,
     "metadata": {},
     "output_type": "execute_result"
    }
   ],
   "source": [
    "cars"
   ]
  },
  {
   "cell_type": "code",
   "execution_count": 4,
   "id": "0dcbdff1-287a-4fd5-bdfb-3a01e7de6d23",
   "metadata": {},
   "outputs": [
    {
     "name": "stdout",
     "output_type": "stream",
     "text": [
      "['TESLA', 'LEXUS', 'BMW', 'AUDI']\n"
     ]
    }
   ],
   "source": [
    "print(cars)"
   ]
  },
  {
   "cell_type": "code",
   "execution_count": 29,
   "id": "7ac7d5fd-0464-4874-a1be-d11d0112fd4a",
   "metadata": {},
   "outputs": [
    {
     "name": "stdout",
     "output_type": "stream",
     "text": [
      "TESLA\n"
     ]
    }
   ],
   "source": [
    "print(cars[0])"
   ]
  },
  {
   "cell_type": "code",
   "execution_count": 30,
   "id": "c8009c8c-d04f-491d-b121-d8803e75efef",
   "metadata": {},
   "outputs": [
    {
     "data": {
      "text/plain": [
       "'TESLA'"
      ]
     },
     "execution_count": 30,
     "metadata": {},
     "output_type": "execute_result"
    }
   ],
   "source": [
    "cars[0]"
   ]
  },
  {
   "cell_type": "code",
   "execution_count": 6,
   "id": "c5b1a656-0415-4481-bc56-cf590d2870a0",
   "metadata": {},
   "outputs": [
    {
     "ename": "TypeError",
     "evalue": "'list' object is not callable",
     "output_type": "error",
     "traceback": [
      "\u001b[0;31m---------------------------------------------------------------------------\u001b[0m",
      "\u001b[0;31mTypeError\u001b[0m                                 Traceback (most recent call last)",
      "Cell \u001b[0;32mIn[6], line 1\u001b[0m\n\u001b[0;32m----> 1\u001b[0m cars(\u001b[38;5;241m0\u001b[39m)\n",
      "\u001b[0;31mTypeError\u001b[0m: 'list' object is not callable"
     ]
    }
   ],
   "source": [
    "cars(0)"
   ]
  },
  {
   "cell_type": "code",
   "execution_count": 7,
   "id": "6abc36a0-7e50-4dfa-a20b-02a99c7f00e1",
   "metadata": {},
   "outputs": [
    {
     "data": {
      "text/plain": [
       "'BMW'"
      ]
     },
     "execution_count": 7,
     "metadata": {},
     "output_type": "execute_result"
    }
   ],
   "source": [
    "cars[2]"
   ]
  },
  {
   "cell_type": "code",
   "execution_count": 34,
   "id": "55bd2995-cce9-4b0b-a96c-c0be7b083a16",
   "metadata": {},
   "outputs": [
    {
     "data": {
      "text/plain": [
       "'AUDI'"
      ]
     },
     "execution_count": 34,
     "metadata": {},
     "output_type": "execute_result"
    }
   ],
   "source": [
    "cars[3]"
   ]
  },
  {
   "cell_type": "code",
   "execution_count": 35,
   "id": "cd42afba-8248-4593-8d0d-5ca45fcd615a",
   "metadata": {},
   "outputs": [
    {
     "data": {
      "text/plain": [
       "'AUDI'"
      ]
     },
     "execution_count": 35,
     "metadata": {},
     "output_type": "execute_result"
    }
   ],
   "source": [
    "cars[-1]"
   ]
  },
  {
   "cell_type": "code",
   "execution_count": 8,
   "id": "9e384b4d-5acb-43b4-9799-72c2114489a6",
   "metadata": {},
   "outputs": [
    {
     "data": {
      "text/plain": [
       "'Audi'"
      ]
     },
     "execution_count": 8,
     "metadata": {},
     "output_type": "execute_result"
    }
   ],
   "source": [
    "cars[-1].title()"
   ]
  },
  {
   "cell_type": "code",
   "execution_count": 9,
   "id": "27d0da4f-77bb-43b4-b403-e47f59b02ffd",
   "metadata": {},
   "outputs": [
    {
     "data": {
      "text/plain": [
       "'audi'"
      ]
     },
     "execution_count": 9,
     "metadata": {},
     "output_type": "execute_result"
    }
   ],
   "source": [
    "cars[-1].lower()"
   ]
  },
  {
   "cell_type": "code",
   "execution_count": 10,
   "id": "1dc152fa-9673-4ff2-b806-c2d3e90ed1c1",
   "metadata": {},
   "outputs": [],
   "source": [
    "lower_audi=cars[-1].lower()"
   ]
  },
  {
   "cell_type": "code",
   "execution_count": 11,
   "id": "8500d235-6198-4fdf-b78d-3b174593c514",
   "metadata": {},
   "outputs": [
    {
     "data": {
      "text/plain": [
       "'audi'"
      ]
     },
     "execution_count": 11,
     "metadata": {},
     "output_type": "execute_result"
    }
   ],
   "source": [
    "lower_audi"
   ]
  },
  {
   "cell_type": "code",
   "execution_count": 38,
   "id": "8fb0d0ce-b95a-49f3-8838-11f9082e4a70",
   "metadata": {},
   "outputs": [],
   "source": [
    "family=['Ak','Aj','Ibk','Say','Buks']"
   ]
  },
  {
   "cell_type": "code",
   "execution_count": 39,
   "id": "6fbe3b46-32e5-4de4-b6df-4d8540f4c685",
   "metadata": {},
   "outputs": [
    {
     "data": {
      "text/plain": [
       "'Say'"
      ]
     },
     "execution_count": 39,
     "metadata": {},
     "output_type": "execute_result"
    }
   ],
   "source": [
    "family[-2]"
   ]
  },
  {
   "cell_type": "code",
   "execution_count": 40,
   "id": "8c817487-2b3b-4ff5-af90-8092e8275047",
   "metadata": {},
   "outputs": [
    {
     "data": {
      "text/plain": [
       "'Buks'"
      ]
     },
     "execution_count": 40,
     "metadata": {},
     "output_type": "execute_result"
    }
   ],
   "source": [
    "family[1+3]"
   ]
  },
  {
   "cell_type": "code",
   "execution_count": 42,
   "id": "018a6565-7fe3-4b95-9e8b-6f16b680e153",
   "metadata": {},
   "outputs": [
    {
     "ename": "IndexError",
     "evalue": "string index out of range",
     "output_type": "error",
     "traceback": [
      "\u001b[0;31m---------------------------------------------------------------------------\u001b[0m",
      "\u001b[0;31mIndexError\u001b[0m                                Traceback (most recent call last)",
      "Cell \u001b[0;32mIn[42], line 1\u001b[0m\n\u001b[0;32m----> 1\u001b[0m family([\u001b[38;5;241m1\u001b[39m],\u001b[38;5;124m'\u001b[39m\u001b[38;5;124mand\u001b[39m\u001b[38;5;124m'\u001b[39m[\u001b[38;5;241m3\u001b[39m])\n",
      "\u001b[0;31mIndexError\u001b[0m: string index out of range"
     ]
    }
   ],
   "source": [
    "family([1],'and'[3])"
   ]
  },
  {
   "cell_type": "code",
   "execution_count": 49,
   "id": "97e61669-6f40-46db-a214-7b5fc08ba85b",
   "metadata": {},
   "outputs": [],
   "source": [
    "no=[2,4,6,8]"
   ]
  },
  {
   "cell_type": "code",
   "execution_count": 44,
   "id": "32e388a2-433b-4510-b127-cb0a676a7c28",
   "metadata": {},
   "outputs": [
    {
     "data": {
      "text/plain": [
       "8"
      ]
     },
     "execution_count": 44,
     "metadata": {},
     "output_type": "execute_result"
    }
   ],
   "source": [
    "max(no)"
   ]
  },
  {
   "cell_type": "code",
   "execution_count": 47,
   "id": "5e24d349-e401-4109-9635-3f61087762f6",
   "metadata": {},
   "outputs": [
    {
     "data": {
      "text/plain": [
       "2"
      ]
     },
     "execution_count": 47,
     "metadata": {},
     "output_type": "execute_result"
    }
   ],
   "source": [
    "min(no)"
   ]
  },
  {
   "cell_type": "code",
   "execution_count": 48,
   "id": "48453e75-2314-4e7b-8e9b-fa4b01aceb2f",
   "metadata": {},
   "outputs": [
    {
     "data": {
      "text/plain": [
       "20"
      ]
     },
     "execution_count": 48,
     "metadata": {},
     "output_type": "execute_result"
    }
   ],
   "source": [
    "sum(no)"
   ]
  },
  {
   "cell_type": "code",
   "execution_count": 45,
   "id": "e52d2018-7546-4df0-b792-72c9195185a7",
   "metadata": {},
   "outputs": [
    {
     "data": {
      "text/plain": [
       "[1, 2, 3, 4, 5, 6, 7, 8, 9]"
      ]
     },
     "execution_count": 45,
     "metadata": {},
     "output_type": "execute_result"
    }
   ],
   "source": [
    "numbers"
   ]
  },
  {
   "cell_type": "code",
   "execution_count": 9,
   "id": "2e46816c-2215-47ec-8b70-d92f4e988901",
   "metadata": {},
   "outputs": [],
   "source": [
    "family=['Ak','Aj','Ibk','Say','Buks']"
   ]
  },
  {
   "cell_type": "code",
   "execution_count": 10,
   "id": "538927ed-5924-4002-8fe4-2b5cf1c429a8",
   "metadata": {},
   "outputs": [
    {
     "name": "stdout",
     "output_type": "stream",
     "text": [
      "['Ak', 'Aj', 'Ibk']\n"
     ]
    }
   ],
   "source": [
    "print(family[0:3])"
   ]
  },
  {
   "cell_type": "code",
   "execution_count": 18,
   "id": "b26b82a6-d875-4976-a649-5caaf22300e5",
   "metadata": {},
   "outputs": [
    {
     "name": "stdout",
     "output_type": "stream",
     "text": [
      "['Aj', 'Ibk']\n"
     ]
    }
   ],
   "source": [
    "print(family[1:3])"
   ]
  },
  {
   "cell_type": "code",
   "execution_count": 19,
   "id": "c810704a-5aa0-4b3c-8425-86051da4c6cd",
   "metadata": {},
   "outputs": [
    {
     "name": "stdout",
     "output_type": "stream",
     "text": [
      "['Ak', 'Aj', 'Ibk', 'Say', 'Buks']\n"
     ]
    }
   ],
   "source": [
    "print(family[0:5])"
   ]
  },
  {
   "cell_type": "code",
   "execution_count": 20,
   "id": "c6e275a3-d218-4039-8eed-c063973de5d5",
   "metadata": {},
   "outputs": [],
   "source": [
    "no=[4,8,3,9,1,2,0,6]"
   ]
  },
  {
   "cell_type": "code",
   "execution_count": 21,
   "id": "b0e5e97c-09f2-476a-8a5f-63996f98620e",
   "metadata": {},
   "outputs": [
    {
     "data": {
      "text/plain": [
       "[0, 1, 2, 3, 4, 6, 8, 9]"
      ]
     },
     "execution_count": 21,
     "metadata": {},
     "output_type": "execute_result"
    }
   ],
   "source": [
    "sorted(no)"
   ]
  },
  {
   "cell_type": "code",
   "execution_count": 22,
   "id": "f5ea3921-fa29-4723-887b-9fd4448546f7",
   "metadata": {},
   "outputs": [],
   "source": [
    "name='-'.join(['oliver','twist'])"
   ]
  },
  {
   "cell_type": "code",
   "execution_count": 23,
   "id": "4632bfeb-62ca-43cb-ab31-18941dcd6419",
   "metadata": {},
   "outputs": [
    {
     "name": "stdout",
     "output_type": "stream",
     "text": [
      "oliver-twist\n"
     ]
    }
   ],
   "source": [
    "print(name)"
   ]
  },
  {
   "cell_type": "code",
   "execution_count": 20,
   "id": "a936bfc1-7213-4845-ba8f-fbd44e2a8f4e",
   "metadata": {},
   "outputs": [],
   "source": [
    "no=[4,8,3,9,1,2,0,6]"
   ]
  },
  {
   "cell_type": "code",
   "execution_count": 24,
   "id": "cac07b89-a123-4cb8-a063-bc8dab97f654",
   "metadata": {},
   "outputs": [],
   "source": [
    "no.append('Y')"
   ]
  },
  {
   "cell_type": "code",
   "execution_count": 25,
   "id": "e5ea3e10-9663-4bc5-b3d0-c8d7ad9bb565",
   "metadata": {},
   "outputs": [
    {
     "name": "stdout",
     "output_type": "stream",
     "text": [
      "[4, 8, 3, 9, 1, 2, 0, 6, 'Y']\n"
     ]
    }
   ],
   "source": [
    "print(no)"
   ]
  },
  {
   "cell_type": "markdown",
   "id": "8833147a-9586-4c07-a964-e97115dfa571",
   "metadata": {},
   "source": [
    "# hello\n",
    "## helllo\n",
    "### hello"
   ]
  },
  {
   "cell_type": "code",
   "execution_count": 26,
   "id": "b7cfe4a1-297a-4dc2-9a5c-0bab7f3d6659",
   "metadata": {},
   "outputs": [],
   "source": [
    "list=[1,2,3]"
   ]
  },
  {
   "cell_type": "code",
   "execution_count": 28,
   "id": "5ab99ae3-c391-467c-b595-8ab8b8a57072",
   "metadata": {},
   "outputs": [],
   "source": [
    "list[1]='two'"
   ]
  },
  {
   "cell_type": "code",
   "execution_count": 29,
   "id": "b5025a98-eb93-438c-beb9-6e4bc4f82ede",
   "metadata": {},
   "outputs": [
    {
     "data": {
      "text/plain": [
       "[1, 'two', 3]"
      ]
     },
     "execution_count": 29,
     "metadata": {},
     "output_type": "execute_result"
    }
   ],
   "source": [
    "list"
   ]
  },
  {
   "cell_type": "code",
   "execution_count": null,
   "id": "e5b16253-823e-43cf-b177-1421c45a6069",
   "metadata": {},
   "outputs": [],
   "source": [
    "greeting=\"hey\""
   ]
  },
  {
   "cell_type": "code",
   "execution_count": 35,
   "id": "7111b3bf-f682-46c3-b11b-d7b4dfa193e4",
   "metadata": {},
   "outputs": [],
   "source": [
    "nos=[1,2,6,3,1,1,6]"
   ]
  },
  {
   "cell_type": "code",
   "execution_count": 38,
   "id": "20043637-17fd-4cd1-ac8c-900a56cbeaec",
   "metadata": {},
   "outputs": [],
   "source": [
    "unduplicate_nos=set(nos)"
   ]
  },
  {
   "cell_type": "code",
   "execution_count": 39,
   "id": "29b092b2-29bc-4922-bd27-e09f98fc0e35",
   "metadata": {},
   "outputs": [
    {
     "data": {
      "text/plain": [
       "{1, 2, 3, 6}"
      ]
     },
     "execution_count": 39,
     "metadata": {},
     "output_type": "execute_result"
    }
   ],
   "source": [
    "unduplicate_nos"
   ]
  },
  {
   "cell_type": "code",
   "execution_count": 54,
   "id": "3e7ee867-a825-4dac-9e11-0e97725b258d",
   "metadata": {},
   "outputs": [],
   "source": [
    "food={\"rice\",\"egg\",\"tea\",\"yam\",'beans'}"
   ]
  },
  {
   "cell_type": "code",
   "execution_count": 55,
   "id": "cb8c498c-5d96-4e0f-9afa-be95ab7efcd7",
   "metadata": {},
   "outputs": [
    {
     "name": "stdout",
     "output_type": "stream",
     "text": [
      "False\n"
     ]
    }
   ],
   "source": [
    "print('water' in food)"
   ]
  },
  {
   "cell_type": "code",
   "execution_count": 56,
   "id": "f883f828-b727-4aa9-b645-251bcb456b1f",
   "metadata": {},
   "outputs": [
    {
     "data": {
      "text/plain": [
       "False"
      ]
     },
     "execution_count": 56,
     "metadata": {},
     "output_type": "execute_result"
    }
   ],
   "source": [
    "'water' in food"
   ]
  },
  {
   "cell_type": "code",
   "execution_count": 57,
   "id": "122f1c6e-7221-4e1b-9f3e-3674bdb13690",
   "metadata": {},
   "outputs": [
    {
     "data": {
      "text/plain": [
       "True"
      ]
     },
     "execution_count": 57,
     "metadata": {},
     "output_type": "execute_result"
    }
   ],
   "source": [
    "'egg' in food"
   ]
  },
  {
   "cell_type": "code",
   "execution_count": 58,
   "id": "d950c784-b0f4-474a-8a28-815e7103b4e5",
   "metadata": {},
   "outputs": [],
   "source": [
    "food.add('veggies')"
   ]
  },
  {
   "cell_type": "code",
   "execution_count": 59,
   "id": "73d8c068-3961-483a-a7cd-9546e8c972c1",
   "metadata": {},
   "outputs": [
    {
     "data": {
      "text/plain": [
       "{'beans', 'egg', 'rice', 'tea', 'veggies', 'yam'}"
      ]
     },
     "execution_count": 59,
     "metadata": {},
     "output_type": "execute_result"
    }
   ],
   "source": [
    "food"
   ]
  },
  {
   "cell_type": "code",
   "execution_count": 61,
   "id": "a5e94dee-942e-48cb-a4e1-2631f609c29e",
   "metadata": {},
   "outputs": [
    {
     "data": {
      "text/plain": [
       "'rice'"
      ]
     },
     "execution_count": 61,
     "metadata": {},
     "output_type": "execute_result"
    }
   ],
   "source": [
    "food.pop()"
   ]
  },
  {
   "cell_type": "code",
   "execution_count": 62,
   "id": "b04971bf-7480-486b-808c-5ece9707d1cb",
   "metadata": {},
   "outputs": [
    {
     "data": {
      "text/plain": [
       "'yam'"
      ]
     },
     "execution_count": 62,
     "metadata": {},
     "output_type": "execute_result"
    }
   ],
   "source": [
    "food.pop()"
   ]
  },
  {
   "cell_type": "code",
   "execution_count": 63,
   "id": "e7ddbff7-e254-4d6f-b28e-3065c162393d",
   "metadata": {},
   "outputs": [
    {
     "data": {
      "text/plain": [
       "'beans'"
      ]
     },
     "execution_count": 63,
     "metadata": {},
     "output_type": "execute_result"
    }
   ],
   "source": [
    "food.pop()"
   ]
  },
  {
   "cell_type": "code",
   "execution_count": 64,
   "id": "e890efe4-2b32-4e00-bcb3-492e8b40d273",
   "metadata": {},
   "outputs": [
    {
     "data": {
      "text/plain": [
       "{'egg', 'tea', 'veggies'}"
      ]
     },
     "execution_count": 64,
     "metadata": {},
     "output_type": "execute_result"
    }
   ],
   "source": [
    "food"
   ]
  },
  {
   "cell_type": "code",
   "execution_count": 65,
   "id": "d0d7a473-f731-4309-95e0-0fda6536eb59",
   "metadata": {},
   "outputs": [],
   "source": [
    "food.remove('tea')"
   ]
  },
  {
   "cell_type": "code",
   "execution_count": 66,
   "id": "b6b121b4-2fe3-4c29-8da2-f173b977e37c",
   "metadata": {},
   "outputs": [
    {
     "data": {
      "text/plain": [
       "{'egg', 'veggies'}"
      ]
     },
     "execution_count": 66,
     "metadata": {},
     "output_type": "execute_result"
    }
   ],
   "source": [
    "food"
   ]
  },
  {
   "cell_type": "code",
   "execution_count": 69,
   "id": "792c08cf-a990-468f-8f95-2c30a23f845a",
   "metadata": {},
   "outputs": [],
   "source": [
    "dime=[20,50]"
   ]
  },
  {
   "cell_type": "code",
   "execution_count": 70,
   "id": "9b3c2718-dec7-4589-a541-05f5bf43b0a9",
   "metadata": {},
   "outputs": [],
   "source": [
    "dime[0]='30'"
   ]
  },
  {
   "cell_type": "code",
   "execution_count": 71,
   "id": "4be1a380-66c3-4b83-b4d9-22d7e766382b",
   "metadata": {},
   "outputs": [
    {
     "data": {
      "text/plain": [
       "['30', 50]"
      ]
     },
     "execution_count": 71,
     "metadata": {},
     "output_type": "execute_result"
    }
   ],
   "source": [
    "dime"
   ]
  },
  {
   "cell_type": "code",
   "execution_count": 15,
   "id": "257e0331-f857-4bbe-9209-961f7ed8ad01",
   "metadata": {},
   "outputs": [],
   "source": [
    "dime=(20,50)"
   ]
  },
  {
   "cell_type": "code",
   "execution_count": 16,
   "id": "12801165-b42a-42ee-829d-f11ab5584cf9",
   "metadata": {},
   "outputs": [
    {
     "ename": "TypeError",
     "evalue": "'tuple' object does not support item assignment",
     "output_type": "error",
     "traceback": [
      "\u001b[0;31m---------------------------------------------------------------------------\u001b[0m",
      "\u001b[0;31mTypeError\u001b[0m                                 Traceback (most recent call last)",
      "Cell \u001b[0;32mIn[16], line 1\u001b[0m\n\u001b[0;32m----> 1\u001b[0m dime[\u001b[38;5;241m1\u001b[39m]\u001b[38;5;241m=\u001b[39m \u001b[38;5;241m30\u001b[39m\n",
      "\u001b[0;31mTypeError\u001b[0m: 'tuple' object does not support item assignment"
     ]
    }
   ],
   "source": [
    "dime[1]= 30"
   ]
  },
  {
   "cell_type": "code",
   "execution_count": 13,
   "id": "7ee904b7-cbcc-4fc4-a6a9-a43823cefa6a",
   "metadata": {},
   "outputs": [],
   "source": [
    "element={'hydrogen':1,'helium':2,'lithium':3}"
   ]
  },
  {
   "cell_type": "code",
   "execution_count": 2,
   "id": "fbf0296e-57f8-4ca4-8be9-163190380c2f",
   "metadata": {},
   "outputs": [
    {
     "data": {
      "text/plain": [
       "1"
      ]
     },
     "execution_count": 2,
     "metadata": {},
     "output_type": "execute_result"
    }
   ],
   "source": [
    "element['hydrogen']"
   ]
  },
  {
   "cell_type": "code",
   "execution_count": 3,
   "id": "befa8c60-9064-42dc-97cc-97f7ecf4d8ca",
   "metadata": {},
   "outputs": [
    {
     "name": "stdout",
     "output_type": "stream",
     "text": [
      "1\n"
     ]
    }
   ],
   "source": [
    "print(element['hydrogen'])"
   ]
  },
  {
   "cell_type": "code",
   "execution_count": 6,
   "id": "5bf6639a-fd69-42e8-a5f5-6884e06eb7b3",
   "metadata": {},
   "outputs": [],
   "source": [
    "element['beryllium']=4"
   ]
  },
  {
   "cell_type": "code",
   "execution_count": 11,
   "id": "3231f15b-479f-4411-abfe-b9043b224909",
   "metadata": {},
   "outputs": [
    {
     "data": {
      "text/plain": [
       "{2}"
      ]
     },
     "execution_count": 11,
     "metadata": {},
     "output_type": "execute_result"
    }
   ],
   "source": [
    "element"
   ]
  },
  {
   "cell_type": "code",
   "execution_count": 14,
   "id": "595d3f9e-bdc2-426d-9490-75999581036c",
   "metadata": {},
   "outputs": [
    {
     "name": "stdout",
     "output_type": "stream",
     "text": [
      "True\n"
     ]
    }
   ],
   "source": [
    "print('helium' in element)"
   ]
  },
  {
   "cell_type": "code",
   "execution_count": 17,
   "id": "beb4335e-0724-497f-98bd-2273ee109915",
   "metadata": {},
   "outputs": [
    {
     "name": "stdout",
     "output_type": "stream",
     "text": [
      "None\n"
     ]
    }
   ],
   "source": [
    "print(element.get('oxygen'))"
   ]
  },
  {
   "cell_type": "code",
   "execution_count": 18,
   "id": "76e7fd1b-4f78-49b4-862a-6d03f37bd25a",
   "metadata": {},
   "outputs": [
    {
     "name": "stdout",
     "output_type": "stream",
     "text": [
      "3\n"
     ]
    }
   ],
   "source": [
    "print(element.get(\"lithium\"))"
   ]
  },
  {
   "cell_type": "code",
   "execution_count": 21,
   "id": "a3465f71-dcad-47b3-9118-307dbd5b0bb8",
   "metadata": {},
   "outputs": [],
   "source": [
    "detailz={'kate':{'weight':92,'job':\"nurse\",'age':52},'gina':{'weight':65,'job':'clerk','age':47}}"
   ]
  },
  {
   "cell_type": "code",
   "execution_count": 22,
   "id": "012c7e7d-9c1f-45b4-8c55-570d27648b9d",
   "metadata": {},
   "outputs": [
    {
     "data": {
      "text/plain": [
       "{'weight': 92, 'job': 'nurse', 'age': 52}"
      ]
     },
     "execution_count": 22,
     "metadata": {},
     "output_type": "execute_result"
    }
   ],
   "source": [
    "detailz['kate']"
   ]
  },
  {
   "cell_type": "code",
   "execution_count": 23,
   "id": "2a4463ab-7748-40b9-8c53-47fb5a2f46ba",
   "metadata": {},
   "outputs": [
    {
     "data": {
      "text/plain": [
       "'nurse'"
      ]
     },
     "execution_count": 23,
     "metadata": {},
     "output_type": "execute_result"
    }
   ],
   "source": [
    "detailz['kate']['job']"
   ]
  },
  {
   "cell_type": "code",
   "execution_count": 25,
   "id": "bd86e344-8aa8-49c4-978e-d0518db302c7",
   "metadata": {},
   "outputs": [
    {
     "data": {
      "text/plain": [
       "65"
      ]
     },
     "execution_count": 25,
     "metadata": {},
     "output_type": "execute_result"
    }
   ],
   "source": [
    "detailz['gina']['weight']"
   ]
  },
  {
   "cell_type": "code",
   "execution_count": 26,
   "id": "1a835833-28ed-4db9-99c0-609b85a2cb5d",
   "metadata": {},
   "outputs": [],
   "source": [
    "detailz['dan']={'weight':105}"
   ]
  },
  {
   "cell_type": "code",
   "execution_count": 27,
   "id": "6db84e28-7fef-4393-bf27-46ecc561992d",
   "metadata": {},
   "outputs": [
    {
     "data": {
      "text/plain": [
       "{'kate': {'weight': 92, 'job': 'nurse', 'age': 52},\n",
       " 'gina': {'weight': 65, 'job': 'clerk', 'age': 47},\n",
       " 'dan': {'weight': 105}}"
      ]
     },
     "execution_count": 27,
     "metadata": {},
     "output_type": "execute_result"
    }
   ],
   "source": [
    "detailz"
   ]
  },
  {
   "cell_type": "code",
   "execution_count": 28,
   "id": "3c205e61-6cca-4fb0-9b24-44520856cd22",
   "metadata": {},
   "outputs": [],
   "source": [
    "ciara={'weight':99}"
   ]
  },
  {
   "cell_type": "code",
   "execution_count": 30,
   "id": "e0e56eb2-598c-4e69-a8e0-16c54b9a11d7",
   "metadata": {},
   "outputs": [],
   "source": [
    "detailz['ciara']=ciara"
   ]
  },
  {
   "cell_type": "code",
   "execution_count": 31,
   "id": "6f5f4012-c716-40c7-bfeb-269bc53232b2",
   "metadata": {},
   "outputs": [
    {
     "data": {
      "text/plain": [
       "{'kate': {'weight': 92, 'job': 'nurse', 'age': 52},\n",
       " 'gina': {'weight': 65, 'job': 'clerk', 'age': 47},\n",
       " 'dan': {'weight': 105},\n",
       " 'ciara': {'weight': 99}}"
      ]
     },
     "execution_count": 31,
     "metadata": {},
     "output_type": "execute_result"
    }
   ],
   "source": [
    "detailz"
   ]
  },
  {
   "cell_type": "markdown",
   "id": "86d9e8ed-df23-44eb-a8c5-c496e6842a9e",
   "metadata": {},
   "source": [
    "# NUMPY"
   ]
  },
  {
   "cell_type": "code",
   "execution_count": 1,
   "id": "1e4c3a93-f84f-4883-ad55-8469fd4e1f85",
   "metadata": {},
   "outputs": [],
   "source": [
    "import numpy as np"
   ]
  },
  {
   "cell_type": "code",
   "execution_count": 2,
   "id": "e587256e-a80b-4a89-b9cd-1139151beab2",
   "metadata": {},
   "outputs": [],
   "source": [
    "no= [[4,1,2],[4,2,2],[4,3,2],[4,4,2]]"
   ]
  },
  {
   "cell_type": "code",
   "execution_count": 3,
   "id": "e5d6dbd3-2547-491d-8cb4-21dce9116196",
   "metadata": {},
   "outputs": [
    {
     "data": {
      "text/plain": [
       "[[4, 1, 2], [4, 2, 2], [4, 3, 2], [4, 4, 2]]"
      ]
     },
     "execution_count": 3,
     "metadata": {},
     "output_type": "execute_result"
    }
   ],
   "source": [
    "no"
   ]
  },
  {
   "cell_type": "code",
   "execution_count": 4,
   "id": "6cc2b96a-3260-4f07-aab8-cab93ace366a",
   "metadata": {},
   "outputs": [
    {
     "data": {
      "text/plain": [
       "list"
      ]
     },
     "execution_count": 4,
     "metadata": {},
     "output_type": "execute_result"
    }
   ],
   "source": [
    "type(no)"
   ]
  },
  {
   "cell_type": "code",
   "execution_count": 6,
   "id": "a9e68690-3017-46d2-9cb6-53cc1f2caa16",
   "metadata": {},
   "outputs": [
    {
     "data": {
      "text/plain": [
       "[4, 2, 2]"
      ]
     },
     "execution_count": 6,
     "metadata": {},
     "output_type": "execute_result"
    }
   ],
   "source": [
    "no[1]"
   ]
  },
  {
   "cell_type": "code",
   "execution_count": 7,
   "id": "a666a983-3012-43b1-a4f1-72369a2cb5da",
   "metadata": {},
   "outputs": [],
   "source": [
    "second_guy = no[1]"
   ]
  },
  {
   "cell_type": "code",
   "execution_count": 8,
   "id": "b4ab6621-120d-4c70-8c8d-1e0c20b12e20",
   "metadata": {},
   "outputs": [
    {
     "data": {
      "text/plain": [
       "2"
      ]
     },
     "execution_count": 8,
     "metadata": {},
     "output_type": "execute_result"
    }
   ],
   "source": [
    "no[1][1]"
   ]
  },
  {
   "cell_type": "code",
   "execution_count": 9,
   "id": "f0209d62-4ebc-4fde-84f5-43166f842015",
   "metadata": {},
   "outputs": [],
   "source": [
    "d1= np.array([1,2,3,4,5])"
   ]
  },
  {
   "cell_type": "code",
   "execution_count": 10,
   "id": "fec06c83-88bf-432d-a5ba-af7d1f29431d",
   "metadata": {},
   "outputs": [
    {
     "data": {
      "text/plain": [
       "array([1, 2, 3, 4, 5])"
      ]
     },
     "execution_count": 10,
     "metadata": {},
     "output_type": "execute_result"
    }
   ],
   "source": [
    "d1"
   ]
  },
  {
   "cell_type": "code",
   "execution_count": 12,
   "id": "0794f337-beaa-4d88-b9d6-576ebfcc73e7",
   "metadata": {},
   "outputs": [
    {
     "data": {
      "text/plain": [
       "1"
      ]
     },
     "execution_count": 12,
     "metadata": {},
     "output_type": "execute_result"
    }
   ],
   "source": [
    "d1.ndim"
   ]
  },
  {
   "cell_type": "code",
   "execution_count": 24,
   "id": "4b791a23-c360-41b8-bd89-fcf348fb6dcc",
   "metadata": {},
   "outputs": [],
   "source": [
    "d2=np.array([no])"
   ]
  },
  {
   "cell_type": "code",
   "execution_count": 25,
   "id": "5b71df1d-a518-4617-abe5-de196e6a5ffe",
   "metadata": {},
   "outputs": [
    {
     "data": {
      "text/plain": [
       "array([[[4, 1, 2],\n",
       "        [4, 2, 2],\n",
       "        [4, 3, 2],\n",
       "        [4, 4, 2]]])"
      ]
     },
     "execution_count": 25,
     "metadata": {},
     "output_type": "execute_result"
    }
   ],
   "source": [
    "d2"
   ]
  },
  {
   "cell_type": "code",
   "execution_count": 15,
   "id": "be893d1e-da16-4255-9c08-f52371abd428",
   "metadata": {},
   "outputs": [],
   "source": [
    "d2a=np.array([[4,1,2],[4,2,2],[4,3,2],[4,4,2]])"
   ]
  },
  {
   "cell_type": "code",
   "execution_count": 16,
   "id": "30304cba-1bed-49b3-97ab-c22f92e71d7a",
   "metadata": {},
   "outputs": [
    {
     "data": {
      "text/plain": [
       "array([[4, 1, 2],\n",
       "       [4, 2, 2],\n",
       "       [4, 3, 2],\n",
       "       [4, 4, 2]])"
      ]
     },
     "execution_count": 16,
     "metadata": {},
     "output_type": "execute_result"
    }
   ],
   "source": [
    "d2a"
   ]
  },
  {
   "cell_type": "code",
   "execution_count": 17,
   "id": "6f1f541c-8d90-4b9c-a6ce-43033979d44d",
   "metadata": {},
   "outputs": [
    {
     "data": {
      "text/plain": [
       "2"
      ]
     },
     "execution_count": 17,
     "metadata": {},
     "output_type": "execute_result"
    }
   ],
   "source": [
    "d2a.ndim"
   ]
  },
  {
   "cell_type": "code",
   "execution_count": 18,
   "id": "1d16b426-c250-42e8-8e49-7199495d6c70",
   "metadata": {},
   "outputs": [
    {
     "data": {
      "text/plain": [
       "(4, 3)"
      ]
     },
     "execution_count": 18,
     "metadata": {},
     "output_type": "execute_result"
    }
   ],
   "source": [
    "d2a.shape"
   ]
  },
  {
   "cell_type": "code",
   "execution_count": 19,
   "id": "7150d40b-5ed8-4e48-9005-05b85000c8ce",
   "metadata": {},
   "outputs": [
    {
     "data": {
      "text/plain": [
       "12"
      ]
     },
     "execution_count": 19,
     "metadata": {},
     "output_type": "execute_result"
    }
   ],
   "source": [
    "d2a.size"
   ]
  },
  {
   "cell_type": "code",
   "execution_count": 21,
   "id": "037132e3-171c-4200-aed7-833dd5c4f5a5",
   "metadata": {},
   "outputs": [
    {
     "data": {
      "text/plain": [
       "dtype('int64')"
      ]
     },
     "execution_count": 21,
     "metadata": {},
     "output_type": "execute_result"
    }
   ],
   "source": [
    "d2a.dtype"
   ]
  },
  {
   "cell_type": "code",
   "execution_count": 26,
   "id": "4418f0ff-e65c-4b41-800c-1c96e6fbab53",
   "metadata": {},
   "outputs": [],
   "source": [
    "ones=np.ones([5,2])"
   ]
  },
  {
   "cell_type": "code",
   "execution_count": 30,
   "id": "fc2d7dfd-b896-437c-8c5d-1db685086f00",
   "metadata": {},
   "outputs": [
    {
     "data": {
      "text/plain": [
       "array([[1, 1],\n",
       "       [1, 1],\n",
       "       [1, 1],\n",
       "       [1, 1],\n",
       "       [1, 1]])"
      ]
     },
     "execution_count": 30,
     "metadata": {},
     "output_type": "execute_result"
    }
   ],
   "source": [
    "ones.astype(int)"
   ]
  },
  {
   "cell_type": "code",
   "execution_count": 32,
   "id": "9e21da49-714b-4c7f-8730-eb0deee15830",
   "metadata": {},
   "outputs": [],
   "source": [
    "zeroes=np.zeros([5,3,4])"
   ]
  },
  {
   "cell_type": "code",
   "execution_count": 33,
   "id": "74ac2e3a-c78b-43bb-9a41-df1031ab3c1c",
   "metadata": {},
   "outputs": [
    {
     "data": {
      "text/plain": [
       "array([[[0., 0., 0., 0.],\n",
       "        [0., 0., 0., 0.],\n",
       "        [0., 0., 0., 0.]],\n",
       "\n",
       "       [[0., 0., 0., 0.],\n",
       "        [0., 0., 0., 0.],\n",
       "        [0., 0., 0., 0.]],\n",
       "\n",
       "       [[0., 0., 0., 0.],\n",
       "        [0., 0., 0., 0.],\n",
       "        [0., 0., 0., 0.]],\n",
       "\n",
       "       [[0., 0., 0., 0.],\n",
       "        [0., 0., 0., 0.],\n",
       "        [0., 0., 0., 0.]],\n",
       "\n",
       "       [[0., 0., 0., 0.],\n",
       "        [0., 0., 0., 0.],\n",
       "        [0., 0., 0., 0.]]])"
      ]
     },
     "execution_count": 33,
     "metadata": {},
     "output_type": "execute_result"
    }
   ],
   "source": [
    "zeroes"
   ]
  },
  {
   "cell_type": "code",
   "execution_count": 34,
   "id": "dcfe8d7a-a76b-4fbe-952b-710c1522534a",
   "metadata": {},
   "outputs": [
    {
     "data": {
      "text/plain": [
       "array([[[0, 0, 0, 0],\n",
       "        [0, 0, 0, 0],\n",
       "        [0, 0, 0, 0]],\n",
       "\n",
       "       [[0, 0, 0, 0],\n",
       "        [0, 0, 0, 0],\n",
       "        [0, 0, 0, 0]],\n",
       "\n",
       "       [[0, 0, 0, 0],\n",
       "        [0, 0, 0, 0],\n",
       "        [0, 0, 0, 0]],\n",
       "\n",
       "       [[0, 0, 0, 0],\n",
       "        [0, 0, 0, 0],\n",
       "        [0, 0, 0, 0]],\n",
       "\n",
       "       [[0, 0, 0, 0],\n",
       "        [0, 0, 0, 0],\n",
       "        [0, 0, 0, 0]]])"
      ]
     },
     "execution_count": 34,
     "metadata": {},
     "output_type": "execute_result"
    }
   ],
   "source": [
    "zeroes.astype(int)"
   ]
  },
  {
   "cell_type": "code",
   "execution_count": 35,
   "id": "78bb644f-be8d-4bcd-8daf-766848a422b3",
   "metadata": {},
   "outputs": [],
   "source": [
    "np_range=np.arange(1,19,2)"
   ]
  },
  {
   "cell_type": "code",
   "execution_count": 36,
   "id": "4ceccc78-9e32-4b15-8e60-ae0c640e45aa",
   "metadata": {},
   "outputs": [
    {
     "data": {
      "text/plain": [
       "array([ 1,  3,  5,  7,  9, 11, 13, 15, 17])"
      ]
     },
     "execution_count": 36,
     "metadata": {},
     "output_type": "execute_result"
    }
   ],
   "source": [
    "np_range"
   ]
  },
  {
   "cell_type": "code",
   "execution_count": 37,
   "id": "befb6023-e352-4784-aa85-ccfcdbc7ba4f",
   "metadata": {},
   "outputs": [
    {
     "data": {
      "text/plain": [
       "array([ 3,  4,  5,  6,  7,  8,  9, 10, 11])"
      ]
     },
     "execution_count": 37,
     "metadata": {},
     "output_type": "execute_result"
    }
   ],
   "source": [
    "np.arange(3,12)"
   ]
  },
  {
   "cell_type": "code",
   "execution_count": 38,
   "id": "6f0cadd2-cffb-48db-8c6f-9f7b5fcfbb29",
   "metadata": {},
   "outputs": [],
   "source": [
    "np_random=np.random.randint(6, size=(5,4))"
   ]
  },
  {
   "cell_type": "code",
   "execution_count": 39,
   "id": "921b7a46-11cf-4293-8550-bdcdf90abd68",
   "metadata": {},
   "outputs": [
    {
     "data": {
      "text/plain": [
       "array([[3, 1, 5, 3],\n",
       "       [5, 3, 1, 2],\n",
       "       [5, 0, 1, 2],\n",
       "       [1, 2, 5, 0],\n",
       "       [0, 4, 5, 1]])"
      ]
     },
     "execution_count": 39,
     "metadata": {},
     "output_type": "execute_result"
    }
   ],
   "source": [
    "np_random"
   ]
  },
  {
   "cell_type": "code",
   "execution_count": 41,
   "id": "4772244d-157f-496d-bd9f-e0f75afc103c",
   "metadata": {},
   "outputs": [],
   "source": [
    "np_randomarray=np.random.randint(20,size=(6,3))"
   ]
  },
  {
   "cell_type": "code",
   "execution_count": 42,
   "id": "c0825085-df92-4eb9-a1a2-7adaae1cc7ae",
   "metadata": {},
   "outputs": [
    {
     "data": {
      "text/plain": [
       "array([[ 8, 16, 12],\n",
       "       [14, 17, 10],\n",
       "       [19,  6, 18],\n",
       "       [12,  8, 11],\n",
       "       [ 5, 17, 16],\n",
       "       [ 6,  7,  5]])"
      ]
     },
     "execution_count": 42,
     "metadata": {},
     "output_type": "execute_result"
    }
   ],
   "source": [
    "np_randomarray"
   ]
  },
  {
   "cell_type": "code",
   "execution_count": 44,
   "id": "de24eba2-af8f-417b-9f89-db562c75b4b6",
   "metadata": {},
   "outputs": [],
   "source": [
    "np_rand=np.random.rand(5,4)"
   ]
  },
  {
   "cell_type": "code",
   "execution_count": 45,
   "id": "c29acb80-032a-44c3-8019-497e26b86bc5",
   "metadata": {},
   "outputs": [
    {
     "data": {
      "text/plain": [
       "array([[0.83993194, 0.14266739, 0.64001767, 0.58988393],\n",
       "       [0.39282392, 0.97040834, 0.03265206, 0.89041653],\n",
       "       [0.20749635, 0.2527057 , 0.40498779, 0.62309894],\n",
       "       [0.12107296, 0.43193341, 0.71362294, 0.84717432],\n",
       "       [0.48732944, 0.54250848, 0.69746264, 0.64329346]])"
      ]
     },
     "execution_count": 45,
     "metadata": {},
     "output_type": "execute_result"
    }
   ],
   "source": [
    "np_rand"
   ]
  },
  {
   "cell_type": "code",
   "execution_count": 48,
   "id": "93bfa61e-4a4a-4cf1-a55f-8218fb749b11",
   "metadata": {},
   "outputs": [],
   "source": [
    "linear=np.linspace(0,50,num=5)"
   ]
  },
  {
   "cell_type": "code",
   "execution_count": 49,
   "id": "30d9df7d-ea4a-404d-b43d-03924bc80769",
   "metadata": {},
   "outputs": [
    {
     "data": {
      "text/plain": [
       "array([ 0. , 12.5, 25. , 37.5, 50. ])"
      ]
     },
     "execution_count": 49,
     "metadata": {},
     "output_type": "execute_result"
    }
   ],
   "source": [
    "linear"
   ]
  },
  {
   "cell_type": "code",
   "execution_count": 50,
   "id": "f4c67c67-8191-4ce7-a119-165abe502c8d",
   "metadata": {},
   "outputs": [
    {
     "data": {
      "text/plain": [
       "array([ 0, 12, 25, 37, 50])"
      ]
     },
     "execution_count": 50,
     "metadata": {},
     "output_type": "execute_result"
    }
   ],
   "source": [
    "linear.astype(int)"
   ]
  },
  {
   "cell_type": "code",
   "execution_count": 57,
   "id": "892eb7ab-9857-4818-b229-8b9b47c15727",
   "metadata": {},
   "outputs": [],
   "source": [
    "u=np.array([2,2,2,4,7,3,8,8,9,0,0,1,1,1,4])"
   ]
  },
  {
   "cell_type": "code",
   "execution_count": 58,
   "id": "6a4148a8-b664-479b-be91-f375cb8b42b4",
   "metadata": {},
   "outputs": [
    {
     "data": {
      "text/plain": [
       "array([2, 2, 2, 4, 7, 3, 8, 8, 9, 0, 0, 1, 1, 1, 4])"
      ]
     },
     "execution_count": 58,
     "metadata": {},
     "output_type": "execute_result"
    }
   ],
   "source": [
    "u"
   ]
  },
  {
   "cell_type": "code",
   "execution_count": 59,
   "id": "4fe6f1a9-fe72-4828-9e75-c49f50c3d106",
   "metadata": {},
   "outputs": [],
   "source": [
    "unique_npvalue=np.unique(u)"
   ]
  },
  {
   "cell_type": "code",
   "execution_count": 60,
   "id": "2ff95d18-ff65-4dc5-95a9-3c95f63c2284",
   "metadata": {},
   "outputs": [
    {
     "data": {
      "text/plain": [
       "array([0, 1, 2, 3, 4, 7, 8, 9])"
      ]
     },
     "execution_count": 60,
     "metadata": {},
     "output_type": "execute_result"
    }
   ],
   "source": [
    "unique_npvalue"
   ]
  },
  {
   "cell_type": "code",
   "execution_count": 68,
   "id": "dc7bdcfb-5240-45d2-af4d-ebd67e32ffaf",
   "metadata": {},
   "outputs": [],
   "source": [
    "d3=np.arange(48).reshape(4,3,4)"
   ]
  },
  {
   "cell_type": "code",
   "execution_count": 69,
   "id": "9a490f26-9c6e-48f3-b4b2-4fd517b76a98",
   "metadata": {},
   "outputs": [
    {
     "data": {
      "text/plain": [
       "array([[[ 0,  1,  2,  3],\n",
       "        [ 4,  5,  6,  7],\n",
       "        [ 8,  9, 10, 11]],\n",
       "\n",
       "       [[12, 13, 14, 15],\n",
       "        [16, 17, 18, 19],\n",
       "        [20, 21, 22, 23]],\n",
       "\n",
       "       [[24, 25, 26, 27],\n",
       "        [28, 29, 30, 31],\n",
       "        [32, 33, 34, 35]],\n",
       "\n",
       "       [[36, 37, 38, 39],\n",
       "        [40, 41, 42, 43],\n",
       "        [44, 45, 46, 47]]])"
      ]
     },
     "execution_count": 69,
     "metadata": {},
     "output_type": "execute_result"
    }
   ],
   "source": [
    "d3"
   ]
  },
  {
   "cell_type": "code",
   "execution_count": 71,
   "id": "a2f637ec-8520-47cc-a5be-e2ef4a9c7c23",
   "metadata": {},
   "outputs": [],
   "source": [
    "d4=np.arange(96).reshape(4,3,4,2)"
   ]
  },
  {
   "cell_type": "code",
   "execution_count": 72,
   "id": "264b4b14-4778-4f0e-a2d4-986e4520d01f",
   "metadata": {},
   "outputs": [
    {
     "data": {
      "text/plain": [
       "array([[[[ 0,  1],\n",
       "         [ 2,  3],\n",
       "         [ 4,  5],\n",
       "         [ 6,  7]],\n",
       "\n",
       "        [[ 8,  9],\n",
       "         [10, 11],\n",
       "         [12, 13],\n",
       "         [14, 15]],\n",
       "\n",
       "        [[16, 17],\n",
       "         [18, 19],\n",
       "         [20, 21],\n",
       "         [22, 23]]],\n",
       "\n",
       "\n",
       "       [[[24, 25],\n",
       "         [26, 27],\n",
       "         [28, 29],\n",
       "         [30, 31]],\n",
       "\n",
       "        [[32, 33],\n",
       "         [34, 35],\n",
       "         [36, 37],\n",
       "         [38, 39]],\n",
       "\n",
       "        [[40, 41],\n",
       "         [42, 43],\n",
       "         [44, 45],\n",
       "         [46, 47]]],\n",
       "\n",
       "\n",
       "       [[[48, 49],\n",
       "         [50, 51],\n",
       "         [52, 53],\n",
       "         [54, 55]],\n",
       "\n",
       "        [[56, 57],\n",
       "         [58, 59],\n",
       "         [60, 61],\n",
       "         [62, 63]],\n",
       "\n",
       "        [[64, 65],\n",
       "         [66, 67],\n",
       "         [68, 69],\n",
       "         [70, 71]]],\n",
       "\n",
       "\n",
       "       [[[72, 73],\n",
       "         [74, 75],\n",
       "         [76, 77],\n",
       "         [78, 79]],\n",
       "\n",
       "        [[80, 81],\n",
       "         [82, 83],\n",
       "         [84, 85],\n",
       "         [86, 87]],\n",
       "\n",
       "        [[88, 89],\n",
       "         [90, 91],\n",
       "         [92, 93],\n",
       "         [94, 95]]]])"
      ]
     },
     "execution_count": 72,
     "metadata": {},
     "output_type": "execute_result"
    }
   ],
   "source": [
    "d4"
   ]
  },
  {
   "cell_type": "code",
   "execution_count": 7,
   "id": "1c3ba90c-ffe1-4233-aad3-7d9c96d9202b",
   "metadata": {},
   "outputs": [
    {
     "data": {
      "text/plain": [
       "array([   0,    1,    2, ..., 9997, 9998, 9999])"
      ]
     },
     "execution_count": 7,
     "metadata": {},
     "output_type": "execute_result"
    }
   ],
   "source": [
    "np.arange((10000))"
   ]
  },
  {
   "cell_type": "code",
   "execution_count": 4,
   "id": "93002358-1118-48be-88f7-ea465818f56f",
   "metadata": {},
   "outputs": [
    {
     "data": {
      "text/plain": [
       "array([  0,   1,   2,   3,   4,   5,   6,   7,   8,   9,  10,  11,  12,\n",
       "        13,  14,  15,  16,  17,  18,  19,  20,  21,  22,  23,  24,  25,\n",
       "        26,  27,  28,  29,  30,  31,  32,  33,  34,  35,  36,  37,  38,\n",
       "        39,  40,  41,  42,  43,  44,  45,  46,  47,  48,  49,  50,  51,\n",
       "        52,  53,  54,  55,  56,  57,  58,  59,  60,  61,  62,  63,  64,\n",
       "        65,  66,  67,  68,  69,  70,  71,  72,  73,  74,  75,  76,  77,\n",
       "        78,  79,  80,  81,  82,  83,  84,  85,  86,  87,  88,  89,  90,\n",
       "        91,  92,  93,  94,  95,  96,  97,  98,  99, 100, 101, 102, 103,\n",
       "       104, 105, 106, 107, 108, 109, 110, 111, 112, 113, 114, 115, 116,\n",
       "       117, 118, 119, 120, 121, 122, 123, 124, 125, 126, 127, 128, 129,\n",
       "       130, 131, 132, 133, 134, 135, 136, 137, 138, 139, 140, 141, 142,\n",
       "       143, 144, 145, 146, 147, 148, 149, 150, 151, 152, 153, 154, 155,\n",
       "       156, 157, 158, 159, 160, 161, 162, 163, 164, 165, 166, 167, 168,\n",
       "       169, 170, 171, 172, 173, 174, 175, 176, 177, 178, 179, 180, 181,\n",
       "       182, 183, 184, 185, 186, 187, 188, 189, 190, 191, 192, 193, 194,\n",
       "       195, 196, 197, 198, 199, 200, 201, 202, 203, 204, 205, 206, 207,\n",
       "       208, 209, 210, 211, 212, 213, 214, 215, 216, 217, 218, 219, 220,\n",
       "       221, 222, 223, 224, 225, 226, 227, 228, 229, 230, 231, 232, 233,\n",
       "       234, 235, 236, 237, 238, 239, 240, 241, 242, 243, 244, 245, 246,\n",
       "       247, 248, 249, 250, 251, 252, 253, 254, 255, 256, 257, 258, 259,\n",
       "       260, 261, 262, 263, 264, 265, 266, 267, 268, 269, 270, 271, 272,\n",
       "       273, 274, 275, 276, 277, 278, 279, 280, 281, 282, 283, 284, 285,\n",
       "       286, 287, 288, 289, 290, 291, 292, 293, 294, 295, 296, 297, 298,\n",
       "       299, 300, 301, 302, 303, 304, 305, 306, 307, 308, 309, 310, 311,\n",
       "       312, 313, 314, 315, 316, 317, 318, 319, 320, 321, 322, 323, 324,\n",
       "       325, 326, 327, 328, 329, 330, 331, 332, 333, 334, 335, 336, 337,\n",
       "       338, 339, 340, 341, 342, 343, 344, 345, 346, 347, 348, 349, 350,\n",
       "       351, 352, 353, 354, 355, 356, 357, 358, 359, 360, 361, 362, 363,\n",
       "       364, 365, 366, 367, 368, 369, 370, 371, 372, 373, 374, 375, 376,\n",
       "       377, 378, 379, 380, 381, 382, 383, 384, 385, 386, 387, 388, 389,\n",
       "       390, 391, 392, 393, 394, 395, 396, 397, 398, 399, 400, 401, 402,\n",
       "       403, 404, 405, 406, 407, 408, 409, 410, 411, 412, 413, 414, 415,\n",
       "       416, 417, 418, 419, 420, 421, 422, 423, 424, 425, 426, 427, 428,\n",
       "       429, 430, 431, 432, 433, 434, 435, 436, 437, 438, 439, 440, 441,\n",
       "       442, 443, 444, 445, 446, 447, 448, 449, 450, 451, 452, 453, 454,\n",
       "       455, 456, 457, 458, 459, 460, 461, 462, 463, 464, 465, 466, 467,\n",
       "       468, 469, 470, 471, 472, 473, 474, 475, 476, 477, 478, 479, 480,\n",
       "       481, 482, 483, 484, 485, 486, 487, 488, 489, 490, 491, 492, 493,\n",
       "       494, 495, 496, 497, 498, 499, 500, 501, 502, 503, 504, 505, 506,\n",
       "       507, 508, 509, 510, 511, 512, 513, 514, 515, 516, 517, 518, 519,\n",
       "       520, 521, 522, 523, 524, 525, 526, 527, 528, 529, 530, 531, 532,\n",
       "       533, 534, 535, 536, 537, 538, 539, 540, 541, 542, 543, 544, 545,\n",
       "       546, 547, 548, 549, 550, 551, 552, 553, 554, 555, 556, 557, 558,\n",
       "       559, 560, 561, 562, 563, 564, 565, 566, 567, 568, 569, 570, 571,\n",
       "       572, 573, 574, 575, 576, 577, 578, 579, 580, 581, 582, 583, 584,\n",
       "       585, 586, 587, 588, 589, 590, 591, 592, 593, 594, 595, 596, 597,\n",
       "       598, 599, 600, 601, 602, 603, 604, 605, 606, 607, 608, 609, 610,\n",
       "       611, 612, 613, 614, 615, 616, 617, 618, 619, 620, 621, 622, 623,\n",
       "       624, 625, 626, 627, 628, 629, 630, 631, 632, 633, 634, 635, 636,\n",
       "       637, 638, 639, 640, 641, 642, 643, 644, 645, 646, 647, 648, 649,\n",
       "       650, 651, 652, 653, 654, 655, 656, 657, 658, 659, 660, 661, 662,\n",
       "       663, 664, 665, 666, 667, 668, 669, 670, 671, 672, 673, 674, 675,\n",
       "       676, 677, 678, 679, 680, 681, 682, 683, 684, 685, 686, 687, 688,\n",
       "       689, 690, 691, 692, 693, 694, 695, 696, 697, 698, 699, 700, 701,\n",
       "       702, 703, 704, 705, 706, 707, 708, 709, 710, 711, 712, 713, 714,\n",
       "       715, 716, 717, 718, 719, 720, 721, 722, 723, 724, 725, 726, 727,\n",
       "       728, 729, 730, 731, 732, 733, 734, 735, 736, 737, 738, 739, 740,\n",
       "       741, 742, 743, 744, 745, 746, 747, 748, 749, 750, 751, 752, 753,\n",
       "       754, 755, 756, 757, 758, 759, 760, 761, 762, 763, 764, 765, 766,\n",
       "       767, 768, 769, 770, 771, 772, 773, 774, 775, 776, 777, 778, 779,\n",
       "       780, 781, 782, 783, 784, 785, 786, 787, 788, 789, 790, 791, 792,\n",
       "       793, 794, 795, 796, 797, 798, 799, 800, 801, 802, 803, 804, 805,\n",
       "       806, 807, 808, 809, 810, 811, 812, 813, 814, 815, 816, 817, 818,\n",
       "       819, 820, 821, 822, 823, 824, 825, 826, 827, 828, 829, 830, 831,\n",
       "       832, 833, 834, 835, 836, 837, 838, 839, 840, 841, 842, 843, 844,\n",
       "       845, 846, 847, 848, 849, 850, 851, 852, 853, 854, 855, 856, 857,\n",
       "       858, 859, 860, 861, 862, 863, 864, 865, 866, 867, 868, 869, 870,\n",
       "       871, 872, 873, 874, 875, 876, 877, 878, 879, 880, 881, 882, 883,\n",
       "       884, 885, 886, 887, 888, 889, 890, 891, 892, 893, 894, 895, 896,\n",
       "       897, 898, 899, 900, 901, 902, 903, 904, 905, 906, 907, 908, 909,\n",
       "       910, 911, 912, 913, 914, 915, 916, 917, 918, 919, 920, 921, 922,\n",
       "       923, 924, 925, 926, 927, 928, 929, 930, 931, 932, 933, 934, 935,\n",
       "       936, 937, 938, 939, 940, 941, 942, 943, 944, 945, 946, 947, 948,\n",
       "       949, 950, 951, 952, 953, 954, 955, 956, 957, 958, 959, 960, 961,\n",
       "       962, 963, 964, 965, 966, 967, 968, 969, 970, 971, 972, 973, 974,\n",
       "       975, 976, 977, 978, 979, 980, 981, 982, 983, 984, 985, 986, 987,\n",
       "       988, 989, 990, 991, 992, 993, 994, 995, 996, 997, 998, 999])"
      ]
     },
     "execution_count": 4,
     "metadata": {},
     "output_type": "execute_result"
    }
   ],
   "source": [
    "np.arange((1000))"
   ]
  },
  {
   "cell_type": "code",
   "execution_count": 2,
   "id": "a2e433da-cb77-4039-9ea5-2d3a41b22085",
   "metadata": {},
   "outputs": [],
   "source": [
    "a_boolean=np.arange(12).reshape(4,3)"
   ]
  },
  {
   "cell_type": "code",
   "execution_count": 3,
   "id": "3ebf8f5f-a46e-46ef-9f12-c3f41ea403b0",
   "metadata": {},
   "outputs": [
    {
     "data": {
      "text/plain": [
       "array([[ 0,  1,  2],\n",
       "       [ 3,  4,  5],\n",
       "       [ 6,  7,  8],\n",
       "       [ 9, 10, 11]])"
      ]
     },
     "execution_count": 3,
     "metadata": {},
     "output_type": "execute_result"
    }
   ],
   "source": [
    "a_boolean"
   ]
  },
  {
   "cell_type": "code",
   "execution_count": 12,
   "id": "4aca8858-6014-470c-946e-0522a01c25f1",
   "metadata": {},
   "outputs": [],
   "source": [
    "c=a_boolean<5"
   ]
  },
  {
   "cell_type": "code",
   "execution_count": 13,
   "id": "848ad491-12ac-4524-b0e9-8f254421c680",
   "metadata": {},
   "outputs": [
    {
     "data": {
      "text/plain": [
       "array([[ True,  True,  True],\n",
       "       [ True,  True, False],\n",
       "       [False, False, False],\n",
       "       [False, False, False]])"
      ]
     },
     "execution_count": 13,
     "metadata": {},
     "output_type": "execute_result"
    }
   ],
   "source": [
    "c"
   ]
  },
  {
   "cell_type": "code",
   "execution_count": 14,
   "id": "64320be4-1c9c-4058-86d6-feb2aecfe190",
   "metadata": {},
   "outputs": [],
   "source": [
    "d=5<a_boolean"
   ]
  },
  {
   "cell_type": "code",
   "execution_count": 15,
   "id": "beee9ca7-03f3-4695-ae98-6521a2d454ee",
   "metadata": {},
   "outputs": [
    {
     "data": {
      "text/plain": [
       "array([[False, False, False],\n",
       "       [False, False, False],\n",
       "       [ True,  True,  True],\n",
       "       [ True,  True,  True]])"
      ]
     },
     "execution_count": 15,
     "metadata": {},
     "output_type": "execute_result"
    }
   ],
   "source": [
    "d"
   ]
  },
  {
   "cell_type": "code",
   "execution_count": 7,
   "id": "bb981373-aec9-4734-985d-8977b4688c02",
   "metadata": {},
   "outputs": [
    {
     "data": {
      "text/plain": [
       "array([0, 1, 2, 3, 4])"
      ]
     },
     "execution_count": 7,
     "metadata": {},
     "output_type": "execute_result"
    }
   ],
   "source": [
    "a_boolean[c]"
   ]
  },
  {
   "cell_type": "code",
   "execution_count": 20,
   "id": "97c1c0c3-ff8a-4312-bfd0-3c6003a108b7",
   "metadata": {},
   "outputs": [],
   "source": [
    "nos=np.array([2,1,5,3,6,4,6,8,7,9])"
   ]
  },
  {
   "cell_type": "code",
   "execution_count": 21,
   "id": "066a6fa4-3e92-4f96-a268-7365c52244b9",
   "metadata": {},
   "outputs": [
    {
     "data": {
      "text/plain": [
       "array([2, 1, 5, 3, 6, 4, 6, 8, 7, 9])"
      ]
     },
     "execution_count": 21,
     "metadata": {},
     "output_type": "execute_result"
    }
   ],
   "source": [
    "nos"
   ]
  },
  {
   "cell_type": "code",
   "execution_count": 22,
   "id": "2365f217-c4cd-41b5-9b66-6c14eebc51c8",
   "metadata": {},
   "outputs": [
    {
     "data": {
      "text/plain": [
       "array([1, 2, 3, 4, 5, 6, 6, 7, 8, 9])"
      ]
     },
     "execution_count": 22,
     "metadata": {},
     "output_type": "execute_result"
    }
   ],
   "source": [
    "np.sort(nos)"
   ]
  },
  {
   "cell_type": "code",
   "execution_count": 23,
   "id": "aaa00c21-2ffa-4da1-a2d0-958a68d18512",
   "metadata": {},
   "outputs": [],
   "source": [
    "q=np.array([2,4,6,8])\n",
    "t=np.array([10,12,14,16,18])"
   ]
  },
  {
   "cell_type": "code",
   "execution_count": 25,
   "id": "675ceebc-aafb-46a9-a5aa-2588bb726330",
   "metadata": {},
   "outputs": [
    {
     "data": {
      "text/plain": [
       "array([ 2,  4,  6,  8, 10, 12, 14, 16, 18])"
      ]
     },
     "execution_count": 25,
     "metadata": {},
     "output_type": "execute_result"
    }
   ],
   "source": [
    "np.concatenate((q,t))"
   ]
  },
  {
   "cell_type": "code",
   "execution_count": 30,
   "id": "d24d403e-7c9b-4b17-9f20-84683f1f5d48",
   "metadata": {},
   "outputs": [
    {
     "data": {
      "text/plain": [
       "array([1., 1., 1., 1.])"
      ]
     },
     "execution_count": 30,
     "metadata": {},
     "output_type": "execute_result"
    }
   ],
   "source": [
    "ones=np.ones(4)\n",
    "ones"
   ]
  },
  {
   "cell_type": "code",
   "execution_count": 39,
   "id": "f0f80902-2444-4abd-9ae2-35835023610b",
   "metadata": {},
   "outputs": [],
   "source": [
    "a1=([2,4,6,8])"
   ]
  },
  {
   "cell_type": "code",
   "execution_count": 55,
   "id": "2c4afd39-074a-4f2b-846b-90802245ef6e",
   "metadata": {},
   "outputs": [
    {
     "data": {
      "text/plain": [
       "[2, 4, 6, 8]"
      ]
     },
     "execution_count": 55,
     "metadata": {},
     "output_type": "execute_result"
    }
   ],
   "source": [
    "a1"
   ]
  },
  {
   "cell_type": "code",
   "execution_count": 59,
   "id": "79bb9c90-b55e-4f9e-9c5d-d1aa50de7a91",
   "metadata": {},
   "outputs": [
    {
     "data": {
      "text/plain": [
       "[2, 4, 6, 8, 5, 4]"
      ]
     },
     "execution_count": 59,
     "metadata": {},
     "output_type": "execute_result"
    }
   ],
   "source": [
    "a1+([5,4])"
   ]
  },
  {
   "cell_type": "code",
   "execution_count": 42,
   "id": "68d255b2-8095-4034-8c6a-7202b157ac43",
   "metadata": {},
   "outputs": [
    {
     "ename": "TypeError",
     "evalue": "can only concatenate list (not \"tuple\") to list",
     "output_type": "error",
     "traceback": [
      "\u001b[0;31m---------------------------------------------------------------------------\u001b[0m",
      "\u001b[0;31mTypeError\u001b[0m                                 Traceback (most recent call last)",
      "Cell \u001b[0;32mIn[42], line 1\u001b[0m\n\u001b[0;32m----> 1\u001b[0m a1\u001b[38;5;241m+\u001b[39m(\u001b[38;5;241m5\u001b[39m,\u001b[38;5;241m4\u001b[39m)\n",
      "\u001b[0;31mTypeError\u001b[0m: can only concatenate list (not \"tuple\") to list"
     ]
    }
   ],
   "source": [
    "a1+(5,4)"
   ]
  },
  {
   "cell_type": "code",
   "execution_count": 43,
   "id": "8a22a93c-43ff-4af2-a6b0-74d4409b4d95",
   "metadata": {},
   "outputs": [
    {
     "data": {
      "text/plain": [
       "array([3., 5., 7., 9.])"
      ]
     },
     "execution_count": 43,
     "metadata": {},
     "output_type": "execute_result"
    }
   ],
   "source": [
    "a1+ones"
   ]
  },
  {
   "cell_type": "code",
   "execution_count": 44,
   "id": "e15313a7-765a-4591-9b0b-5ab83714cd42",
   "metadata": {},
   "outputs": [
    {
     "ename": "NameError",
     "evalue": "name 'one' is not defined",
     "output_type": "error",
     "traceback": [
      "\u001b[0;31m---------------------------------------------------------------------------\u001b[0m",
      "\u001b[0;31mNameError\u001b[0m                                 Traceback (most recent call last)",
      "Cell \u001b[0;32mIn[44], line 1\u001b[0m\n\u001b[0;32m----> 1\u001b[0m a1\u001b[38;5;241m+\u001b[39mone\n",
      "\u001b[0;31mNameError\u001b[0m: name 'one' is not defined"
     ]
    }
   ],
   "source": [
    "a1+one"
   ]
  },
  {
   "cell_type": "code",
   "execution_count": 45,
   "id": "cfef8f10-6919-4a86-acf8-c96394a3a434",
   "metadata": {},
   "outputs": [
    {
     "data": {
      "text/plain": [
       "array([1., 3., 5., 7.])"
      ]
     },
     "execution_count": 45,
     "metadata": {},
     "output_type": "execute_result"
    }
   ],
   "source": [
    "a1-ones"
   ]
  },
  {
   "cell_type": "code",
   "execution_count": 46,
   "id": "e9f1b23a-8aad-4d5c-a4da-078dc55c894e",
   "metadata": {},
   "outputs": [
    {
     "data": {
      "text/plain": [
       "array([2., 4., 6., 8.])"
      ]
     },
     "execution_count": 46,
     "metadata": {},
     "output_type": "execute_result"
    }
   ],
   "source": [
    "a1/ones"
   ]
  },
  {
   "cell_type": "code",
   "execution_count": 52,
   "id": "05453cfa-0980-444d-9384-1a1576eb50f7",
   "metadata": {},
   "outputs": [
    {
     "data": {
      "text/plain": [
       "array([2., 4., 6., 8.])"
      ]
     },
     "execution_count": 52,
     "metadata": {},
     "output_type": "execute_result"
    }
   ],
   "source": [
    "a1*ones"
   ]
  },
  {
   "cell_type": "code",
   "execution_count": 54,
   "id": "64b58ca2-8f27-4961-a7cb-83cea1133419",
   "metadata": {},
   "outputs": [
    {
     "ename": "TypeError",
     "evalue": "unsupported operand type(s) for %: 'list' and 'int'",
     "output_type": "error",
     "traceback": [
      "\u001b[0;31m---------------------------------------------------------------------------\u001b[0m",
      "\u001b[0;31mTypeError\u001b[0m                                 Traceback (most recent call last)",
      "Cell \u001b[0;32mIn[54], line 1\u001b[0m\n\u001b[0;32m----> 1\u001b[0m a1\u001b[38;5;241m%\u001b[39m \u001b[38;5;241m2\u001b[39m\n",
      "\u001b[0;31mTypeError\u001b[0m: unsupported operand type(s) for %: 'list' and 'int'"
     ]
    }
   ],
   "source": []
  },
  {
   "cell_type": "code",
   "execution_count": 60,
   "id": "6754536e-f477-4162-92da-ea9892f6e807",
   "metadata": {},
   "outputs": [
    {
     "data": {
      "text/plain": [
       "array([0.69314718, 1.38629436, 1.79175947, 2.07944154])"
      ]
     },
     "execution_count": 60,
     "metadata": {},
     "output_type": "execute_result"
    }
   ],
   "source": [
    "np.log(a1)"
   ]
  },
  {
   "cell_type": "code",
   "execution_count": 61,
   "id": "19581a69-0390-4623-89b8-35d1d2957afc",
   "metadata": {},
   "outputs": [
    {
     "data": {
      "text/plain": [
       "array([   7.3890561 ,   54.59815003,  403.42879349, 2980.95798704])"
      ]
     },
     "execution_count": 61,
     "metadata": {},
     "output_type": "execute_result"
    }
   ],
   "source": [
    "np.exp(a1)"
   ]
  },
  {
   "cell_type": "code",
   "execution_count": 62,
   "id": "d0e9abde-aeda-4573-ae9d-0c6071f56c4a",
   "metadata": {},
   "outputs": [
    {
     "data": {
      "text/plain": [
       "20"
      ]
     },
     "execution_count": 62,
     "metadata": {},
     "output_type": "execute_result"
    }
   ],
   "source": [
    "np.sum(a1)"
   ]
  },
  {
   "cell_type": "code",
   "execution_count": 69,
   "id": "d52fc92d-27cb-42f5-aaad-a46b8e31e989",
   "metadata": {},
   "outputs": [],
   "source": [
    "a2=([1,2,3],[4,5,6])"
   ]
  },
  {
   "cell_type": "code",
   "execution_count": 70,
   "id": "4a331f12-2260-4cae-a51e-78e4418498d5",
   "metadata": {},
   "outputs": [
    {
     "data": {
      "text/plain": [
       "([1, 2, 3], [4, 5, 6])"
      ]
     },
     "execution_count": 70,
     "metadata": {},
     "output_type": "execute_result"
    }
   ],
   "source": [
    "a2"
   ]
  },
  {
   "cell_type": "code",
   "execution_count": 72,
   "id": "be7e22d2-8d7e-4642-9ffa-339a95672441",
   "metadata": {},
   "outputs": [],
   "source": [
    "a2=np.array([(1,2,3),(4,5,6)])"
   ]
  },
  {
   "cell_type": "code",
   "execution_count": 73,
   "id": "bf8cfc04-cbd7-4023-ab1a-4698ab02668b",
   "metadata": {},
   "outputs": [
    {
     "data": {
      "text/plain": [
       "array([[1, 2, 3],\n",
       "       [4, 5, 6]])"
      ]
     },
     "execution_count": 73,
     "metadata": {},
     "output_type": "execute_result"
    }
   ],
   "source": [
    "a2"
   ]
  },
  {
   "cell_type": "code",
   "execution_count": 74,
   "id": "8dff3566-f88b-4c2a-947d-1029572f3f49",
   "metadata": {},
   "outputs": [
    {
     "data": {
      "text/plain": [
       "3.5"
      ]
     },
     "execution_count": 74,
     "metadata": {},
     "output_type": "execute_result"
    }
   ],
   "source": [
    "np.mean(a2)"
   ]
  },
  {
   "cell_type": "code",
   "execution_count": 75,
   "id": "50d36be5-ad28-43a7-aad1-1fe826255a73",
   "metadata": {},
   "outputs": [
    {
     "data": {
      "text/plain": [
       "1"
      ]
     },
     "execution_count": 75,
     "metadata": {},
     "output_type": "execute_result"
    }
   ],
   "source": [
    "np.min(a2)"
   ]
  },
  {
   "cell_type": "code",
   "execution_count": 76,
   "id": "b034f3ee-824f-41df-ba4e-95ecfa6a10c7",
   "metadata": {},
   "outputs": [
    {
     "data": {
      "text/plain": [
       "6"
      ]
     },
     "execution_count": 76,
     "metadata": {},
     "output_type": "execute_result"
    }
   ],
   "source": [
    "np.max(a2)"
   ]
  },
  {
   "cell_type": "code",
   "execution_count": 77,
   "id": "822d69a9-6b87-44b7-83e9-0c8f472d92a9",
   "metadata": {},
   "outputs": [
    {
     "data": {
      "text/plain": [
       "1.707825127659933"
      ]
     },
     "execution_count": 77,
     "metadata": {},
     "output_type": "execute_result"
    }
   ],
   "source": [
    "np.std(a2)"
   ]
  },
  {
   "cell_type": "code",
   "execution_count": 78,
   "id": "ef315f2a-b088-4c05-85e6-e78d5bd676a8",
   "metadata": {},
   "outputs": [
    {
     "data": {
      "text/plain": [
       "2.9166666666666665"
      ]
     },
     "execution_count": 78,
     "metadata": {},
     "output_type": "execute_result"
    }
   ],
   "source": [
    "np.var(a2)"
   ]
  },
  {
   "cell_type": "code",
   "execution_count": 79,
   "id": "42b748d8-6662-4bb3-9655-e487a3607940",
   "metadata": {},
   "outputs": [
    {
     "data": {
      "text/plain": [
       "array([1, 2, 3, 4, 5, 6])"
      ]
     },
     "execution_count": 79,
     "metadata": {},
     "output_type": "execute_result"
    }
   ],
   "source": [
    "a2.ravel()"
   ]
  },
  {
   "cell_type": "code",
   "execution_count": 80,
   "id": "1184ea5d-0c21-4c6c-8161-b254bbcf5b2e",
   "metadata": {},
   "outputs": [
    {
     "data": {
      "text/plain": [
       "array([1, 2, 3, 4, 5, 6])"
      ]
     },
     "execution_count": 80,
     "metadata": {},
     "output_type": "execute_result"
    }
   ],
   "source": [
    "np.ravel(a2)"
   ]
  },
  {
   "cell_type": "code",
   "execution_count": null,
   "id": "fee94b6b-8a5d-46c4-87fd-f38cd5e26daf",
   "metadata": {},
   "outputs": [],
   "source": [
    "np.hstac"
   ]
  },
  {
   "cell_type": "code",
   "execution_count": null,
   "id": "5dde8895-de64-439f-a109-03e725f84b6e",
   "metadata": {},
   "outputs": [],
   "source": []
  },
  {
   "cell_type": "code",
   "execution_count": 83,
   "id": "bbaf9d0b-d43a-4ee6-a11b-ab24a56c1bc7",
   "metadata": {},
   "outputs": [
    {
     "data": {
      "text/plain": [
       "array([[[0.07984246, 0.89324644, 0.45482544, 0.03915933, 0.51130916],\n",
       "        [0.79938799, 0.95791181, 0.21729801, 0.93932307, 0.22783767],\n",
       "        [0.84145578, 0.56340099, 0.47625924, 0.56100934, 0.09657681]],\n",
       "\n",
       "       [[0.23790713, 0.88224977, 0.1067784 , 0.9606665 , 0.74249573],\n",
       "        [0.84664133, 0.99238408, 0.1387216 , 0.26073686, 0.72309708],\n",
       "        [0.76927442, 0.71002652, 0.3650513 , 0.10740009, 0.11479506]],\n",
       "\n",
       "       [[0.44652205, 0.64143444, 0.00740794, 0.06298925, 0.15462482],\n",
       "        [0.40399728, 0.93776831, 0.67762551, 0.77280728, 0.18224403],\n",
       "        [0.34828328, 0.50186268, 0.5305736 , 0.54254164, 0.41514309]]])"
      ]
     },
     "execution_count": 83,
     "metadata": {},
     "output_type": "execute_result"
    }
   ],
   "source": [
    "matrice=np.random.random(size=(3,3,5))\n",
    "matrice"
   ]
  },
  {
   "cell_type": "code",
   "execution_count": 85,
   "id": "ce881005-c62c-40c8-8781-7cdc93019aeb",
   "metadata": {},
   "outputs": [
    {
     "data": {
      "text/plain": [
       "array([[[0.07984246, 0.23790713, 0.44652205],\n",
       "        [0.79938799, 0.84664133, 0.40399728],\n",
       "        [0.84145578, 0.76927442, 0.34828328]],\n",
       "\n",
       "       [[0.89324644, 0.88224977, 0.64143444],\n",
       "        [0.95791181, 0.99238408, 0.93776831],\n",
       "        [0.56340099, 0.71002652, 0.50186268]],\n",
       "\n",
       "       [[0.45482544, 0.1067784 , 0.00740794],\n",
       "        [0.21729801, 0.1387216 , 0.67762551],\n",
       "        [0.47625924, 0.3650513 , 0.5305736 ]],\n",
       "\n",
       "       [[0.03915933, 0.9606665 , 0.06298925],\n",
       "        [0.93932307, 0.26073686, 0.77280728],\n",
       "        [0.56100934, 0.10740009, 0.54254164]],\n",
       "\n",
       "       [[0.51130916, 0.74249573, 0.15462482],\n",
       "        [0.22783767, 0.72309708, 0.18224403],\n",
       "        [0.09657681, 0.11479506, 0.41514309]]])"
      ]
     },
     "execution_count": 85,
     "metadata": {},
     "output_type": "execute_result"
    }
   ],
   "source": [
    "matrice.T"
   ]
  },
  {
   "cell_type": "markdown",
   "id": "d6bf03f6-3b7b-4fa3-8d87-8dfbcabe2f78",
   "metadata": {},
   "source": [
    "# pandas"
   ]
  },
  {
   "cell_type": "code",
   "execution_count": 1,
   "id": "7c4db265-f189-458c-83f2-2af0e400c5bc",
   "metadata": {},
   "outputs": [],
   "source": [
    "import pandas as pd\n",
    "import numpy as np"
   ]
  },
  {
   "cell_type": "code",
   "execution_count": 3,
   "id": "c49d97a7-0608-47ba-a94d-0c7995a360d1",
   "metadata": {},
   "outputs": [],
   "source": [
    "colors=pd.Series(['pink','grey','black','red'])"
   ]
  },
  {
   "cell_type": "code",
   "execution_count": 4,
   "id": "1131472e-b3eb-497e-8cc5-710532c3288d",
   "metadata": {},
   "outputs": [
    {
     "data": {
      "text/plain": [
       "0     pink\n",
       "1     grey\n",
       "2    black\n",
       "3      red\n",
       "dtype: object"
      ]
     },
     "execution_count": 4,
     "metadata": {},
     "output_type": "execute_result"
    }
   ],
   "source": [
    "colors"
   ]
  },
  {
   "cell_type": "code",
   "execution_count": 5,
   "id": "21e03290-ab4c-459d-8f4d-22c45bdeb61c",
   "metadata": {},
   "outputs": [],
   "source": [
    "cars=pd.Series(['chevrolet',\"tesla\",'kia','bmw'])"
   ]
  },
  {
   "cell_type": "code",
   "execution_count": 6,
   "id": "9a9d1d4b-f83a-48c2-bee8-2730a0ebacc7",
   "metadata": {},
   "outputs": [
    {
     "data": {
      "text/plain": [
       "0    chevrolet\n",
       "1        tesla\n",
       "2          kia\n",
       "3          bmw\n",
       "dtype: object"
      ]
     },
     "execution_count": 6,
     "metadata": {},
     "output_type": "execute_result"
    }
   ],
   "source": [
    "cars"
   ]
  },
  {
   "cell_type": "code",
   "execution_count": 7,
   "id": "75fa673a-7d03-4953-b688-1c9daa43a442",
   "metadata": {},
   "outputs": [
    {
     "data": {
      "text/plain": [
       "pandas.core.series.Series"
      ]
     },
     "execution_count": 7,
     "metadata": {},
     "output_type": "execute_result"
    }
   ],
   "source": [
    "type(cars)"
   ]
  },
  {
   "cell_type": "code",
   "execution_count": 12,
   "id": "2e41b2b5-3ed3-4ea8-be83-8d472bc4f7f7",
   "metadata": {},
   "outputs": [],
   "source": [
    "#D and F should be in caps\n",
    "car_data = pd.DataFrame({'items':nums,'car type':cars,'color':colors},index=num)"
   ]
  },
  {
   "cell_type": "code",
   "execution_count": 13,
   "id": "6f428bd3-9732-4cbb-999b-4df5ce311c3d",
   "metadata": {},
   "outputs": [
    {
     "data": {
      "text/html": [
       "<div>\n",
       "<style scoped>\n",
       "    .dataframe tbody tr th:only-of-type {\n",
       "        vertical-align: middle;\n",
       "    }\n",
       "\n",
       "    .dataframe tbody tr th {\n",
       "        vertical-align: top;\n",
       "    }\n",
       "\n",
       "    .dataframe thead th {\n",
       "        text-align: right;\n",
       "    }\n",
       "</style>\n",
       "<table border=\"1\" class=\"dataframe\">\n",
       "  <thead>\n",
       "    <tr style=\"text-align: right;\">\n",
       "      <th></th>\n",
       "      <th>items</th>\n",
       "      <th>car type</th>\n",
       "      <th>color</th>\n",
       "    </tr>\n",
       "  </thead>\n",
       "  <tbody>\n",
       "    <tr>\n",
       "      <th>1</th>\n",
       "      <td>item1</td>\n",
       "      <td>tesla</td>\n",
       "      <td>grey</td>\n",
       "    </tr>\n",
       "    <tr>\n",
       "      <th>2</th>\n",
       "      <td>item2</td>\n",
       "      <td>kia</td>\n",
       "      <td>black</td>\n",
       "    </tr>\n",
       "    <tr>\n",
       "      <th>3</th>\n",
       "      <td>item3</td>\n",
       "      <td>bmw</td>\n",
       "      <td>red</td>\n",
       "    </tr>\n",
       "    <tr>\n",
       "      <th>4</th>\n",
       "      <td>item4</td>\n",
       "      <td>NaN</td>\n",
       "      <td>NaN</td>\n",
       "    </tr>\n",
       "  </tbody>\n",
       "</table>\n",
       "</div>"
      ],
      "text/plain": [
       "   items car type  color\n",
       "1  item1    tesla   grey\n",
       "2  item2      kia  black\n",
       "3  item3      bmw    red\n",
       "4  item4      NaN    NaN"
      ]
     },
     "execution_count": 13,
     "metadata": {},
     "output_type": "execute_result"
    }
   ],
   "source": [
    "car_data"
   ]
  },
  {
   "cell_type": "code",
   "execution_count": 20,
   "id": "7ede41fd-6013-4524-9f06-308061ab3bef",
   "metadata": {},
   "outputs": [],
   "source": [
    "nums=['item1','item2','item3','item4']"
   ]
  },
  {
   "cell_type": "code",
   "execution_count": 11,
   "id": "5b74a276-d855-405d-8d92-b5da72e89506",
   "metadata": {},
   "outputs": [],
   "source": [
    "num=[1,2,3,4]\n"
   ]
  },
  {
   "cell_type": "code",
   "execution_count": 22,
   "id": "a2f65595-3d94-461e-b6c3-3a5de62b824d",
   "metadata": {},
   "outputs": [
    {
     "data": {
      "text/plain": [
       "array([[0.86746352, 0.53626887, 0.60799276, 0.44836732],\n",
       "       [0.20191124, 0.25906236, 0.67558816, 0.31510932],\n",
       "       [0.02640508, 0.16391133, 0.49070368, 0.8133947 ],\n",
       "       [0.52324733, 0.11181154, 0.17999828, 0.89334   ],\n",
       "       [0.65610491, 0.50421866, 0.57959834, 0.53562725]])"
      ]
     },
     "execution_count": 22,
     "metadata": {},
     "output_type": "execute_result"
    }
   ],
   "source": [
    "np.random.rand(5,4)"
   ]
  },
  {
   "cell_type": "code",
   "execution_count": null,
   "id": "51c40723-7d88-47b9-9705-e9e7fd1f21b8",
   "metadata": {},
   "outputs": [],
   "source": []
  },
  {
   "cell_type": "markdown",
   "id": "abf1f82b-66ac-44b6-a472-b37fe3612c34",
   "metadata": {},
   "source": [
    "# TITANIC"
   ]
  },
  {
   "cell_type": "code",
   "execution_count": 25,
   "id": "59dd8b26-8838-4761-bd4e-3efd07d5ff92",
   "metadata": {},
   "outputs": [],
   "source": [
    "ttc=pd.read_csv(\"my titanic.csv\")"
   ]
  },
  {
   "cell_type": "code",
   "execution_count": 26,
   "id": "47b2a217-49fe-4d5e-ad77-caca7a3d053a",
   "metadata": {},
   "outputs": [
    {
     "data": {
      "text/html": [
       "<div>\n",
       "<style scoped>\n",
       "    .dataframe tbody tr th:only-of-type {\n",
       "        vertical-align: middle;\n",
       "    }\n",
       "\n",
       "    .dataframe tbody tr th {\n",
       "        vertical-align: top;\n",
       "    }\n",
       "\n",
       "    .dataframe thead th {\n",
       "        text-align: right;\n",
       "    }\n",
       "</style>\n",
       "<table border=\"1\" class=\"dataframe\">\n",
       "  <thead>\n",
       "    <tr style=\"text-align: right;\">\n",
       "      <th></th>\n",
       "      <th>Survived</th>\n",
       "      <th>Pclass</th>\n",
       "      <th>Name</th>\n",
       "      <th>Sex</th>\n",
       "      <th>Age</th>\n",
       "      <th>Siblings/Spouses Aboard</th>\n",
       "      <th>Parents/Children Aboard</th>\n",
       "      <th>Fare</th>\n",
       "    </tr>\n",
       "  </thead>\n",
       "  <tbody>\n",
       "    <tr>\n",
       "      <th>0</th>\n",
       "      <td>0</td>\n",
       "      <td>3</td>\n",
       "      <td>Mr. Owen Harris Braund</td>\n",
       "      <td>male</td>\n",
       "      <td>22.0</td>\n",
       "      <td>1</td>\n",
       "      <td>0</td>\n",
       "      <td>7.2500</td>\n",
       "    </tr>\n",
       "    <tr>\n",
       "      <th>1</th>\n",
       "      <td>1</td>\n",
       "      <td>1</td>\n",
       "      <td>Mrs. John Bradley (Florence Briggs Thayer) Cum...</td>\n",
       "      <td>female</td>\n",
       "      <td>38.0</td>\n",
       "      <td>1</td>\n",
       "      <td>0</td>\n",
       "      <td>71.2833</td>\n",
       "    </tr>\n",
       "    <tr>\n",
       "      <th>2</th>\n",
       "      <td>1</td>\n",
       "      <td>3</td>\n",
       "      <td>Miss. Laina Heikkinen</td>\n",
       "      <td>female</td>\n",
       "      <td>26.0</td>\n",
       "      <td>0</td>\n",
       "      <td>0</td>\n",
       "      <td>7.9250</td>\n",
       "    </tr>\n",
       "    <tr>\n",
       "      <th>3</th>\n",
       "      <td>1</td>\n",
       "      <td>1</td>\n",
       "      <td>Mrs. Jacques Heath (Lily May Peel) Futrelle</td>\n",
       "      <td>female</td>\n",
       "      <td>35.0</td>\n",
       "      <td>1</td>\n",
       "      <td>0</td>\n",
       "      <td>53.1000</td>\n",
       "    </tr>\n",
       "    <tr>\n",
       "      <th>4</th>\n",
       "      <td>0</td>\n",
       "      <td>3</td>\n",
       "      <td>Mr. William Henry Allen</td>\n",
       "      <td>male</td>\n",
       "      <td>35.0</td>\n",
       "      <td>0</td>\n",
       "      <td>0</td>\n",
       "      <td>8.0500</td>\n",
       "    </tr>\n",
       "    <tr>\n",
       "      <th>...</th>\n",
       "      <td>...</td>\n",
       "      <td>...</td>\n",
       "      <td>...</td>\n",
       "      <td>...</td>\n",
       "      <td>...</td>\n",
       "      <td>...</td>\n",
       "      <td>...</td>\n",
       "      <td>...</td>\n",
       "    </tr>\n",
       "    <tr>\n",
       "      <th>882</th>\n",
       "      <td>0</td>\n",
       "      <td>2</td>\n",
       "      <td>Rev. Juozas Montvila</td>\n",
       "      <td>male</td>\n",
       "      <td>27.0</td>\n",
       "      <td>0</td>\n",
       "      <td>0</td>\n",
       "      <td>13.0000</td>\n",
       "    </tr>\n",
       "    <tr>\n",
       "      <th>883</th>\n",
       "      <td>1</td>\n",
       "      <td>1</td>\n",
       "      <td>Miss. Margaret Edith Graham</td>\n",
       "      <td>female</td>\n",
       "      <td>19.0</td>\n",
       "      <td>0</td>\n",
       "      <td>0</td>\n",
       "      <td>30.0000</td>\n",
       "    </tr>\n",
       "    <tr>\n",
       "      <th>884</th>\n",
       "      <td>0</td>\n",
       "      <td>3</td>\n",
       "      <td>Miss. Catherine Helen Johnston</td>\n",
       "      <td>female</td>\n",
       "      <td>7.0</td>\n",
       "      <td>1</td>\n",
       "      <td>2</td>\n",
       "      <td>23.4500</td>\n",
       "    </tr>\n",
       "    <tr>\n",
       "      <th>885</th>\n",
       "      <td>1</td>\n",
       "      <td>1</td>\n",
       "      <td>Mr. Karl Howell Behr</td>\n",
       "      <td>male</td>\n",
       "      <td>26.0</td>\n",
       "      <td>0</td>\n",
       "      <td>0</td>\n",
       "      <td>30.0000</td>\n",
       "    </tr>\n",
       "    <tr>\n",
       "      <th>886</th>\n",
       "      <td>0</td>\n",
       "      <td>3</td>\n",
       "      <td>Mr. Patrick Dooley</td>\n",
       "      <td>male</td>\n",
       "      <td>32.0</td>\n",
       "      <td>0</td>\n",
       "      <td>0</td>\n",
       "      <td>7.7500</td>\n",
       "    </tr>\n",
       "  </tbody>\n",
       "</table>\n",
       "<p>887 rows × 8 columns</p>\n",
       "</div>"
      ],
      "text/plain": [
       "     Survived  Pclass                                               Name  \\\n",
       "0           0       3                             Mr. Owen Harris Braund   \n",
       "1           1       1  Mrs. John Bradley (Florence Briggs Thayer) Cum...   \n",
       "2           1       3                              Miss. Laina Heikkinen   \n",
       "3           1       1        Mrs. Jacques Heath (Lily May Peel) Futrelle   \n",
       "4           0       3                            Mr. William Henry Allen   \n",
       "..        ...     ...                                                ...   \n",
       "882         0       2                               Rev. Juozas Montvila   \n",
       "883         1       1                        Miss. Margaret Edith Graham   \n",
       "884         0       3                     Miss. Catherine Helen Johnston   \n",
       "885         1       1                               Mr. Karl Howell Behr   \n",
       "886         0       3                                 Mr. Patrick Dooley   \n",
       "\n",
       "        Sex   Age  Siblings/Spouses Aboard  Parents/Children Aboard     Fare  \n",
       "0      male  22.0                        1                        0   7.2500  \n",
       "1    female  38.0                        1                        0  71.2833  \n",
       "2    female  26.0                        0                        0   7.9250  \n",
       "3    female  35.0                        1                        0  53.1000  \n",
       "4      male  35.0                        0                        0   8.0500  \n",
       "..      ...   ...                      ...                      ...      ...  \n",
       "882    male  27.0                        0                        0  13.0000  \n",
       "883  female  19.0                        0                        0  30.0000  \n",
       "884  female   7.0                        1                        2  23.4500  \n",
       "885    male  26.0                        0                        0  30.0000  \n",
       "886    male  32.0                        0                        0   7.7500  \n",
       "\n",
       "[887 rows x 8 columns]"
      ]
     },
     "execution_count": 26,
     "metadata": {},
     "output_type": "execute_result"
    }
   ],
   "source": [
    "ttc"
   ]
  },
  {
   "cell_type": "code",
   "execution_count": 31,
   "id": "186d90d9-b56b-429b-98be-06640c809182",
   "metadata": {},
   "outputs": [
    {
     "data": {
      "text/html": [
       "<div>\n",
       "<style scoped>\n",
       "    .dataframe tbody tr th:only-of-type {\n",
       "        vertical-align: middle;\n",
       "    }\n",
       "\n",
       "    .dataframe tbody tr th {\n",
       "        vertical-align: top;\n",
       "    }\n",
       "\n",
       "    .dataframe thead th {\n",
       "        text-align: right;\n",
       "    }\n",
       "</style>\n",
       "<table border=\"1\" class=\"dataframe\">\n",
       "  <thead>\n",
       "    <tr style=\"text-align: right;\">\n",
       "      <th></th>\n",
       "      <th>Survived</th>\n",
       "      <th>Pclass</th>\n",
       "      <th>Name</th>\n",
       "      <th>Sex</th>\n",
       "      <th>Age</th>\n",
       "      <th>Siblings/Spouses Aboard</th>\n",
       "      <th>Parents/Children Aboard</th>\n",
       "      <th>Fare</th>\n",
       "    </tr>\n",
       "  </thead>\n",
       "  <tbody>\n",
       "    <tr>\n",
       "      <th>882</th>\n",
       "      <td>0</td>\n",
       "      <td>2</td>\n",
       "      <td>Rev. Juozas Montvila</td>\n",
       "      <td>male</td>\n",
       "      <td>27.0</td>\n",
       "      <td>0</td>\n",
       "      <td>0</td>\n",
       "      <td>13.00</td>\n",
       "    </tr>\n",
       "    <tr>\n",
       "      <th>883</th>\n",
       "      <td>1</td>\n",
       "      <td>1</td>\n",
       "      <td>Miss. Margaret Edith Graham</td>\n",
       "      <td>female</td>\n",
       "      <td>19.0</td>\n",
       "      <td>0</td>\n",
       "      <td>0</td>\n",
       "      <td>30.00</td>\n",
       "    </tr>\n",
       "    <tr>\n",
       "      <th>884</th>\n",
       "      <td>0</td>\n",
       "      <td>3</td>\n",
       "      <td>Miss. Catherine Helen Johnston</td>\n",
       "      <td>female</td>\n",
       "      <td>7.0</td>\n",
       "      <td>1</td>\n",
       "      <td>2</td>\n",
       "      <td>23.45</td>\n",
       "    </tr>\n",
       "    <tr>\n",
       "      <th>885</th>\n",
       "      <td>1</td>\n",
       "      <td>1</td>\n",
       "      <td>Mr. Karl Howell Behr</td>\n",
       "      <td>male</td>\n",
       "      <td>26.0</td>\n",
       "      <td>0</td>\n",
       "      <td>0</td>\n",
       "      <td>30.00</td>\n",
       "    </tr>\n",
       "    <tr>\n",
       "      <th>886</th>\n",
       "      <td>0</td>\n",
       "      <td>3</td>\n",
       "      <td>Mr. Patrick Dooley</td>\n",
       "      <td>male</td>\n",
       "      <td>32.0</td>\n",
       "      <td>0</td>\n",
       "      <td>0</td>\n",
       "      <td>7.75</td>\n",
       "    </tr>\n",
       "  </tbody>\n",
       "</table>\n",
       "</div>"
      ],
      "text/plain": [
       "     Survived  Pclass                            Name     Sex   Age  \\\n",
       "882         0       2            Rev. Juozas Montvila    male  27.0   \n",
       "883         1       1     Miss. Margaret Edith Graham  female  19.0   \n",
       "884         0       3  Miss. Catherine Helen Johnston  female   7.0   \n",
       "885         1       1            Mr. Karl Howell Behr    male  26.0   \n",
       "886         0       3              Mr. Patrick Dooley    male  32.0   \n",
       "\n",
       "     Siblings/Spouses Aboard  Parents/Children Aboard   Fare  \n",
       "882                        0                        0  13.00  \n",
       "883                        0                        0  30.00  \n",
       "884                        1                        2  23.45  \n",
       "885                        0                        0  30.00  \n",
       "886                        0                        0   7.75  "
      ]
     },
     "execution_count": 31,
     "metadata": {},
     "output_type": "execute_result"
    }
   ],
   "source": [
    "ttc.tail(5)"
   ]
  },
  {
   "cell_type": "code",
   "execution_count": 28,
   "id": "93515828-dfe9-403f-a1df-eaf2302a56ba",
   "metadata": {},
   "outputs": [
    {
     "data": {
      "text/html": [
       "<div>\n",
       "<style scoped>\n",
       "    .dataframe tbody tr th:only-of-type {\n",
       "        vertical-align: middle;\n",
       "    }\n",
       "\n",
       "    .dataframe tbody tr th {\n",
       "        vertical-align: top;\n",
       "    }\n",
       "\n",
       "    .dataframe thead th {\n",
       "        text-align: right;\n",
       "    }\n",
       "</style>\n",
       "<table border=\"1\" class=\"dataframe\">\n",
       "  <thead>\n",
       "    <tr style=\"text-align: right;\">\n",
       "      <th></th>\n",
       "      <th>Survived</th>\n",
       "      <th>Pclass</th>\n",
       "      <th>Name</th>\n",
       "      <th>Sex</th>\n",
       "      <th>Age</th>\n",
       "      <th>Siblings/Spouses Aboard</th>\n",
       "      <th>Parents/Children Aboard</th>\n",
       "      <th>Fare</th>\n",
       "    </tr>\n",
       "  </thead>\n",
       "  <tbody>\n",
       "    <tr>\n",
       "      <th>0</th>\n",
       "      <td>0</td>\n",
       "      <td>3</td>\n",
       "      <td>Mr. Owen Harris Braund</td>\n",
       "      <td>male</td>\n",
       "      <td>22.0</td>\n",
       "      <td>1</td>\n",
       "      <td>0</td>\n",
       "      <td>7.2500</td>\n",
       "    </tr>\n",
       "    <tr>\n",
       "      <th>1</th>\n",
       "      <td>1</td>\n",
       "      <td>1</td>\n",
       "      <td>Mrs. John Bradley (Florence Briggs Thayer) Cum...</td>\n",
       "      <td>female</td>\n",
       "      <td>38.0</td>\n",
       "      <td>1</td>\n",
       "      <td>0</td>\n",
       "      <td>71.2833</td>\n",
       "    </tr>\n",
       "    <tr>\n",
       "      <th>2</th>\n",
       "      <td>1</td>\n",
       "      <td>3</td>\n",
       "      <td>Miss. Laina Heikkinen</td>\n",
       "      <td>female</td>\n",
       "      <td>26.0</td>\n",
       "      <td>0</td>\n",
       "      <td>0</td>\n",
       "      <td>7.9250</td>\n",
       "    </tr>\n",
       "    <tr>\n",
       "      <th>3</th>\n",
       "      <td>1</td>\n",
       "      <td>1</td>\n",
       "      <td>Mrs. Jacques Heath (Lily May Peel) Futrelle</td>\n",
       "      <td>female</td>\n",
       "      <td>35.0</td>\n",
       "      <td>1</td>\n",
       "      <td>0</td>\n",
       "      <td>53.1000</td>\n",
       "    </tr>\n",
       "    <tr>\n",
       "      <th>4</th>\n",
       "      <td>0</td>\n",
       "      <td>3</td>\n",
       "      <td>Mr. William Henry Allen</td>\n",
       "      <td>male</td>\n",
       "      <td>35.0</td>\n",
       "      <td>0</td>\n",
       "      <td>0</td>\n",
       "      <td>8.0500</td>\n",
       "    </tr>\n",
       "    <tr>\n",
       "      <th>5</th>\n",
       "      <td>0</td>\n",
       "      <td>3</td>\n",
       "      <td>Mr. James Moran</td>\n",
       "      <td>male</td>\n",
       "      <td>27.0</td>\n",
       "      <td>0</td>\n",
       "      <td>0</td>\n",
       "      <td>8.4583</td>\n",
       "    </tr>\n",
       "    <tr>\n",
       "      <th>6</th>\n",
       "      <td>0</td>\n",
       "      <td>1</td>\n",
       "      <td>Mr. Timothy J McCarthy</td>\n",
       "      <td>male</td>\n",
       "      <td>NaN</td>\n",
       "      <td>0</td>\n",
       "      <td>0</td>\n",
       "      <td>51.8625</td>\n",
       "    </tr>\n",
       "    <tr>\n",
       "      <th>7</th>\n",
       "      <td>0</td>\n",
       "      <td>3</td>\n",
       "      <td>Master. Gosta Leonard Palsson</td>\n",
       "      <td>male</td>\n",
       "      <td>2.0</td>\n",
       "      <td>3</td>\n",
       "      <td>1</td>\n",
       "      <td>21.0750</td>\n",
       "    </tr>\n",
       "    <tr>\n",
       "      <th>8</th>\n",
       "      <td>1</td>\n",
       "      <td>3</td>\n",
       "      <td>Mrs. Oscar W (Elisabeth Vilhelmina Berg) Johnson</td>\n",
       "      <td>female</td>\n",
       "      <td>27.0</td>\n",
       "      <td>0</td>\n",
       "      <td>2</td>\n",
       "      <td>11.1333</td>\n",
       "    </tr>\n",
       "    <tr>\n",
       "      <th>9</th>\n",
       "      <td>1</td>\n",
       "      <td>2</td>\n",
       "      <td>Mrs. Nicholas (Adele Achem) Nasser</td>\n",
       "      <td>female</td>\n",
       "      <td>14.0</td>\n",
       "      <td>1</td>\n",
       "      <td>0</td>\n",
       "      <td>30.0708</td>\n",
       "    </tr>\n",
       "  </tbody>\n",
       "</table>\n",
       "</div>"
      ],
      "text/plain": [
       "   Survived  Pclass                                               Name  \\\n",
       "0         0       3                             Mr. Owen Harris Braund   \n",
       "1         1       1  Mrs. John Bradley (Florence Briggs Thayer) Cum...   \n",
       "2         1       3                              Miss. Laina Heikkinen   \n",
       "3         1       1        Mrs. Jacques Heath (Lily May Peel) Futrelle   \n",
       "4         0       3                            Mr. William Henry Allen   \n",
       "5         0       3                                    Mr. James Moran   \n",
       "6         0       1                             Mr. Timothy J McCarthy   \n",
       "7         0       3                      Master. Gosta Leonard Palsson   \n",
       "8         1       3   Mrs. Oscar W (Elisabeth Vilhelmina Berg) Johnson   \n",
       "9         1       2                 Mrs. Nicholas (Adele Achem) Nasser   \n",
       "\n",
       "      Sex   Age  Siblings/Spouses Aboard  Parents/Children Aboard     Fare  \n",
       "0    male  22.0                        1                        0   7.2500  \n",
       "1  female  38.0                        1                        0  71.2833  \n",
       "2  female  26.0                        0                        0   7.9250  \n",
       "3  female  35.0                        1                        0  53.1000  \n",
       "4    male  35.0                        0                        0   8.0500  \n",
       "5    male  27.0                        0                        0   8.4583  \n",
       "6    male   NaN                        0                        0  51.8625  \n",
       "7    male   2.0                        3                        1  21.0750  \n",
       "8  female  27.0                        0                        2  11.1333  \n",
       "9  female  14.0                        1                        0  30.0708  "
      ]
     },
     "execution_count": 28,
     "metadata": {},
     "output_type": "execute_result"
    }
   ],
   "source": [
    "ttc.head(10)"
   ]
  },
  {
   "cell_type": "code",
   "execution_count": 32,
   "id": "663ad725-ddeb-4885-a56a-4ebdc42ffa80",
   "metadata": {},
   "outputs": [
    {
     "data": {
      "text/html": [
       "<div>\n",
       "<style scoped>\n",
       "    .dataframe tbody tr th:only-of-type {\n",
       "        vertical-align: middle;\n",
       "    }\n",
       "\n",
       "    .dataframe tbody tr th {\n",
       "        vertical-align: top;\n",
       "    }\n",
       "\n",
       "    .dataframe thead th {\n",
       "        text-align: right;\n",
       "    }\n",
       "</style>\n",
       "<table border=\"1\" class=\"dataframe\">\n",
       "  <thead>\n",
       "    <tr style=\"text-align: right;\">\n",
       "      <th></th>\n",
       "      <th>Survived</th>\n",
       "      <th>Pclass</th>\n",
       "      <th>Name</th>\n",
       "      <th>Sex</th>\n",
       "      <th>Age</th>\n",
       "      <th>Siblings/Spouses Aboard</th>\n",
       "      <th>Parents/Children Aboard</th>\n",
       "      <th>Fare</th>\n",
       "    </tr>\n",
       "  </thead>\n",
       "  <tbody>\n",
       "    <tr>\n",
       "      <th>0</th>\n",
       "      <td>0</td>\n",
       "      <td>3</td>\n",
       "      <td>Mr. Owen Harris Braund</td>\n",
       "      <td>male</td>\n",
       "      <td>22.0</td>\n",
       "      <td>1</td>\n",
       "      <td>0</td>\n",
       "      <td>7.2500</td>\n",
       "    </tr>\n",
       "    <tr>\n",
       "      <th>1</th>\n",
       "      <td>1</td>\n",
       "      <td>1</td>\n",
       "      <td>Mrs. John Bradley (Florence Briggs Thayer) Cum...</td>\n",
       "      <td>female</td>\n",
       "      <td>38.0</td>\n",
       "      <td>1</td>\n",
       "      <td>0</td>\n",
       "      <td>71.2833</td>\n",
       "    </tr>\n",
       "    <tr>\n",
       "      <th>2</th>\n",
       "      <td>1</td>\n",
       "      <td>3</td>\n",
       "      <td>Miss. Laina Heikkinen</td>\n",
       "      <td>female</td>\n",
       "      <td>26.0</td>\n",
       "      <td>0</td>\n",
       "      <td>0</td>\n",
       "      <td>7.9250</td>\n",
       "    </tr>\n",
       "    <tr>\n",
       "      <th>3</th>\n",
       "      <td>1</td>\n",
       "      <td>1</td>\n",
       "      <td>Mrs. Jacques Heath (Lily May Peel) Futrelle</td>\n",
       "      <td>female</td>\n",
       "      <td>35.0</td>\n",
       "      <td>1</td>\n",
       "      <td>0</td>\n",
       "      <td>53.1000</td>\n",
       "    </tr>\n",
       "    <tr>\n",
       "      <th>4</th>\n",
       "      <td>0</td>\n",
       "      <td>3</td>\n",
       "      <td>Mr. William Henry Allen</td>\n",
       "      <td>male</td>\n",
       "      <td>35.0</td>\n",
       "      <td>0</td>\n",
       "      <td>0</td>\n",
       "      <td>8.0500</td>\n",
       "    </tr>\n",
       "    <tr>\n",
       "      <th>...</th>\n",
       "      <td>...</td>\n",
       "      <td>...</td>\n",
       "      <td>...</td>\n",
       "      <td>...</td>\n",
       "      <td>...</td>\n",
       "      <td>...</td>\n",
       "      <td>...</td>\n",
       "      <td>...</td>\n",
       "    </tr>\n",
       "    <tr>\n",
       "      <th>872</th>\n",
       "      <td>0</td>\n",
       "      <td>3</td>\n",
       "      <td>Mr. Alfred Ossian Gustafsson</td>\n",
       "      <td>male</td>\n",
       "      <td>20.0</td>\n",
       "      <td>0</td>\n",
       "      <td>0</td>\n",
       "      <td>9.8458</td>\n",
       "    </tr>\n",
       "    <tr>\n",
       "      <th>873</th>\n",
       "      <td>0</td>\n",
       "      <td>3</td>\n",
       "      <td>Mr. Nedelio Petroff</td>\n",
       "      <td>male</td>\n",
       "      <td>19.0</td>\n",
       "      <td>0</td>\n",
       "      <td>0</td>\n",
       "      <td>7.8958</td>\n",
       "    </tr>\n",
       "    <tr>\n",
       "      <th>874</th>\n",
       "      <td>0</td>\n",
       "      <td>3</td>\n",
       "      <td>Mr. Kristo Laleff</td>\n",
       "      <td>male</td>\n",
       "      <td>23.0</td>\n",
       "      <td>0</td>\n",
       "      <td>0</td>\n",
       "      <td>7.8958</td>\n",
       "    </tr>\n",
       "    <tr>\n",
       "      <th>875</th>\n",
       "      <td>1</td>\n",
       "      <td>1</td>\n",
       "      <td>Mrs. Thomas Jr (Lily Alexenia Wilson) Potter</td>\n",
       "      <td>female</td>\n",
       "      <td>56.0</td>\n",
       "      <td>0</td>\n",
       "      <td>1</td>\n",
       "      <td>83.1583</td>\n",
       "    </tr>\n",
       "    <tr>\n",
       "      <th>876</th>\n",
       "      <td>1</td>\n",
       "      <td>2</td>\n",
       "      <td>Mrs. William (Imanita Parrish Hall) Shelley</td>\n",
       "      <td>female</td>\n",
       "      <td>25.0</td>\n",
       "      <td>0</td>\n",
       "      <td>1</td>\n",
       "      <td>26.0000</td>\n",
       "    </tr>\n",
       "  </tbody>\n",
       "</table>\n",
       "<p>877 rows × 8 columns</p>\n",
       "</div>"
      ],
      "text/plain": [
       "     Survived  Pclass                                               Name  \\\n",
       "0           0       3                             Mr. Owen Harris Braund   \n",
       "1           1       1  Mrs. John Bradley (Florence Briggs Thayer) Cum...   \n",
       "2           1       3                              Miss. Laina Heikkinen   \n",
       "3           1       1        Mrs. Jacques Heath (Lily May Peel) Futrelle   \n",
       "4           0       3                            Mr. William Henry Allen   \n",
       "..        ...     ...                                                ...   \n",
       "872         0       3                       Mr. Alfred Ossian Gustafsson   \n",
       "873         0       3                                Mr. Nedelio Petroff   \n",
       "874         0       3                                  Mr. Kristo Laleff   \n",
       "875         1       1       Mrs. Thomas Jr (Lily Alexenia Wilson) Potter   \n",
       "876         1       2        Mrs. William (Imanita Parrish Hall) Shelley   \n",
       "\n",
       "        Sex   Age  Siblings/Spouses Aboard  Parents/Children Aboard     Fare  \n",
       "0      male  22.0                        1                        0   7.2500  \n",
       "1    female  38.0                        1                        0  71.2833  \n",
       "2    female  26.0                        0                        0   7.9250  \n",
       "3    female  35.0                        1                        0  53.1000  \n",
       "4      male  35.0                        0                        0   8.0500  \n",
       "..      ...   ...                      ...                      ...      ...  \n",
       "872    male  20.0                        0                        0   9.8458  \n",
       "873    male  19.0                        0                        0   7.8958  \n",
       "874    male  23.0                        0                        0   7.8958  \n",
       "875  female  56.0                        0                        1  83.1583  \n",
       "876  female  25.0                        0                        1  26.0000  \n",
       "\n",
       "[877 rows x 8 columns]"
      ]
     },
     "execution_count": 32,
     "metadata": {},
     "output_type": "execute_result"
    }
   ],
   "source": [
    "ttc.head(-10)"
   ]
  },
  {
   "cell_type": "code",
   "execution_count": 36,
   "id": "6a804dde-1547-45a9-823b-998ca8cea371",
   "metadata": {},
   "outputs": [
    {
     "data": {
      "text/plain": [
       "Index(['Survived', 'Pclass', 'Name', 'Sex', 'Age', 'Siblings/Spouses Aboard',\n",
       "       'Parents/Children Aboard', 'Fare'],\n",
       "      dtype='object')"
      ]
     },
     "execution_count": 36,
     "metadata": {},
     "output_type": "execute_result"
    }
   ],
   "source": [
    "ttc.columns"
   ]
  },
  {
   "cell_type": "code",
   "execution_count": 39,
   "id": "efa53138-fa1b-4f42-b4a5-cc0b7913bd5d",
   "metadata": {},
   "outputs": [
    {
     "data": {
      "text/plain": [
       "RangeIndex(start=0, stop=887, step=1)"
      ]
     },
     "execution_count": 39,
     "metadata": {},
     "output_type": "execute_result"
    }
   ],
   "source": [
    "ttc.index"
   ]
  },
  {
   "cell_type": "code",
   "execution_count": 40,
   "id": "9f55fb67-8f83-4bc4-ae90-b161eb72ba22",
   "metadata": {},
   "outputs": [
    {
     "data": {
      "text/plain": [
       "Survived                     int64\n",
       "Pclass                       int64\n",
       "Name                        object\n",
       "Sex                         object\n",
       "Age                        float64\n",
       "Siblings/Spouses Aboard      int64\n",
       "Parents/Children Aboard      int64\n",
       "Fare                       float64\n",
       "dtype: object"
      ]
     },
     "execution_count": 40,
     "metadata": {},
     "output_type": "execute_result"
    }
   ],
   "source": [
    "ttc.dtypes"
   ]
  },
  {
   "cell_type": "code",
   "execution_count": 42,
   "id": "f0127702-dcc3-41ed-96a5-120d85e8d9fb",
   "metadata": {},
   "outputs": [
    {
     "data": {
      "text/html": [
       "<div>\n",
       "<style scoped>\n",
       "    .dataframe tbody tr th:only-of-type {\n",
       "        vertical-align: middle;\n",
       "    }\n",
       "\n",
       "    .dataframe tbody tr th {\n",
       "        vertical-align: top;\n",
       "    }\n",
       "\n",
       "    .dataframe thead th {\n",
       "        text-align: right;\n",
       "    }\n",
       "</style>\n",
       "<table border=\"1\" class=\"dataframe\">\n",
       "  <thead>\n",
       "    <tr style=\"text-align: right;\">\n",
       "      <th></th>\n",
       "      <th>Survived</th>\n",
       "      <th>Pclass</th>\n",
       "      <th>Age</th>\n",
       "      <th>Siblings/Spouses Aboard</th>\n",
       "      <th>Parents/Children Aboard</th>\n",
       "      <th>Fare</th>\n",
       "    </tr>\n",
       "  </thead>\n",
       "  <tbody>\n",
       "    <tr>\n",
       "      <th>count</th>\n",
       "      <td>887.000000</td>\n",
       "      <td>887.000000</td>\n",
       "      <td>870.000000</td>\n",
       "      <td>887.000000</td>\n",
       "      <td>887.000000</td>\n",
       "      <td>887.00000</td>\n",
       "    </tr>\n",
       "    <tr>\n",
       "      <th>mean</th>\n",
       "      <td>0.385569</td>\n",
       "      <td>2.305524</td>\n",
       "      <td>29.425483</td>\n",
       "      <td>0.525366</td>\n",
       "      <td>0.383315</td>\n",
       "      <td>32.30542</td>\n",
       "    </tr>\n",
       "    <tr>\n",
       "      <th>std</th>\n",
       "      <td>0.487004</td>\n",
       "      <td>0.836662</td>\n",
       "      <td>14.154706</td>\n",
       "      <td>1.104669</td>\n",
       "      <td>0.807466</td>\n",
       "      <td>49.78204</td>\n",
       "    </tr>\n",
       "    <tr>\n",
       "      <th>min</th>\n",
       "      <td>0.000000</td>\n",
       "      <td>1.000000</td>\n",
       "      <td>0.420000</td>\n",
       "      <td>0.000000</td>\n",
       "      <td>0.000000</td>\n",
       "      <td>0.00000</td>\n",
       "    </tr>\n",
       "    <tr>\n",
       "      <th>25%</th>\n",
       "      <td>0.000000</td>\n",
       "      <td>2.000000</td>\n",
       "      <td>20.000000</td>\n",
       "      <td>0.000000</td>\n",
       "      <td>0.000000</td>\n",
       "      <td>7.92500</td>\n",
       "    </tr>\n",
       "    <tr>\n",
       "      <th>50%</th>\n",
       "      <td>0.000000</td>\n",
       "      <td>3.000000</td>\n",
       "      <td>28.000000</td>\n",
       "      <td>0.000000</td>\n",
       "      <td>0.000000</td>\n",
       "      <td>14.45420</td>\n",
       "    </tr>\n",
       "    <tr>\n",
       "      <th>75%</th>\n",
       "      <td>1.000000</td>\n",
       "      <td>3.000000</td>\n",
       "      <td>38.000000</td>\n",
       "      <td>1.000000</td>\n",
       "      <td>0.000000</td>\n",
       "      <td>31.13750</td>\n",
       "    </tr>\n",
       "    <tr>\n",
       "      <th>max</th>\n",
       "      <td>1.000000</td>\n",
       "      <td>3.000000</td>\n",
       "      <td>80.000000</td>\n",
       "      <td>8.000000</td>\n",
       "      <td>6.000000</td>\n",
       "      <td>512.32920</td>\n",
       "    </tr>\n",
       "  </tbody>\n",
       "</table>\n",
       "</div>"
      ],
      "text/plain": [
       "         Survived      Pclass         Age  Siblings/Spouses Aboard  \\\n",
       "count  887.000000  887.000000  870.000000               887.000000   \n",
       "mean     0.385569    2.305524   29.425483                 0.525366   \n",
       "std      0.487004    0.836662   14.154706                 1.104669   \n",
       "min      0.000000    1.000000    0.420000                 0.000000   \n",
       "25%      0.000000    2.000000   20.000000                 0.000000   \n",
       "50%      0.000000    3.000000   28.000000                 0.000000   \n",
       "75%      1.000000    3.000000   38.000000                 1.000000   \n",
       "max      1.000000    3.000000   80.000000                 8.000000   \n",
       "\n",
       "       Parents/Children Aboard       Fare  \n",
       "count               887.000000  887.00000  \n",
       "mean                  0.383315   32.30542  \n",
       "std                   0.807466   49.78204  \n",
       "min                   0.000000    0.00000  \n",
       "25%                   0.000000    7.92500  \n",
       "50%                   0.000000   14.45420  \n",
       "75%                   0.000000   31.13750  \n",
       "max                   6.000000  512.32920  "
      ]
     },
     "execution_count": 42,
     "metadata": {},
     "output_type": "execute_result"
    }
   ],
   "source": [
    "ttc.describe()"
   ]
  },
  {
   "cell_type": "code",
   "execution_count": 44,
   "id": "f0f32bbf-2de1-4f12-85ef-3ce8368d4b07",
   "metadata": {},
   "outputs": [
    {
     "data": {
      "text/html": [
       "<div>\n",
       "<style scoped>\n",
       "    .dataframe tbody tr th:only-of-type {\n",
       "        vertical-align: middle;\n",
       "    }\n",
       "\n",
       "    .dataframe tbody tr th {\n",
       "        vertical-align: top;\n",
       "    }\n",
       "\n",
       "    .dataframe thead th {\n",
       "        text-align: right;\n",
       "    }\n",
       "</style>\n",
       "<table border=\"1\" class=\"dataframe\">\n",
       "  <thead>\n",
       "    <tr style=\"text-align: right;\">\n",
       "      <th></th>\n",
       "      <th>Age</th>\n",
       "      <th>Fare</th>\n",
       "    </tr>\n",
       "  </thead>\n",
       "  <tbody>\n",
       "    <tr>\n",
       "      <th>count</th>\n",
       "      <td>870.000000</td>\n",
       "      <td>887.00000</td>\n",
       "    </tr>\n",
       "    <tr>\n",
       "      <th>mean</th>\n",
       "      <td>29.425483</td>\n",
       "      <td>32.30542</td>\n",
       "    </tr>\n",
       "    <tr>\n",
       "      <th>std</th>\n",
       "      <td>14.154706</td>\n",
       "      <td>49.78204</td>\n",
       "    </tr>\n",
       "    <tr>\n",
       "      <th>min</th>\n",
       "      <td>0.420000</td>\n",
       "      <td>0.00000</td>\n",
       "    </tr>\n",
       "    <tr>\n",
       "      <th>25%</th>\n",
       "      <td>20.000000</td>\n",
       "      <td>7.92500</td>\n",
       "    </tr>\n",
       "    <tr>\n",
       "      <th>50%</th>\n",
       "      <td>28.000000</td>\n",
       "      <td>14.45420</td>\n",
       "    </tr>\n",
       "    <tr>\n",
       "      <th>75%</th>\n",
       "      <td>38.000000</td>\n",
       "      <td>31.13750</td>\n",
       "    </tr>\n",
       "    <tr>\n",
       "      <th>max</th>\n",
       "      <td>80.000000</td>\n",
       "      <td>512.32920</td>\n",
       "    </tr>\n",
       "  </tbody>\n",
       "</table>\n",
       "</div>"
      ],
      "text/plain": [
       "              Age       Fare\n",
       "count  870.000000  887.00000\n",
       "mean    29.425483   32.30542\n",
       "std     14.154706   49.78204\n",
       "min      0.420000    0.00000\n",
       "25%     20.000000    7.92500\n",
       "50%     28.000000   14.45420\n",
       "75%     38.000000   31.13750\n",
       "max     80.000000  512.32920"
      ]
     },
     "execution_count": 44,
     "metadata": {},
     "output_type": "execute_result"
    }
   ],
   "source": [
    "ttc.describe()[['Age', 'Fare']]"
   ]
  },
  {
   "cell_type": "code",
   "execution_count": 45,
   "id": "be14c0d4-c02a-487f-91de-8a9c269f05f6",
   "metadata": {},
   "outputs": [
    {
     "name": "stdout",
     "output_type": "stream",
     "text": [
      "<class 'pandas.core.frame.DataFrame'>\n",
      "RangeIndex: 887 entries, 0 to 886\n",
      "Data columns (total 8 columns):\n",
      " #   Column                   Non-Null Count  Dtype  \n",
      "---  ------                   --------------  -----  \n",
      " 0   Survived                 887 non-null    int64  \n",
      " 1   Pclass                   887 non-null    int64  \n",
      " 2   Name                     887 non-null    object \n",
      " 3   Sex                      887 non-null    object \n",
      " 4   Age                      870 non-null    float64\n",
      " 5   Siblings/Spouses Aboard  887 non-null    int64  \n",
      " 6   Parents/Children Aboard  887 non-null    int64  \n",
      " 7   Fare                     887 non-null    float64\n",
      "dtypes: float64(2), int64(4), object(2)\n",
      "memory usage: 55.6+ KB\n"
     ]
    }
   ],
   "source": [
    "ttc.info()"
   ]
  },
  {
   "cell_type": "code",
   "execution_count": 54,
   "id": "51980a13-3d3a-44d1-9453-53c932b6fd07",
   "metadata": {},
   "outputs": [
    {
     "data": {
      "text/html": [
       "<div>\n",
       "<style scoped>\n",
       "    .dataframe tbody tr th:only-of-type {\n",
       "        vertical-align: middle;\n",
       "    }\n",
       "\n",
       "    .dataframe tbody tr th {\n",
       "        vertical-align: top;\n",
       "    }\n",
       "\n",
       "    .dataframe thead th {\n",
       "        text-align: right;\n",
       "    }\n",
       "</style>\n",
       "<table border=\"1\" class=\"dataframe\">\n",
       "  <thead>\n",
       "    <tr style=\"text-align: right;\">\n",
       "      <th></th>\n",
       "      <th>Survived</th>\n",
       "      <th>Pclass</th>\n",
       "      <th>Name</th>\n",
       "      <th>Sex</th>\n",
       "      <th>Age</th>\n",
       "      <th>Siblings/Spouses Aboard</th>\n",
       "      <th>Parents/Children Aboard</th>\n",
       "      <th>Fare</th>\n",
       "    </tr>\n",
       "  </thead>\n",
       "  <tbody>\n",
       "    <tr>\n",
       "      <th>0</th>\n",
       "      <td>False</td>\n",
       "      <td>False</td>\n",
       "      <td>False</td>\n",
       "      <td>False</td>\n",
       "      <td>False</td>\n",
       "      <td>False</td>\n",
       "      <td>False</td>\n",
       "      <td>False</td>\n",
       "    </tr>\n",
       "    <tr>\n",
       "      <th>1</th>\n",
       "      <td>False</td>\n",
       "      <td>False</td>\n",
       "      <td>False</td>\n",
       "      <td>False</td>\n",
       "      <td>False</td>\n",
       "      <td>False</td>\n",
       "      <td>False</td>\n",
       "      <td>False</td>\n",
       "    </tr>\n",
       "    <tr>\n",
       "      <th>2</th>\n",
       "      <td>False</td>\n",
       "      <td>False</td>\n",
       "      <td>False</td>\n",
       "      <td>False</td>\n",
       "      <td>False</td>\n",
       "      <td>False</td>\n",
       "      <td>False</td>\n",
       "      <td>False</td>\n",
       "    </tr>\n",
       "    <tr>\n",
       "      <th>3</th>\n",
       "      <td>False</td>\n",
       "      <td>False</td>\n",
       "      <td>False</td>\n",
       "      <td>False</td>\n",
       "      <td>False</td>\n",
       "      <td>False</td>\n",
       "      <td>False</td>\n",
       "      <td>False</td>\n",
       "    </tr>\n",
       "    <tr>\n",
       "      <th>4</th>\n",
       "      <td>False</td>\n",
       "      <td>False</td>\n",
       "      <td>False</td>\n",
       "      <td>False</td>\n",
       "      <td>False</td>\n",
       "      <td>False</td>\n",
       "      <td>False</td>\n",
       "      <td>False</td>\n",
       "    </tr>\n",
       "    <tr>\n",
       "      <th>...</th>\n",
       "      <td>...</td>\n",
       "      <td>...</td>\n",
       "      <td>...</td>\n",
       "      <td>...</td>\n",
       "      <td>...</td>\n",
       "      <td>...</td>\n",
       "      <td>...</td>\n",
       "      <td>...</td>\n",
       "    </tr>\n",
       "    <tr>\n",
       "      <th>882</th>\n",
       "      <td>False</td>\n",
       "      <td>False</td>\n",
       "      <td>False</td>\n",
       "      <td>False</td>\n",
       "      <td>False</td>\n",
       "      <td>False</td>\n",
       "      <td>False</td>\n",
       "      <td>False</td>\n",
       "    </tr>\n",
       "    <tr>\n",
       "      <th>883</th>\n",
       "      <td>False</td>\n",
       "      <td>False</td>\n",
       "      <td>False</td>\n",
       "      <td>False</td>\n",
       "      <td>False</td>\n",
       "      <td>False</td>\n",
       "      <td>False</td>\n",
       "      <td>False</td>\n",
       "    </tr>\n",
       "    <tr>\n",
       "      <th>884</th>\n",
       "      <td>False</td>\n",
       "      <td>False</td>\n",
       "      <td>False</td>\n",
       "      <td>False</td>\n",
       "      <td>False</td>\n",
       "      <td>False</td>\n",
       "      <td>False</td>\n",
       "      <td>False</td>\n",
       "    </tr>\n",
       "    <tr>\n",
       "      <th>885</th>\n",
       "      <td>False</td>\n",
       "      <td>False</td>\n",
       "      <td>False</td>\n",
       "      <td>False</td>\n",
       "      <td>False</td>\n",
       "      <td>False</td>\n",
       "      <td>False</td>\n",
       "      <td>False</td>\n",
       "    </tr>\n",
       "    <tr>\n",
       "      <th>886</th>\n",
       "      <td>False</td>\n",
       "      <td>False</td>\n",
       "      <td>False</td>\n",
       "      <td>False</td>\n",
       "      <td>False</td>\n",
       "      <td>False</td>\n",
       "      <td>False</td>\n",
       "      <td>False</td>\n",
       "    </tr>\n",
       "  </tbody>\n",
       "</table>\n",
       "<p>887 rows × 8 columns</p>\n",
       "</div>"
      ],
      "text/plain": [
       "     Survived  Pclass   Name    Sex    Age  Siblings/Spouses Aboard  \\\n",
       "0       False   False  False  False  False                    False   \n",
       "1       False   False  False  False  False                    False   \n",
       "2       False   False  False  False  False                    False   \n",
       "3       False   False  False  False  False                    False   \n",
       "4       False   False  False  False  False                    False   \n",
       "..        ...     ...    ...    ...    ...                      ...   \n",
       "882     False   False  False  False  False                    False   \n",
       "883     False   False  False  False  False                    False   \n",
       "884     False   False  False  False  False                    False   \n",
       "885     False   False  False  False  False                    False   \n",
       "886     False   False  False  False  False                    False   \n",
       "\n",
       "     Parents/Children Aboard   Fare  \n",
       "0                      False  False  \n",
       "1                      False  False  \n",
       "2                      False  False  \n",
       "3                      False  False  \n",
       "4                      False  False  \n",
       "..                       ...    ...  \n",
       "882                    False  False  \n",
       "883                    False  False  \n",
       "884                    False  False  \n",
       "885                    False  False  \n",
       "886                    False  False  \n",
       "\n",
       "[887 rows x 8 columns]"
      ]
     },
     "execution_count": 54,
     "metadata": {},
     "output_type": "execute_result"
    }
   ],
   "source": [
    "ttc.isna()"
   ]
  },
  {
   "cell_type": "code",
   "execution_count": 55,
   "id": "8113f1f2-797d-4382-91f4-b782776e0900",
   "metadata": {},
   "outputs": [
    {
     "data": {
      "text/plain": [
       "0      False\n",
       "1      False\n",
       "2      False\n",
       "3      False\n",
       "4      False\n",
       "       ...  \n",
       "882    False\n",
       "883    False\n",
       "884    False\n",
       "885    False\n",
       "886    False\n",
       "Name: Age, Length: 887, dtype: bool"
      ]
     },
     "execution_count": 55,
     "metadata": {},
     "output_type": "execute_result"
    }
   ],
   "source": [
    "ttc.isna()['Age']"
   ]
  },
  {
   "cell_type": "code",
   "execution_count": 56,
   "id": "2cdb38f1-7743-4b0f-bd13-835610fa3fb0",
   "metadata": {},
   "outputs": [
    {
     "data": {
      "text/html": [
       "<div>\n",
       "<style scoped>\n",
       "    .dataframe tbody tr th:only-of-type {\n",
       "        vertical-align: middle;\n",
       "    }\n",
       "\n",
       "    .dataframe tbody tr th {\n",
       "        vertical-align: top;\n",
       "    }\n",
       "\n",
       "    .dataframe thead th {\n",
       "        text-align: right;\n",
       "    }\n",
       "</style>\n",
       "<table border=\"1\" class=\"dataframe\">\n",
       "  <thead>\n",
       "    <tr style=\"text-align: right;\">\n",
       "      <th></th>\n",
       "      <th>Survived</th>\n",
       "      <th>Pclass</th>\n",
       "      <th>Name</th>\n",
       "      <th>Sex</th>\n",
       "      <th>Age</th>\n",
       "      <th>Siblings/Spouses Aboard</th>\n",
       "      <th>Parents/Children Aboard</th>\n",
       "      <th>Fare</th>\n",
       "    </tr>\n",
       "  </thead>\n",
       "  <tbody>\n",
       "    <tr>\n",
       "      <th>6</th>\n",
       "      <td>0</td>\n",
       "      <td>1</td>\n",
       "      <td>Mr. Timothy J McCarthy</td>\n",
       "      <td>male</td>\n",
       "      <td>NaN</td>\n",
       "      <td>0</td>\n",
       "      <td>0</td>\n",
       "      <td>51.8625</td>\n",
       "    </tr>\n",
       "    <tr>\n",
       "      <th>25</th>\n",
       "      <td>1</td>\n",
       "      <td>3</td>\n",
       "      <td>Mrs. Carl Oscar (Selma Augusta Emilia Johansso...</td>\n",
       "      <td>female</td>\n",
       "      <td>NaN</td>\n",
       "      <td>1</td>\n",
       "      <td>5</td>\n",
       "      <td>31.3875</td>\n",
       "    </tr>\n",
       "    <tr>\n",
       "      <th>44</th>\n",
       "      <td>0</td>\n",
       "      <td>3</td>\n",
       "      <td>Mr. William John Rogers</td>\n",
       "      <td>male</td>\n",
       "      <td>NaN</td>\n",
       "      <td>0</td>\n",
       "      <td>0</td>\n",
       "      <td>8.0500</td>\n",
       "    </tr>\n",
       "    <tr>\n",
       "      <th>63</th>\n",
       "      <td>0</td>\n",
       "      <td>1</td>\n",
       "      <td>Mr. Albert A Stewart</td>\n",
       "      <td>male</td>\n",
       "      <td>NaN</td>\n",
       "      <td>0</td>\n",
       "      <td>0</td>\n",
       "      <td>27.7208</td>\n",
       "    </tr>\n",
       "    <tr>\n",
       "      <th>90</th>\n",
       "      <td>0</td>\n",
       "      <td>3</td>\n",
       "      <td>Mr. Paul Edvin Andreasson</td>\n",
       "      <td>male</td>\n",
       "      <td>NaN</td>\n",
       "      <td>0</td>\n",
       "      <td>0</td>\n",
       "      <td>7.8542</td>\n",
       "    </tr>\n",
       "    <tr>\n",
       "      <th>102</th>\n",
       "      <td>0</td>\n",
       "      <td>3</td>\n",
       "      <td>Mr. Gustaf Joel Johansson</td>\n",
       "      <td>male</td>\n",
       "      <td>NaN</td>\n",
       "      <td>0</td>\n",
       "      <td>0</td>\n",
       "      <td>8.6542</td>\n",
       "    </tr>\n",
       "    <tr>\n",
       "      <th>103</th>\n",
       "      <td>0</td>\n",
       "      <td>3</td>\n",
       "      <td>Mr. Anders Vilhelm Gustafsson</td>\n",
       "      <td>male</td>\n",
       "      <td>NaN</td>\n",
       "      <td>2</td>\n",
       "      <td>0</td>\n",
       "      <td>7.9250</td>\n",
       "    </tr>\n",
       "    <tr>\n",
       "      <th>104</th>\n",
       "      <td>0</td>\n",
       "      <td>3</td>\n",
       "      <td>Mr. Stoytcho Mionoff</td>\n",
       "      <td>male</td>\n",
       "      <td>NaN</td>\n",
       "      <td>0</td>\n",
       "      <td>0</td>\n",
       "      <td>7.8958</td>\n",
       "    </tr>\n",
       "    <tr>\n",
       "      <th>105</th>\n",
       "      <td>1</td>\n",
       "      <td>3</td>\n",
       "      <td>Miss. Anna Kristine Salkjelsvik</td>\n",
       "      <td>female</td>\n",
       "      <td>NaN</td>\n",
       "      <td>0</td>\n",
       "      <td>0</td>\n",
       "      <td>7.6500</td>\n",
       "    </tr>\n",
       "    <tr>\n",
       "      <th>106</th>\n",
       "      <td>1</td>\n",
       "      <td>3</td>\n",
       "      <td>Mr. Albert Johan Moss</td>\n",
       "      <td>male</td>\n",
       "      <td>NaN</td>\n",
       "      <td>0</td>\n",
       "      <td>0</td>\n",
       "      <td>7.7750</td>\n",
       "    </tr>\n",
       "    <tr>\n",
       "      <th>107</th>\n",
       "      <td>0</td>\n",
       "      <td>3</td>\n",
       "      <td>Mr. Tido Rekic</td>\n",
       "      <td>male</td>\n",
       "      <td>NaN</td>\n",
       "      <td>0</td>\n",
       "      <td>0</td>\n",
       "      <td>7.8958</td>\n",
       "    </tr>\n",
       "    <tr>\n",
       "      <th>132</th>\n",
       "      <td>1</td>\n",
       "      <td>2</td>\n",
       "      <td>Mrs. Leopold (Mathilde Francoise Pede) Weisz</td>\n",
       "      <td>female</td>\n",
       "      <td>NaN</td>\n",
       "      <td>1</td>\n",
       "      <td>0</td>\n",
       "      <td>26.0000</td>\n",
       "    </tr>\n",
       "    <tr>\n",
       "      <th>133</th>\n",
       "      <td>0</td>\n",
       "      <td>2</td>\n",
       "      <td>Mr. Samuel James Hayden Sobey</td>\n",
       "      <td>male</td>\n",
       "      <td>NaN</td>\n",
       "      <td>0</td>\n",
       "      <td>0</td>\n",
       "      <td>13.0000</td>\n",
       "    </tr>\n",
       "    <tr>\n",
       "      <th>134</th>\n",
       "      <td>0</td>\n",
       "      <td>2</td>\n",
       "      <td>Mr. Emile Richard</td>\n",
       "      <td>male</td>\n",
       "      <td>NaN</td>\n",
       "      <td>0</td>\n",
       "      <td>0</td>\n",
       "      <td>15.0458</td>\n",
       "    </tr>\n",
       "    <tr>\n",
       "      <th>135</th>\n",
       "      <td>1</td>\n",
       "      <td>1</td>\n",
       "      <td>Miss. Helen Monypeny Newsom</td>\n",
       "      <td>female</td>\n",
       "      <td>NaN</td>\n",
       "      <td>0</td>\n",
       "      <td>2</td>\n",
       "      <td>26.2833</td>\n",
       "    </tr>\n",
       "    <tr>\n",
       "      <th>136</th>\n",
       "      <td>0</td>\n",
       "      <td>1</td>\n",
       "      <td>Mr. Jacques Heath Futrelle</td>\n",
       "      <td>male</td>\n",
       "      <td>NaN</td>\n",
       "      <td>1</td>\n",
       "      <td>0</td>\n",
       "      <td>53.1000</td>\n",
       "    </tr>\n",
       "    <tr>\n",
       "      <th>137</th>\n",
       "      <td>0</td>\n",
       "      <td>3</td>\n",
       "      <td>Mr. Olaf Elon Osen</td>\n",
       "      <td>male</td>\n",
       "      <td>NaN</td>\n",
       "      <td>0</td>\n",
       "      <td>0</td>\n",
       "      <td>9.2167</td>\n",
       "    </tr>\n",
       "  </tbody>\n",
       "</table>\n",
       "</div>"
      ],
      "text/plain": [
       "     Survived  Pclass                                               Name  \\\n",
       "6           0       1                             Mr. Timothy J McCarthy   \n",
       "25          1       3  Mrs. Carl Oscar (Selma Augusta Emilia Johansso...   \n",
       "44          0       3                            Mr. William John Rogers   \n",
       "63          0       1                               Mr. Albert A Stewart   \n",
       "90          0       3                          Mr. Paul Edvin Andreasson   \n",
       "102         0       3                          Mr. Gustaf Joel Johansson   \n",
       "103         0       3                      Mr. Anders Vilhelm Gustafsson   \n",
       "104         0       3                               Mr. Stoytcho Mionoff   \n",
       "105         1       3                    Miss. Anna Kristine Salkjelsvik   \n",
       "106         1       3                              Mr. Albert Johan Moss   \n",
       "107         0       3                                     Mr. Tido Rekic   \n",
       "132         1       2       Mrs. Leopold (Mathilde Francoise Pede) Weisz   \n",
       "133         0       2                      Mr. Samuel James Hayden Sobey   \n",
       "134         0       2                                  Mr. Emile Richard   \n",
       "135         1       1                        Miss. Helen Monypeny Newsom   \n",
       "136         0       1                         Mr. Jacques Heath Futrelle   \n",
       "137         0       3                                 Mr. Olaf Elon Osen   \n",
       "\n",
       "        Sex  Age  Siblings/Spouses Aboard  Parents/Children Aboard     Fare  \n",
       "6      male  NaN                        0                        0  51.8625  \n",
       "25   female  NaN                        1                        5  31.3875  \n",
       "44     male  NaN                        0                        0   8.0500  \n",
       "63     male  NaN                        0                        0  27.7208  \n",
       "90     male  NaN                        0                        0   7.8542  \n",
       "102    male  NaN                        0                        0   8.6542  \n",
       "103    male  NaN                        2                        0   7.9250  \n",
       "104    male  NaN                        0                        0   7.8958  \n",
       "105  female  NaN                        0                        0   7.6500  \n",
       "106    male  NaN                        0                        0   7.7750  \n",
       "107    male  NaN                        0                        0   7.8958  \n",
       "132  female  NaN                        1                        0  26.0000  \n",
       "133    male  NaN                        0                        0  13.0000  \n",
       "134    male  NaN                        0                        0  15.0458  \n",
       "135  female  NaN                        0                        2  26.2833  \n",
       "136    male  NaN                        1                        0  53.1000  \n",
       "137    male  NaN                        0                        0   9.2167  "
      ]
     },
     "execution_count": 56,
     "metadata": {},
     "output_type": "execute_result"
    }
   ],
   "source": [
    "ttc[ttc.isna()['Age']==True]"
   ]
  },
  {
   "cell_type": "code",
   "execution_count": 57,
   "id": "9a356580-439a-42cc-b0f7-5073de589f4b",
   "metadata": {},
   "outputs": [
    {
     "data": {
      "text/plain": [
       "6     NaN\n",
       "25    NaN\n",
       "44    NaN\n",
       "63    NaN\n",
       "90    NaN\n",
       "102   NaN\n",
       "103   NaN\n",
       "104   NaN\n",
       "105   NaN\n",
       "106   NaN\n",
       "107   NaN\n",
       "132   NaN\n",
       "133   NaN\n",
       "134   NaN\n",
       "135   NaN\n",
       "136   NaN\n",
       "137   NaN\n",
       "Name: Age, dtype: float64"
      ]
     },
     "execution_count": 57,
     "metadata": {},
     "output_type": "execute_result"
    }
   ],
   "source": [
    "ttc.Age[ttc.isna()['Age']==True]"
   ]
  },
  {
   "cell_type": "code",
   "execution_count": 58,
   "id": "c3a60fdd-8bd9-4bbc-956e-dbedf2c8411b",
   "metadata": {},
   "outputs": [
    {
     "data": {
      "text/plain": [
       "Survived                    0\n",
       "Pclass                      0\n",
       "Name                        0\n",
       "Sex                         0\n",
       "Age                        17\n",
       "Siblings/Spouses Aboard     0\n",
       "Parents/Children Aboard     0\n",
       "Fare                        0\n",
       "dtype: int64"
      ]
     },
     "execution_count": 58,
     "metadata": {},
     "output_type": "execute_result"
    }
   ],
   "source": [
    "ttc.isna().sum()"
   ]
  },
  {
   "cell_type": "code",
   "execution_count": 60,
   "id": "3b56fb44-abba-4a7b-a66d-1d2b0d0d45c6",
   "metadata": {},
   "outputs": [
    {
     "data": {
      "text/plain": [
       "(887, 8)"
      ]
     },
     "execution_count": 60,
     "metadata": {},
     "output_type": "execute_result"
    }
   ],
   "source": [
    "ttc.shape"
   ]
  },
  {
   "cell_type": "code",
   "execution_count": 62,
   "id": "ea1d401c-a07b-4ceb-a8f9-421670b3af4c",
   "metadata": {},
   "outputs": [
    {
     "data": {
      "text/plain": [
       "0        male\n",
       "1      female\n",
       "2      female\n",
       "3      female\n",
       "4        male\n",
       "        ...  \n",
       "882      male\n",
       "883    female\n",
       "884    female\n",
       "885      male\n",
       "886      male\n",
       "Name: Sex, Length: 887, dtype: object"
      ]
     },
     "execution_count": 62,
     "metadata": {},
     "output_type": "execute_result"
    }
   ],
   "source": [
    "ttc.Sex"
   ]
  },
  {
   "cell_type": "code",
   "execution_count": 66,
   "id": "70f064be-7942-4ae2-b806-8d47c634042a",
   "metadata": {},
   "outputs": [
    {
     "data": {
      "text/plain": [
       "Sex\n",
       "male      573\n",
       "female    314\n",
       "Name: count, dtype: int64"
      ]
     },
     "execution_count": 66,
     "metadata": {},
     "output_type": "execute_result"
    }
   ],
   "source": [
    "ttc.Sex.value_counts()"
   ]
  },
  {
   "cell_type": "code",
   "execution_count": 67,
   "id": "785650d1-a722-42ba-9d9e-b2edab57f623",
   "metadata": {},
   "outputs": [
    {
     "data": {
      "text/plain": [
       "<Axes: xlabel='Sex'>"
      ]
     },
     "execution_count": 67,
     "metadata": {},
     "output_type": "execute_result"
    },
    {
     "data": {
      "image/png": "[encoded data removed]",
      "text/plain": [
       "<Figure size 640x480 with 1 Axes>"
      ]
     },
     "metadata": {},
     "output_type": "display_data"
    }
   ],
   "source": [
    "ttc.Sex.value_counts().plot()"
   ]
  },
  {
   "cell_type": "code",
   "execution_count": 68,
   "id": "8ad99aac-25f9-4837-acc5-e4ff9b3c1fe9",
   "metadata": {},
   "outputs": [
    {
     "data": {
      "text/plain": [
       "<Axes: xlabel='Sex'>"
      ]
     },
     "execution_count": 68,
     "metadata": {},
     "output_type": "execute_result"
    },
    {
     "data": {
      "image/png": "[encoded data removed]",
      "text/plain": [
       "<Figure size 640x480 with 1 Axes>"
      ]
     },
     "metadata": {},
     "output_type": "display_data"
    }
   ],
   "source": [
    "ttc.Sex.value_counts().plot(kind='bar')"
   ]
  },
  {
   "cell_type": "code",
   "execution_count": 69,
   "id": "f3dd92e9-1327-4d09-9f42-45ab45112742",
   "metadata": {},
   "outputs": [
    {
     "data": {
      "text/plain": [
       "<Axes: ylabel='count'>"
      ]
     },
     "execution_count": 69,
     "metadata": {},
     "output_type": "execute_result"
    },
    {
     "data": {
      "image/png": "[encoded data removed]",
      "text/plain": [
       "<Figure size 640x480 with 1 Axes>"
      ]
     },
     "metadata": {},
     "output_type": "display_data"
    }
   ],
   "source": [
    "ttc.Sex.value_counts().plot(kind='pie')"
   ]
  },
  {
   "cell_type": "code",
   "execution_count": null,
   "id": "c0ac60d7-19cd-46fe-97b7-757c40125362",
   "metadata": {},
   "outputs": [],
   "source": []
  },
  {
   "cell_type": "code",
   "execution_count": 73,
   "id": "2d4bea92-7e10-41ff-adf3-73410d2ad244",
   "metadata": {},
   "outputs": [
    {
     "ename": "ValueError",
     "evalue": "2d is not a valid plot kind",
     "output_type": "error",
     "traceback": [
      "\u001b[0;31m---------------------------------------------------------------------------\u001b[0m",
      "\u001b[0;31mValueError\u001b[0m                                Traceback (most recent call last)",
      "Cell \u001b[0;32mIn[73], line 1\u001b[0m\n\u001b[0;32m----> 1\u001b[0m ttc\u001b[38;5;241m.\u001b[39mSex\u001b[38;5;241m.\u001b[39mvalue_counts()\u001b[38;5;241m.\u001b[39mplot(kind\u001b[38;5;241m=\u001b[39m\u001b[38;5;124m'\u001b[39m\u001b[38;5;124m2d\u001b[39m\u001b[38;5;124m'\u001b[39m)\n",
      "File \u001b[0;32m/opt/anaconda3/lib/python3.11/site-packages/pandas/plotting/_core.py:964\u001b[0m, in \u001b[0;36mPlotAccessor.__call__\u001b[0;34m(self, *args, **kwargs)\u001b[0m\n\u001b[1;32m    961\u001b[0m     \u001b[38;5;28;01mreturn\u001b[39;00m plot_backend\u001b[38;5;241m.\u001b[39mplot(\u001b[38;5;28mself\u001b[39m\u001b[38;5;241m.\u001b[39m_parent, x\u001b[38;5;241m=\u001b[39mx, y\u001b[38;5;241m=\u001b[39my, kind\u001b[38;5;241m=\u001b[39mkind, \u001b[38;5;241m*\u001b[39m\u001b[38;5;241m*\u001b[39mkwargs)\n\u001b[1;32m    963\u001b[0m \u001b[38;5;28;01mif\u001b[39;00m kind \u001b[38;5;129;01mnot\u001b[39;00m \u001b[38;5;129;01min\u001b[39;00m \u001b[38;5;28mself\u001b[39m\u001b[38;5;241m.\u001b[39m_all_kinds:\n\u001b[0;32m--> 964\u001b[0m     \u001b[38;5;28;01mraise\u001b[39;00m \u001b[38;5;167;01mValueError\u001b[39;00m(\u001b[38;5;124mf\u001b[39m\u001b[38;5;124m\"\u001b[39m\u001b[38;5;132;01m{\u001b[39;00mkind\u001b[38;5;132;01m}\u001b[39;00m\u001b[38;5;124m is not a valid plot kind\u001b[39m\u001b[38;5;124m\"\u001b[39m)\n\u001b[1;32m    966\u001b[0m \u001b[38;5;66;03m# The original data structured can be transformed before passed to the\u001b[39;00m\n\u001b[1;32m    967\u001b[0m \u001b[38;5;66;03m# backend. For example, for DataFrame is common to set the index as the\u001b[39;00m\n\u001b[1;32m    968\u001b[0m \u001b[38;5;66;03m# `x` parameter, and return a Series with the parameter `y` as values.\u001b[39;00m\n\u001b[1;32m    969\u001b[0m data \u001b[38;5;241m=\u001b[39m \u001b[38;5;28mself\u001b[39m\u001b[38;5;241m.\u001b[39m_parent\u001b[38;5;241m.\u001b[39mcopy()\n",
      "\u001b[0;31mValueError\u001b[0m: 2d is not a valid plot kind"
     ]
    }
   ],
   "source": [
    "ttc.Sex.value_counts().plot(kind='2d')"
   ]
  },
  {
   "cell_type": "code",
   "execution_count": null,
   "id": "098321d3-15d1-4957-9db7-dfa2a30e369a",
   "metadata": {},
   "outputs": [],
   "source": []
  },
  {
   "cell_type": "code",
   "execution_count": null,
   "id": "d2d794fa-9fb0-467f-bdaf-2bfe018ea9e1",
   "metadata": {},
   "outputs": [],
   "source": []
  },
  {
   "cell_type": "code",
   "execution_count": null,
   "id": "b490ce34-f9f2-4b2e-90d8-b0df7bdd4b95",
   "metadata": {},
   "outputs": [],
   "source": []
  },
  {
   "cell_type": "code",
   "execution_count": null,
   "id": "9d60ee44-6fe0-483e-a8a5-121768c31d44",
   "metadata": {},
   "outputs": [],
   "source": []
  },
  {
   "cell_type": "code",
   "execution_count": null,
   "id": "7b30bfe1-7d87-452a-8c14-4516b32e1d9d",
   "metadata": {},
   "outputs": [],
   "source": []
  }
 ],
 "metadata": {
  "kernelspec": {
   "display_name": "Python 3 (ipykernel)",
   "language": "python",
   "name": "python3"
  },
  "language_info": {
   "codemirror_mode": {
    "name": "ipython",
    "version": 3
   },
   "file_extension": ".py",
   "mimetype": "text/x-python",
   "name": "python",
   "nbconvert_exporter": "python",
   "pygments_lexer": "ipython3",
   "version": "3.11.7"
  }
 },
 "nbformat": 4,
 "nbformat_minor": 5
}
